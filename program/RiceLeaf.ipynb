{
 "cells": [
  {
   "cell_type": "markdown",
   "id": "de22814e",
   "metadata": {},
   "source": [
    "# Import all the Dependencies"
   ]
  },
  {
   "cell_type": "code",
   "execution_count": 1,
   "id": "38b1d81d",
   "metadata": {},
   "outputs": [],
   "source": [
    "from keras.models import Sequential\n",
    "from keras.layers import Conv2D\n",
    "from keras.layers import MaxPooling2D\n",
    "from keras.layers import Flatten\n",
    "from keras.layers import Dense\n",
    "import tensorflow as tf\n",
    "\n",
    "# initializing the CNN\n",
    "\n",
    "CNN_Classifier=Sequential()\n",
    "\n",
    "# step 1 convolution\n",
    "CNN_Classifier.add(Conv2D(32,3,3,input_shape=(64,64,3),activation='relu'))\n",
    "\n",
    "#Step 2 pooling\n",
    "\n",
    "CNN_Classifier.add(MaxPooling2D(pool_size=(2,2)))\n",
    "\n",
    "# step 1 convolution\n",
    "CNN_Classifier.add(Conv2D(32,3,3,activation='relu'))\n",
    "\n",
    "#Step 2 pooling\n",
    "\n",
    "CNN_Classifier.add(MaxPooling2D(pool_size=(2,2)))\n",
    "\n",
    "# flattening\n",
    "\n",
    "CNN_Classifier.add(Flatten())\n",
    "\n",
    "# step 4 Full connection\n",
    "\n",
    "CNN_Classifier.add(Dense(units=128, activation='relu'))\n",
    "CNN_Classifier.add(Dense(units=128, activation='sigmoid'))\n",
    " \n",
    "#compiling the cnn()\n",
    "CNN_Classifier.compile(optimizer='adam',loss = tf.keras.losses.SparseCategoricalCrossentropy(from_logits=True), metrics=['accuracy'])"
   ]
  },
  {
   "cell_type": "markdown",
   "id": "484e8139",
   "metadata": {},
   "source": [
    "# Summary"
   ]
  },
  {
   "cell_type": "code",
   "execution_count": 20,
   "id": "3bf1f0f8",
   "metadata": {},
   "outputs": [
    {
     "name": "stdout",
     "output_type": "stream",
     "text": [
      "Model: \"sequential\"\n",
      "_________________________________________________________________\n",
      " Layer (type)                Output Shape              Param #   \n",
      "=================================================================\n",
      " conv2d (Conv2D)             (None, 21, 21, 32)        896       \n",
      "                                                                 \n",
      " max_pooling2d (MaxPooling2D  (None, 10, 10, 32)       0         \n",
      " )                                                               \n",
      "                                                                 \n",
      " conv2d_1 (Conv2D)           (None, 3, 3, 32)          9248      \n",
      "                                                                 \n",
      " max_pooling2d_1 (MaxPooling  (None, 1, 1, 32)         0         \n",
      " 2D)                                                             \n",
      "                                                                 \n",
      " flatten (Flatten)           (None, 32)                0         \n",
      "                                                                 \n",
      " dense (Dense)               (None, 128)               4224      \n",
      "                                                                 \n",
      " dense_1 (Dense)             (None, 128)               16512     \n",
      "                                                                 \n",
      "=================================================================\n",
      "Total params: 30,880\n",
      "Trainable params: 30,880\n",
      "Non-trainable params: 0\n",
      "_________________________________________________________________\n"
     ]
    }
   ],
   "source": [
    "CNN_Classifier.summary()"
   ]
  },
  {
   "cell_type": "markdown",
   "id": "3ab45627",
   "metadata": {},
   "source": [
    "# Building and Compiling the Model"
   ]
  },
  {
   "cell_type": "code",
   "execution_count": 10,
   "id": "8a6dca35",
   "metadata": {},
   "outputs": [
    {
     "name": "stdout",
     "output_type": "stream",
     "text": [
      "Found 2167 images belonging to 6 classes.\n",
      "Found 543 images belonging to 6 classes.\n",
      "Epoch 1/50\n",
      "68/68 [==============================] - 196s 3s/step - loss: 0.1657 - accuracy: 0.9363 - val_loss: 0.2552 - val_accuracy: 0.9006\n",
      "Epoch 2/50\n",
      "68/68 [==============================] - 195s 3s/step - loss: 0.1484 - accuracy: 0.9419 - val_loss: 0.2743 - val_accuracy: 0.9024\n",
      "Epoch 3/50\n",
      "68/68 [==============================] - 197s 3s/step - loss: 0.1639 - accuracy: 0.9377 - val_loss: 0.2814 - val_accuracy: 0.8987\n",
      "Epoch 4/50\n",
      "68/68 [==============================] - 227s 3s/step - loss: 0.1463 - accuracy: 0.9442 - val_loss: 0.2743 - val_accuracy: 0.9024\n",
      "Epoch 5/50\n",
      "68/68 [==============================] - 246s 4s/step - loss: 0.1732 - accuracy: 0.9432 - val_loss: 0.2460 - val_accuracy: 0.9208\n",
      "Epoch 6/50\n",
      "68/68 [==============================] - 229s 3s/step - loss: 0.1583 - accuracy: 0.9368 - val_loss: 0.2866 - val_accuracy: 0.9006\n",
      "Epoch 7/50\n",
      "68/68 [==============================] - 219s 3s/step - loss: 0.1618 - accuracy: 0.9419 - val_loss: 0.3224 - val_accuracy: 0.8821\n",
      "Epoch 8/50\n",
      "68/68 [==============================] - 208s 3s/step - loss: 0.1677 - accuracy: 0.9322 - val_loss: 0.3456 - val_accuracy: 0.8913\n",
      "Epoch 9/50\n",
      "68/68 [==============================] - 200s 3s/step - loss: 0.1717 - accuracy: 0.9409 - val_loss: 0.2712 - val_accuracy: 0.9079\n",
      "Epoch 10/50\n",
      "68/68 [==============================] - 195s 3s/step - loss: 0.1585 - accuracy: 0.9359 - val_loss: 0.3220 - val_accuracy: 0.8913\n",
      "Epoch 11/50\n",
      "68/68 [==============================] - 202s 3s/step - loss: 0.1533 - accuracy: 0.9405 - val_loss: 0.2618 - val_accuracy: 0.9116\n",
      "Epoch 12/50\n",
      "68/68 [==============================] - 197s 3s/step - loss: 0.1436 - accuracy: 0.9437 - val_loss: 0.2902 - val_accuracy: 0.9153\n",
      "Epoch 13/50\n",
      "68/68 [==============================] - 198s 3s/step - loss: 0.1676 - accuracy: 0.9372 - val_loss: 0.2973 - val_accuracy: 0.9024\n",
      "Epoch 14/50\n",
      "68/68 [==============================] - 198s 3s/step - loss: 0.1386 - accuracy: 0.9506 - val_loss: 0.2725 - val_accuracy: 0.9134\n",
      "Epoch 15/50\n",
      "68/68 [==============================] - 199s 3s/step - loss: 0.1448 - accuracy: 0.9465 - val_loss: 0.2870 - val_accuracy: 0.9153\n",
      "Epoch 16/50\n",
      "68/68 [==============================] - 240s 4s/step - loss: 0.1444 - accuracy: 0.9465 - val_loss: 0.2892 - val_accuracy: 0.9153\n",
      "Epoch 17/50\n",
      "68/68 [==============================] - 167s 2s/step - loss: 0.1537 - accuracy: 0.9428 - val_loss: 0.2712 - val_accuracy: 0.9171\n",
      "Epoch 18/50\n",
      "68/68 [==============================] - 187s 3s/step - loss: 0.1496 - accuracy: 0.9409 - val_loss: 0.3482 - val_accuracy: 0.8913\n",
      "Epoch 19/50\n",
      "68/68 [==============================] - 200s 3s/step - loss: 0.1457 - accuracy: 0.9432 - val_loss: 0.3006 - val_accuracy: 0.9024\n",
      "Epoch 20/50\n",
      "68/68 [==============================] - 193s 3s/step - loss: 0.1529 - accuracy: 0.9428 - val_loss: 0.3554 - val_accuracy: 0.8785\n",
      "Epoch 21/50\n",
      "68/68 [==============================] - 190s 3s/step - loss: 0.1418 - accuracy: 0.9460 - val_loss: 0.2634 - val_accuracy: 0.9042\n",
      "Epoch 22/50\n",
      "68/68 [==============================] - 198s 3s/step - loss: 0.1526 - accuracy: 0.9437 - val_loss: 0.2928 - val_accuracy: 0.9006\n",
      "Epoch 23/50\n",
      "68/68 [==============================] - 196s 3s/step - loss: 0.1412 - accuracy: 0.9469 - val_loss: 0.3283 - val_accuracy: 0.8803\n",
      "Epoch 24/50\n",
      "68/68 [==============================] - 161s 2s/step - loss: 0.1423 - accuracy: 0.9455 - val_loss: 0.2658 - val_accuracy: 0.9006\n",
      "Epoch 25/50\n",
      "68/68 [==============================] - 155s 2s/step - loss: 0.1352 - accuracy: 0.9479 - val_loss: 0.3233 - val_accuracy: 0.8950\n",
      "Epoch 26/50\n",
      "68/68 [==============================] - 153s 2s/step - loss: 0.1489 - accuracy: 0.9409 - val_loss: 0.2951 - val_accuracy: 0.9098\n",
      "Epoch 27/50\n",
      "68/68 [==============================] - 146s 2s/step - loss: 0.1457 - accuracy: 0.9442 - val_loss: 0.4085 - val_accuracy: 0.8674\n",
      "Epoch 28/50\n",
      "68/68 [==============================] - 147s 2s/step - loss: 0.1556 - accuracy: 0.9400 - val_loss: 0.3046 - val_accuracy: 0.8969\n",
      "Epoch 29/50\n",
      "68/68 [==============================] - 153s 2s/step - loss: 0.1384 - accuracy: 0.9539 - val_loss: 0.2498 - val_accuracy: 0.9116\n",
      "Epoch 30/50\n",
      "68/68 [==============================] - 159s 2s/step - loss: 0.1443 - accuracy: 0.9455 - val_loss: 0.3058 - val_accuracy: 0.9024\n",
      "Epoch 31/50\n",
      "68/68 [==============================] - 137s 2s/step - loss: 0.1524 - accuracy: 0.9451 - val_loss: 0.3079 - val_accuracy: 0.9006\n",
      "Epoch 32/50\n",
      "68/68 [==============================] - 144s 2s/step - loss: 0.1617 - accuracy: 0.9451 - val_loss: 0.2770 - val_accuracy: 0.8969\n",
      "Epoch 33/50\n",
      "68/68 [==============================] - 160s 2s/step - loss: 0.1342 - accuracy: 0.9474 - val_loss: 0.3363 - val_accuracy: 0.8895\n",
      "Epoch 34/50\n",
      "68/68 [==============================] - 151s 2s/step - loss: 0.1500 - accuracy: 0.9442 - val_loss: 0.2622 - val_accuracy: 0.9227\n",
      "Epoch 35/50\n",
      "68/68 [==============================] - 115s 2s/step - loss: 0.1409 - accuracy: 0.9432 - val_loss: 0.2708 - val_accuracy: 0.9042\n",
      "Epoch 36/50\n",
      "68/68 [==============================] - 92s 1s/step - loss: 0.1535 - accuracy: 0.9409 - val_loss: 0.3100 - val_accuracy: 0.8913\n",
      "Epoch 37/50\n",
      "68/68 [==============================] - 96s 1s/step - loss: 0.1550 - accuracy: 0.9423 - val_loss: 0.2776 - val_accuracy: 0.9171\n",
      "Epoch 38/50\n",
      "68/68 [==============================] - 109s 2s/step - loss: 0.1466 - accuracy: 0.9455 - val_loss: 0.3395 - val_accuracy: 0.8821\n",
      "Epoch 39/50\n",
      "68/68 [==============================] - 108s 2s/step - loss: 0.1860 - accuracy: 0.9303 - val_loss: 0.4208 - val_accuracy: 0.8619\n",
      "Epoch 40/50\n",
      "68/68 [==============================] - 112s 2s/step - loss: 0.1592 - accuracy: 0.9368 - val_loss: 0.3407 - val_accuracy: 0.8969\n",
      "Epoch 41/50\n",
      "68/68 [==============================] - 107s 2s/step - loss: 0.1513 - accuracy: 0.9414 - val_loss: 0.2986 - val_accuracy: 0.9006\n",
      "Epoch 42/50\n",
      "68/68 [==============================] - 93s 1s/step - loss: 0.1391 - accuracy: 0.9460 - val_loss: 0.2948 - val_accuracy: 0.8950\n",
      "Epoch 43/50\n",
      "68/68 [==============================] - 92s 1s/step - loss: 0.1210 - accuracy: 0.9543 - val_loss: 0.2428 - val_accuracy: 0.9208\n",
      "Epoch 44/50\n",
      "68/68 [==============================] - 85s 1s/step - loss: 0.1399 - accuracy: 0.9465 - val_loss: 0.2726 - val_accuracy: 0.9024\n",
      "Epoch 45/50\n",
      "68/68 [==============================] - 86s 1s/step - loss: 0.1283 - accuracy: 0.9539 - val_loss: 0.3084 - val_accuracy: 0.9024\n",
      "Epoch 46/50\n",
      "68/68 [==============================] - 85s 1s/step - loss: 0.1415 - accuracy: 0.9451 - val_loss: 0.3184 - val_accuracy: 0.8969\n",
      "Epoch 47/50\n",
      "68/68 [==============================] - 85s 1s/step - loss: 0.1393 - accuracy: 0.9442 - val_loss: 0.3144 - val_accuracy: 0.9061\n",
      "Epoch 48/50\n",
      "68/68 [==============================] - 86s 1s/step - loss: 0.1359 - accuracy: 0.9497 - val_loss: 0.3086 - val_accuracy: 0.9006\n",
      "Epoch 49/50\n",
      "68/68 [==============================] - 87s 1s/step - loss: 0.1251 - accuracy: 0.9525 - val_loss: 0.3170 - val_accuracy: 0.9042\n",
      "Epoch 50/50\n",
      "68/68 [==============================] - 98s 1s/step - loss: 0.1293 - accuracy: 0.9483 - val_loss: 0.2617 - val_accuracy: 0.9098\n"
     ]
    }
   ],
   "source": [
    "from keras.preprocessing.image import ImageDataGenerator\n",
    "train_datagen = ImageDataGenerator(\n",
    "        rescale=1./255,\n",
    "        shear_range=0.2,\n",
    "        zoom_range=0.2,\n",
    "        horizontal_flip=True)\n",
    "\n",
    "test_datagen = ImageDataGenerator(rescale=1./255)\n",
    "\n",
    "training_set = train_datagen.flow_from_directory(\n",
    "        r'C:\\Users\\touheed\\Documents\\Adatasets\\RiceLeafsv3\\train',\n",
    "        target_size=(64, 64),\n",
    "        batch_size=32,\n",
    "        class_mode='binary')\n",
    "\n",
    "test_set = test_datagen.flow_from_directory(\n",
    "        r'C:\\Users\\touheed\\Documents\\Adatasets\\RiceLeafsv3\\validation',\n",
    "        target_size=(64, 64),\n",
    "        batch_size=32,\n",
    "        class_mode='binary')\n",
    "\n",
    "r=CNN_Classifier.fit(\n",
    "        training_set,\n",
    "        steps_per_epoch=len(training_set),\n",
    "        epochs=50,\n",
    "        validation_data=test_set,\n",
    "        \n",
    "        validation_steps=len(test_set))"
   ]
  },
  {
   "cell_type": "code",
   "execution_count": 12,
   "id": "2566f7bf",
   "metadata": {},
   "outputs": [
    {
     "name": "stdout",
     "output_type": "stream",
     "text": [
      "68/68 [==============================] - 111s 2s/step - loss: 0.1264 - accuracy: 0.9474\n"
     ]
    }
   ],
   "source": [
    "scores = CNN_Classifier.evaluate(training_set)"
   ]
  },
  {
   "cell_type": "markdown",
   "id": "bd911351",
   "metadata": {},
   "source": [
    "# Saving the Model"
   ]
  },
  {
   "cell_type": "code",
   "execution_count": 9,
   "id": "96179c04",
   "metadata": {},
   "outputs": [],
   "source": [
    "import os .path\n",
    "if os.path.isfile(r'C:\\Users\\touheed\\Documents\\potato Model\\rice_model.h5') is False:\n",
    "    CNN_Classifier.save(r'C:\\Users\\touheed\\Documents\\potato Model\\rice_model.h5')"
   ]
  },
  {
   "cell_type": "markdown",
   "id": "d43d6862",
   "metadata": {},
   "source": [
    "# Plotting"
   ]
  },
  {
   "cell_type": "code",
   "execution_count": 21,
   "id": "55bf4b7f",
   "metadata": {},
   "outputs": [
    {
     "data": {
      "image/png": "[encoded data removed]",
      "text/plain": [
       "<Figure size 432x288 with 1 Axes>"
      ]
     },
     "metadata": {
      "needs_background": "light"
     },
     "output_type": "display_data"
    },
    {
     "data": {
      "image/png": "[encoded data removed]",
      "text/plain": [
       "<Figure size 432x288 with 1 Axes>"
      ]
     },
     "metadata": {
      "needs_background": "light"
     },
     "output_type": "display_data"
    },
    {
     "data": {
      "text/plain": [
       "<Figure size 432x288 with 0 Axes>"
      ]
     },
     "metadata": {},
     "output_type": "display_data"
    }
   ],
   "source": [
    "import matplotlib.pyplot as plt\n",
    "# plot the loss\n",
    "plt.plot(r.history['loss'], label='train loss')\n",
    "plt.plot(r.history['val_loss'], label='val loss')\n",
    "plt.legend()\n",
    "plt.show()\n",
    "plt.savefig('LossVal_loss')\n",
    "\n",
    "# plot the accuracy\n",
    "plt.plot(r.history['accuracy'], label='train acc')\n",
    "plt.plot(r.history['val_accuracy'], label='val acc')\n",
    "plt.legend()\n",
    "plt.show()\n",
    "plt.savefig('AccVal_acc')"
   ]
  },
  {
   "cell_type": "markdown",
   "id": "605ab635",
   "metadata": {},
   "source": [
    "# Defining Classes"
   ]
  },
  {
   "cell_type": "code",
   "execution_count": 14,
   "id": "e9b39636",
   "metadata": {},
   "outputs": [
    {
     "data": {
      "text/plain": [
       "{'bacterial_leaf_blight': 0,\n",
       " 'brown_spot': 1,\n",
       " 'healthy': 2,\n",
       " 'leaf_blast': 3,\n",
       " 'leaf_scald': 4,\n",
       " 'narrow_brown_spot': 5}"
      ]
     },
     "execution_count": 14,
     "metadata": {},
     "output_type": "execute_result"
    }
   ],
   "source": [
    "training_set.class_indices"
   ]
  },
  {
   "cell_type": "code",
   "execution_count": 15,
   "id": "d759478b",
   "metadata": {},
   "outputs": [
    {
     "data": {
      "text/plain": [
       "['bacterial_leaf_blight',\n",
       " 'brown_spot',\n",
       " 'healthy',\n",
       " 'leaf_blast',\n",
       " 'leaf_scald',\n",
       " 'narrow_brown_spot']"
      ]
     },
     "execution_count": 15,
     "metadata": {},
     "output_type": "execute_result"
    }
   ],
   "source": [
    "class_names = list(training_set.class_indices.keys())\n",
    "class_names"
   ]
  },
  {
   "cell_type": "code",
   "execution_count": 16,
   "id": "55fcc263",
   "metadata": {},
   "outputs": [
    {
     "name": "stdout",
     "output_type": "stream",
     "text": [
      "[[[0.9058824  0.882353   0.882353  ]\n",
      "  [0.9058824  0.882353   0.882353  ]\n",
      "  [0.9222205  0.8986911  0.8986911 ]\n",
      "  ...\n",
      "  [0.97297543 0.9612107  0.93375975]\n",
      "  [0.97647065 0.96470594 0.93725497]\n",
      "  [0.97647065 0.96470594 0.93725497]]\n",
      "\n",
      " [[0.9058824  0.882353   0.882353  ]\n",
      "  [0.9058824  0.882353   0.882353  ]\n",
      "  [0.9221553  0.8986259  0.8986259 ]\n",
      "  ...\n",
      "  [0.97295684 0.96119213 0.93374115]\n",
      "  [0.97647065 0.96470594 0.93725497]\n",
      "  [0.97647065 0.96470594 0.93725497]]\n",
      "\n",
      " [[0.9058824  0.882353   0.882353  ]\n",
      "  [0.9058824  0.882353   0.882353  ]\n",
      "  [0.9220902  0.89856076 0.89856076]\n",
      "  ...\n",
      "  [0.9729382  0.9611735  0.9337225 ]\n",
      "  [0.97647065 0.96470594 0.93725497]\n",
      "  [0.97647065 0.96470594 0.93725497]]\n",
      "\n",
      " ...\n",
      "\n",
      " [[0.7254902  0.7019608  0.7019608 ]\n",
      "  [0.7254902  0.7019608  0.7019608 ]\n",
      "  [0.7219578  0.7090257  0.7054933 ]\n",
      "  ...\n",
      "  [0.83510643 0.8233417  0.79589075]\n",
      "  [0.8235295  0.8117648  0.7843138 ]\n",
      "  [0.8235295  0.8117648  0.7843138 ]]\n",
      "\n",
      " [[0.7254902  0.7019608  0.7019608 ]\n",
      "  [0.7254902  0.7019608  0.7019608 ]\n",
      "  [0.7219764  0.7089884  0.7054747 ]\n",
      "  ...\n",
      "  [0.8351529  0.8233882  0.79593724]\n",
      "  [0.8235295  0.8117648  0.7843138 ]\n",
      "  [0.8235295  0.8117648  0.7843138 ]]\n",
      "\n",
      " [[0.7254902  0.7019608  0.7019608 ]\n",
      "  [0.7254902  0.7019608  0.7019608 ]\n",
      "  [0.721995   0.70895123 0.705456  ]\n",
      "  ...\n",
      "  [0.8351995  0.82343477 0.7959838 ]\n",
      "  [0.8235295  0.8117648  0.7843138 ]\n",
      "  [0.8235295  0.8117648  0.7843138 ]]]\n"
     ]
    }
   ],
   "source": [
    "count=0\n",
    "for image_batch, label_batch in training_set:\n",
    "#     print(label_batch)\n",
    "    print(image_batch[0])\n",
    "    break"
   ]
  },
  {
   "cell_type": "markdown",
   "id": "2b11bc67",
   "metadata": {},
   "source": [
    "# Run prediction on a sample image"
   ]
  },
  {
   "cell_type": "code",
   "execution_count": 17,
   "id": "4bf0b598",
   "metadata": {},
   "outputs": [
    {
     "name": "stdout",
     "output_type": "stream",
     "text": [
      "first image to predict\n",
      "actual label: leaf_blast\n",
      "1/1 [==============================] - 7s 7s/step\n",
      "predicted label: leaf_blast\n"
     ]
    },
    {
     "data": {
      "image/png": "[encoded data removed]",
      "text/plain": [
       "<Figure size 432x288 with 1 Axes>"
      ]
     },
     "metadata": {
      "needs_background": "light"
     },
     "output_type": "display_data"
    }
   ],
   "source": [
    "import numpy as np\n",
    "\n",
    "\n",
    "for image_batch, label_batch in test_set:\n",
    "    first_image = image_batch[0]\n",
    "    first_label = int(label_batch[0])\n",
    "    \n",
    "    print(\"first image to predict\")\n",
    "    plt.imshow(first_image)\n",
    "    print(\"actual label:\",class_names[first_label])\n",
    "    \n",
    "    batch_prediction = CNN_Classifier.predict(image_batch)\n",
    "    print(\"predicted label:\",class_names[np.argmax(batch_prediction[0])])\n",
    "    \n",
    "    break"
   ]
  },
  {
   "cell_type": "code",
   "execution_count": null,
   "id": "75ed8cf5",
   "metadata": {},
   "outputs": [],
   "source": []
  }
 ],
 "metadata": {
  "kernelspec": {
   "display_name": "Python 3 (ipykernel)",
   "language": "python",
   "name": "python3"
  },
  "language_info": {
   "codemirror_mode": {
    "name": "ipython",
    "version": 3
   },
   "file_extension": ".py",
   "mimetype": "text/x-python",
   "name": "python",
   "nbconvert_exporter": "python",
   "pygments_lexer": "ipython3",
   "version": "3.9.12"
  }
 },
 "nbformat": 4,
 "nbformat_minor": 5
}
