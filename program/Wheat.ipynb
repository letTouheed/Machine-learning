{
 "cells": [
  {
   "cell_type": "markdown",
   "id": "29ffc67c",
   "metadata": {},
   "source": [
    "# Import all the Dependencies"
   ]
  },
  {
   "cell_type": "code",
   "execution_count": 1,
   "id": "2dc0bca2",
   "metadata": {},
   "outputs": [],
   "source": [
    "from keras.models import Sequential\n",
    "from keras.layers import Conv2D\n",
    "from keras.layers import MaxPooling2D\n",
    "from keras.layers import Flatten\n",
    "from keras.layers import Dense\n",
    "import tensorflow as tf\n"
   ]
  },
  {
   "cell_type": "code",
   "execution_count": 2,
   "id": "b26a112b",
   "metadata": {},
   "outputs": [],
   "source": [
    "# initializing the CNN\n",
    "\n",
    "CNN_Classifier=Sequential()\n"
   ]
  },
  {
   "cell_type": "code",
   "execution_count": 3,
   "id": "fc755854",
   "metadata": {},
   "outputs": [],
   "source": [
    "# step 1 convolution\n",
    "CNN_Classifier.add(Conv2D(32,3,3,input_shape=(64,64,3),activation='relu'))"
   ]
  },
  {
   "cell_type": "code",
   "execution_count": 4,
   "id": "b5b77441",
   "metadata": {},
   "outputs": [],
   "source": [
    "#Step 2 pooling\n",
    "\n",
    "CNN_Classifier.add(MaxPooling2D(pool_size=(2,2)))"
   ]
  },
  {
   "cell_type": "code",
   "execution_count": null,
   "id": "e7d4e25c",
   "metadata": {},
   "outputs": [],
   "source": [
    "# step 1 convolution\n",
    "CNN_Classifier.add(Conv2D(32,3,3,activation='relu'))"
   ]
  },
  {
   "cell_type": "code",
   "execution_count": 5,
   "id": "1dd3a3b4",
   "metadata": {},
   "outputs": [],
   "source": [
    "#Step 2 pooling\n",
    "\n",
    "CNN_Classifier.add(MaxPooling2D(pool_size=(2,2)))"
   ]
  },
  {
   "cell_type": "code",
   "execution_count": 6,
   "id": "2867820e",
   "metadata": {},
   "outputs": [],
   "source": [
    "# flattening\n",
    "\n",
    "CNN_Classifier.add(Flatten())"
   ]
  },
  {
   "cell_type": "code",
   "execution_count": 7,
   "id": "e007e63b",
   "metadata": {},
   "outputs": [],
   "source": [
    "\n",
    "# step 4 Full connection\n",
    "\n",
    "CNN_Classifier.add(Dense(units=128, activation='relu'))\n",
    "CNN_Classifier.add(Dense(units=128, activation='sigmoid'))"
   ]
  },
  {
   "cell_type": "code",
   "execution_count": 8,
   "id": "fdcc14bd",
   "metadata": {},
   "outputs": [],
   "source": [
    "#compiling the cnn()\n",
    "CNN_Classifier.compile(optimizer='adam',loss = tf.keras.losses.SparseCategoricalCrossentropy(from_logits=True), metrics=['accuracy'])"
   ]
  },
  {
   "cell_type": "markdown",
   "id": "7f6f25b4",
   "metadata": {},
   "source": [
    "# Summary()"
   ]
  },
  {
   "cell_type": "code",
   "execution_count": 14,
   "id": "1f71691d",
   "metadata": {},
   "outputs": [
    {
     "name": "stdout",
     "output_type": "stream",
     "text": [
      "Model: \"sequential\"\n",
      "_________________________________________________________________\n",
      " Layer (type)                Output Shape              Param #   \n",
      "=================================================================\n",
      " conv2d (Conv2D)             (None, 21, 21, 32)        896       \n",
      "                                                                 \n",
      " max_pooling2d (MaxPooling2D  (None, 10, 10, 32)       0         \n",
      " )                                                               \n",
      "                                                                 \n",
      " max_pooling2d_1 (MaxPooling  (None, 5, 5, 32)         0         \n",
      " 2D)                                                             \n",
      "                                                                 \n",
      " flatten (Flatten)           (None, 800)               0         \n",
      "                                                                 \n",
      " dense (Dense)               (None, 128)               102528    \n",
      "                                                                 \n",
      " dense_1 (Dense)             (None, 128)               16512     \n",
      "                                                                 \n",
      "=================================================================\n",
      "Total params: 119,936\n",
      "Trainable params: 119,936\n",
      "Non-trainable params: 0\n",
      "_________________________________________________________________\n"
     ]
    }
   ],
   "source": [
    "CNN_Classifier.summary()"
   ]
  },
  {
   "cell_type": "markdown",
   "id": "4b93c0d4",
   "metadata": {},
   "source": [
    "# Building and Compiling the Model"
   ]
  },
  {
   "cell_type": "code",
   "execution_count": 9,
   "id": "92aa4a83",
   "metadata": {},
   "outputs": [],
   "source": [
    "from keras.preprocessing.image import ImageDataGenerator\n",
    "train_datagen = ImageDataGenerator(\n",
    "        rescale=1./255,\n",
    "        shear_range=0.2,\n",
    "        zoom_range=0.2,\n",
    "        horizontal_flip=True)\n",
    "\n",
    "test_datagen = ImageDataGenerator(rescale=1./255)"
   ]
  },
  {
   "cell_type": "code",
   "execution_count": 10,
   "id": "78ed0c40",
   "metadata": {},
   "outputs": [
    {
     "name": "stdout",
     "output_type": "stream",
     "text": [
      "Found 407 images belonging to 3 classes.\n",
      "Found 156 images belonging to 3 classes.\n"
     ]
    }
   ],
   "source": [
    "training_set = train_datagen.flow_from_directory(\n",
    "        r'C:\\Users\\touheed\\Documents\\Adatasets\\wheat_leaf\\tain',\n",
    "        target_size=(64, 64),\n",
    "        batch_size=32,\n",
    "        class_mode='binary')\n",
    "\n",
    "test_set = test_datagen.flow_from_directory(\n",
    "        r'C:\\Users\\touheed\\Documents\\Adatasets\\wheat_leaf\\test',\n",
    "        target_size=(64, 64),\n",
    "        batch_size=32,\n",
    "        class_mode='binary')\n"
   ]
  },
  {
   "cell_type": "code",
   "execution_count": 11,
   "id": "44c1b63c",
   "metadata": {},
   "outputs": [
    {
     "name": "stdout",
     "output_type": "stream",
     "text": [
      "Epoch 1/100\n"
     ]
    },
    {
     "name": "stderr",
     "output_type": "stream",
     "text": [
      "C:\\Users\\touheed\\anaconda3\\lib\\site-packages\\tensorflow\\python\\util\\dispatch.py:1082: UserWarning: \"`sparse_categorical_crossentropy` received `from_logits=True`, but the `output` argument was produced by a sigmoid or softmax activation and thus does not represent logits. Was this intended?\"\n",
      "  return dispatch_target(*args, **kwargs)\n"
     ]
    },
    {
     "name": "stdout",
     "output_type": "stream",
     "text": [
      "13/13 [==============================] - 271s 21s/step - loss: 3.0517 - accuracy: 0.4201 - val_loss: 1.1449 - val_accuracy: 0.5000\n",
      "Epoch 2/100\n",
      "13/13 [==============================] - 202s 16s/step - loss: 1.0293 - accuracy: 0.4988 - val_loss: 1.2151 - val_accuracy: 0.5000\n",
      "Epoch 3/100\n",
      "13/13 [==============================] - 223s 18s/step - loss: 1.0307 - accuracy: 0.4988 - val_loss: 1.0129 - val_accuracy: 0.5000\n",
      "Epoch 4/100\n",
      "13/13 [==============================] - 208s 16s/step - loss: 0.9209 - accuracy: 0.5725 - val_loss: 0.9283 - val_accuracy: 0.5000\n",
      "Epoch 5/100\n",
      "13/13 [==============================] - 178s 14s/step - loss: 0.8648 - accuracy: 0.5921 - val_loss: 0.8712 - val_accuracy: 0.5833\n",
      "Epoch 6/100\n",
      "13/13 [==============================] - 166s 13s/step - loss: 0.8278 - accuracy: 0.6290 - val_loss: 0.8332 - val_accuracy: 0.6090\n",
      "Epoch 7/100\n",
      "13/13 [==============================] - 168s 13s/step - loss: 0.7954 - accuracy: 0.6462 - val_loss: 0.8616 - val_accuracy: 0.6410\n",
      "Epoch 8/100\n",
      "13/13 [==============================] - 172s 13s/step - loss: 0.7538 - accuracy: 0.6904 - val_loss: 0.8088 - val_accuracy: 0.5705\n",
      "Epoch 9/100\n",
      "13/13 [==============================] - 156s 12s/step - loss: 0.7200 - accuracy: 0.6855 - val_loss: 0.8300 - val_accuracy: 0.6154\n",
      "Epoch 10/100\n",
      "13/13 [==============================] - 153s 12s/step - loss: 0.6817 - accuracy: 0.7199 - val_loss: 0.7920 - val_accuracy: 0.6026\n",
      "Epoch 11/100\n",
      "13/13 [==============================] - 155s 12s/step - loss: 0.6987 - accuracy: 0.6953 - val_loss: 0.8151 - val_accuracy: 0.6154\n",
      "Epoch 12/100\n",
      "13/13 [==============================] - 156s 12s/step - loss: 0.6687 - accuracy: 0.7297 - val_loss: 0.6893 - val_accuracy: 0.6218\n",
      "Epoch 13/100\n",
      "13/13 [==============================] - 164s 13s/step - loss: 0.6256 - accuracy: 0.7592 - val_loss: 0.6910 - val_accuracy: 0.6603\n",
      "Epoch 14/100\n",
      "13/13 [==============================] - 154s 12s/step - loss: 0.6125 - accuracy: 0.7297 - val_loss: 0.7036 - val_accuracy: 0.6410\n",
      "Epoch 15/100\n",
      "13/13 [==============================] - 160s 13s/step - loss: 0.5879 - accuracy: 0.7273 - val_loss: 0.7126 - val_accuracy: 0.6731\n",
      "Epoch 16/100\n",
      "13/13 [==============================] - 164s 13s/step - loss: 0.5710 - accuracy: 0.7764 - val_loss: 0.6542 - val_accuracy: 0.7115\n",
      "Epoch 17/100\n",
      "13/13 [==============================] - 168s 13s/step - loss: 0.5533 - accuracy: 0.7592 - val_loss: 0.6429 - val_accuracy: 0.7244\n",
      "Epoch 18/100\n",
      "13/13 [==============================] - 165s 13s/step - loss: 0.5410 - accuracy: 0.7813 - val_loss: 0.5916 - val_accuracy: 0.7308\n",
      "Epoch 19/100\n",
      "13/13 [==============================] - 163s 13s/step - loss: 0.5327 - accuracy: 0.7912 - val_loss: 0.5567 - val_accuracy: 0.8077\n",
      "Epoch 20/100\n",
      "13/13 [==============================] - 173s 14s/step - loss: 0.5228 - accuracy: 0.7641 - val_loss: 0.5349 - val_accuracy: 0.8013\n",
      "Epoch 21/100\n",
      "13/13 [==============================] - 168s 13s/step - loss: 0.5024 - accuracy: 0.7912 - val_loss: 0.5773 - val_accuracy: 0.7308\n",
      "Epoch 22/100\n",
      "13/13 [==============================] - 154s 12s/step - loss: 0.4894 - accuracy: 0.8256 - val_loss: 0.6358 - val_accuracy: 0.7564\n",
      "Epoch 23/100\n",
      "13/13 [==============================] - 154s 12s/step - loss: 0.4756 - accuracy: 0.8231 - val_loss: 0.5373 - val_accuracy: 0.7756\n",
      "Epoch 24/100\n",
      "13/13 [==============================] - 153s 12s/step - loss: 0.4616 - accuracy: 0.7887 - val_loss: 0.5242 - val_accuracy: 0.7756\n",
      "Epoch 25/100\n",
      "13/13 [==============================] - 153s 12s/step - loss: 0.4320 - accuracy: 0.8452 - val_loss: 0.4894 - val_accuracy: 0.8141\n",
      "Epoch 26/100\n",
      "13/13 [==============================] - 160s 13s/step - loss: 0.4261 - accuracy: 0.8354 - val_loss: 0.4720 - val_accuracy: 0.7821\n",
      "Epoch 27/100\n",
      "13/13 [==============================] - 165s 13s/step - loss: 0.4134 - accuracy: 0.8428 - val_loss: 0.4449 - val_accuracy: 0.8205\n",
      "Epoch 28/100\n",
      "13/13 [==============================] - 166s 13s/step - loss: 0.4151 - accuracy: 0.8403 - val_loss: 0.4404 - val_accuracy: 0.8013\n",
      "Epoch 29/100\n",
      "13/13 [==============================] - 167s 13s/step - loss: 0.4289 - accuracy: 0.7936 - val_loss: 0.4117 - val_accuracy: 0.8462\n",
      "Epoch 30/100\n",
      "13/13 [==============================] - 168s 13s/step - loss: 0.3926 - accuracy: 0.8526 - val_loss: 0.4606 - val_accuracy: 0.8141\n",
      "Epoch 31/100\n",
      "13/13 [==============================] - 162s 13s/step - loss: 0.3740 - accuracy: 0.8649 - val_loss: 0.4513 - val_accuracy: 0.8397\n",
      "Epoch 32/100\n",
      "13/13 [==============================] - 156s 12s/step - loss: 0.3848 - accuracy: 0.8428 - val_loss: 0.4332 - val_accuracy: 0.7949\n",
      "Epoch 33/100\n",
      "13/13 [==============================] - 166s 13s/step - loss: 0.3703 - accuracy: 0.8600 - val_loss: 0.3630 - val_accuracy: 0.8654\n",
      "Epoch 34/100\n",
      "13/13 [==============================] - 164s 13s/step - loss: 0.3518 - accuracy: 0.8526 - val_loss: 0.3959 - val_accuracy: 0.8782\n",
      "Epoch 35/100\n",
      "13/13 [==============================] - 165s 13s/step - loss: 0.3695 - accuracy: 0.8526 - val_loss: 0.3899 - val_accuracy: 0.8526\n",
      "Epoch 36/100\n",
      "13/13 [==============================] - 188s 15s/step - loss: 0.3387 - accuracy: 0.8821 - val_loss: 0.3261 - val_accuracy: 0.9103\n",
      "Epoch 37/100\n",
      "13/13 [==============================] - 183s 14s/step - loss: 0.3205 - accuracy: 0.8919 - val_loss: 0.3554 - val_accuracy: 0.8654\n",
      "Epoch 38/100\n",
      "13/13 [==============================] - 181s 14s/step - loss: 0.3178 - accuracy: 0.8821 - val_loss: 0.3107 - val_accuracy: 0.9038\n",
      "Epoch 39/100\n",
      "13/13 [==============================] - 181s 14s/step - loss: 0.3125 - accuracy: 0.8919 - val_loss: 0.3183 - val_accuracy: 0.8910\n",
      "Epoch 40/100\n",
      "13/13 [==============================] - 182s 14s/step - loss: 0.2850 - accuracy: 0.9115 - val_loss: 0.3163 - val_accuracy: 0.8782\n",
      "Epoch 41/100\n",
      "13/13 [==============================] - 186s 15s/step - loss: 0.2932 - accuracy: 0.8919 - val_loss: 0.3221 - val_accuracy: 0.8718\n",
      "Epoch 42/100\n",
      "13/13 [==============================] - 188s 15s/step - loss: 0.3078 - accuracy: 0.8722 - val_loss: 0.3037 - val_accuracy: 0.8910\n",
      "Epoch 43/100\n",
      "13/13 [==============================] - 184s 14s/step - loss: 0.2896 - accuracy: 0.9091 - val_loss: 0.3697 - val_accuracy: 0.8526\n",
      "Epoch 44/100\n",
      "13/13 [==============================] - 193s 15s/step - loss: 0.2820 - accuracy: 0.9091 - val_loss: 0.2827 - val_accuracy: 0.9038\n",
      "Epoch 45/100\n",
      "13/13 [==============================] - 186s 15s/step - loss: 0.2513 - accuracy: 0.9165 - val_loss: 0.2538 - val_accuracy: 0.9167\n",
      "Epoch 46/100\n",
      "13/13 [==============================] - 186s 15s/step - loss: 0.2551 - accuracy: 0.9287 - val_loss: 0.2585 - val_accuracy: 0.9167\n",
      "Epoch 47/100\n",
      "13/13 [==============================] - 208s 16s/step - loss: 0.2661 - accuracy: 0.8968 - val_loss: 0.2500 - val_accuracy: 0.9359\n",
      "Epoch 48/100\n",
      "13/13 [==============================] - 203s 16s/step - loss: 0.2647 - accuracy: 0.8968 - val_loss: 0.2863 - val_accuracy: 0.8846\n",
      "Epoch 49/100\n",
      "13/13 [==============================] - 210s 16s/step - loss: 0.2417 - accuracy: 0.9140 - val_loss: 0.2472 - val_accuracy: 0.9231\n",
      "Epoch 50/100\n",
      "13/13 [==============================] - 205s 16s/step - loss: 0.2405 - accuracy: 0.9189 - val_loss: 0.2441 - val_accuracy: 0.9231\n",
      "Epoch 51/100\n",
      "13/13 [==============================] - 208s 17s/step - loss: 0.2290 - accuracy: 0.9165 - val_loss: 0.3094 - val_accuracy: 0.8846\n",
      "Epoch 52/100\n",
      "13/13 [==============================] - 202s 16s/step - loss: 0.2412 - accuracy: 0.8968 - val_loss: 0.2500 - val_accuracy: 0.9167\n",
      "Epoch 53/100\n",
      "13/13 [==============================] - 233s 18s/step - loss: 0.2215 - accuracy: 0.9263 - val_loss: 0.2334 - val_accuracy: 0.9167\n",
      "Epoch 54/100\n",
      "13/13 [==============================] - 212s 17s/step - loss: 0.2347 - accuracy: 0.9214 - val_loss: 0.2534 - val_accuracy: 0.8974\n",
      "Epoch 55/100\n",
      "13/13 [==============================] - 210s 16s/step - loss: 0.2242 - accuracy: 0.9214 - val_loss: 0.2695 - val_accuracy: 0.8782\n",
      "Epoch 56/100\n",
      "13/13 [==============================] - 254s 20s/step - loss: 0.1986 - accuracy: 0.9312 - val_loss: 0.2816 - val_accuracy: 0.8846\n",
      "Epoch 57/100\n",
      "13/13 [==============================] - 253s 20s/step - loss: 0.2340 - accuracy: 0.9091 - val_loss: 0.2338 - val_accuracy: 0.9295\n",
      "Epoch 58/100\n"
     ]
    },
    {
     "name": "stdout",
     "output_type": "stream",
     "text": [
      "13/13 [==============================] - 242s 19s/step - loss: 0.2039 - accuracy: 0.9287 - val_loss: 0.2198 - val_accuracy: 0.9359\n",
      "Epoch 59/100\n",
      "13/13 [==============================] - 266s 21s/step - loss: 0.1958 - accuracy: 0.9435 - val_loss: 0.2099 - val_accuracy: 0.9359\n",
      "Epoch 60/100\n",
      "13/13 [==============================] - 249s 20s/step - loss: 0.1835 - accuracy: 0.9410 - val_loss: 0.2577 - val_accuracy: 0.9038\n",
      "Epoch 61/100\n",
      "13/13 [==============================] - 388s 31s/step - loss: 0.2042 - accuracy: 0.9287 - val_loss: 0.2110 - val_accuracy: 0.9423\n",
      "Epoch 62/100\n",
      "13/13 [==============================] - 338s 27s/step - loss: 0.1877 - accuracy: 0.9337 - val_loss: 0.2053 - val_accuracy: 0.9359\n",
      "Epoch 63/100\n",
      "13/13 [==============================] - 255s 20s/step - loss: 0.2612 - accuracy: 0.8845 - val_loss: 0.3065 - val_accuracy: 0.8141\n",
      "Epoch 64/100\n",
      "13/13 [==============================] - 255s 20s/step - loss: 0.2024 - accuracy: 0.9115 - val_loss: 0.2087 - val_accuracy: 0.9423\n",
      "Epoch 65/100\n",
      "13/13 [==============================] - 332s 27s/step - loss: 0.1682 - accuracy: 0.9410 - val_loss: 0.2058 - val_accuracy: 0.9231\n",
      "Epoch 66/100\n",
      "13/13 [==============================] - 265s 21s/step - loss: 0.1774 - accuracy: 0.9361 - val_loss: 0.2514 - val_accuracy: 0.8974\n",
      "Epoch 67/100\n",
      "13/13 [==============================] - 286s 23s/step - loss: 0.1893 - accuracy: 0.9386 - val_loss: 0.2537 - val_accuracy: 0.8782\n",
      "Epoch 68/100\n",
      "13/13 [==============================] - 286s 23s/step - loss: 0.1641 - accuracy: 0.9582 - val_loss: 0.1933 - val_accuracy: 0.9487\n",
      "Epoch 69/100\n",
      "13/13 [==============================] - 382s 30s/step - loss: 0.1602 - accuracy: 0.9410 - val_loss: 0.1874 - val_accuracy: 0.9487\n",
      "Epoch 70/100\n",
      "13/13 [==============================] - 251s 20s/step - loss: 0.1455 - accuracy: 0.9558 - val_loss: 0.2792 - val_accuracy: 0.8718\n",
      "Epoch 71/100\n",
      "13/13 [==============================] - 274s 22s/step - loss: 0.1677 - accuracy: 0.9386 - val_loss: 0.1917 - val_accuracy: 0.9423\n",
      "Epoch 72/100\n",
      "13/13 [==============================] - 303s 24s/step - loss: 0.1646 - accuracy: 0.9386 - val_loss: 0.1934 - val_accuracy: 0.9231\n",
      "Epoch 73/100\n",
      "13/13 [==============================] - 296s 24s/step - loss: 0.1646 - accuracy: 0.9410 - val_loss: 0.1913 - val_accuracy: 0.9231\n",
      "Epoch 74/100\n",
      "13/13 [==============================] - 246s 20s/step - loss: 0.1579 - accuracy: 0.9435 - val_loss: 0.2013 - val_accuracy: 0.9167\n",
      "Epoch 75/100\n",
      "13/13 [==============================] - 248s 20s/step - loss: 0.1634 - accuracy: 0.9410 - val_loss: 0.2034 - val_accuracy: 0.9359\n",
      "Epoch 76/100\n",
      "13/13 [==============================] - 163s 13s/step - loss: 0.1458 - accuracy: 0.9361 - val_loss: 0.1797 - val_accuracy: 0.9487\n",
      "Epoch 77/100\n",
      "13/13 [==============================] - 162s 13s/step - loss: 0.1559 - accuracy: 0.9386 - val_loss: 0.2144 - val_accuracy: 0.9295\n",
      "Epoch 78/100\n",
      "13/13 [==============================] - 174s 14s/step - loss: 0.1503 - accuracy: 0.9509 - val_loss: 0.2023 - val_accuracy: 0.9487\n",
      "Epoch 79/100\n",
      "13/13 [==============================] - 230s 18s/step - loss: 0.1445 - accuracy: 0.9558 - val_loss: 0.2155 - val_accuracy: 0.8910\n",
      "Epoch 80/100\n",
      "13/13 [==============================] - 200s 16s/step - loss: 0.1627 - accuracy: 0.9484 - val_loss: 0.1789 - val_accuracy: 0.9359\n",
      "Epoch 81/100\n",
      "13/13 [==============================] - 192s 15s/step - loss: 0.1707 - accuracy: 0.9287 - val_loss: 0.2497 - val_accuracy: 0.8846\n",
      "Epoch 82/100\n",
      "13/13 [==============================] - 207s 17s/step - loss: 0.2160 - accuracy: 0.9042 - val_loss: 0.2528 - val_accuracy: 0.8846\n",
      "Epoch 83/100\n",
      "13/13 [==============================] - 218s 17s/step - loss: 0.1903 - accuracy: 0.9312 - val_loss: 0.2125 - val_accuracy: 0.9359\n",
      "Epoch 84/100\n",
      "13/13 [==============================] - 207s 16s/step - loss: 0.1316 - accuracy: 0.9607 - val_loss: 0.2725 - val_accuracy: 0.8846\n",
      "Epoch 85/100\n",
      "13/13 [==============================] - 200s 16s/step - loss: 0.1584 - accuracy: 0.9435 - val_loss: 0.1868 - val_accuracy: 0.9487\n",
      "Epoch 86/100\n",
      "13/13 [==============================] - 211s 17s/step - loss: 0.1265 - accuracy: 0.9582 - val_loss: 0.1777 - val_accuracy: 0.9423\n",
      "Epoch 87/100\n",
      "13/13 [==============================] - 171s 14s/step - loss: 0.1438 - accuracy: 0.9484 - val_loss: 0.2005 - val_accuracy: 0.9167\n",
      "Epoch 88/100\n",
      "13/13 [==============================] - 196s 16s/step - loss: 0.1099 - accuracy: 0.9656 - val_loss: 0.1953 - val_accuracy: 0.8974\n",
      "Epoch 89/100\n",
      "13/13 [==============================] - 157s 12s/step - loss: 0.1262 - accuracy: 0.9533 - val_loss: 0.1943 - val_accuracy: 0.8974\n",
      "Epoch 90/100\n",
      "13/13 [==============================] - 210s 17s/step - loss: 0.1155 - accuracy: 0.9533 - val_loss: 0.1694 - val_accuracy: 0.9551\n",
      "Epoch 91/100\n",
      "13/13 [==============================] - 325s 26s/step - loss: 0.1261 - accuracy: 0.9582 - val_loss: 0.1745 - val_accuracy: 0.9551\n",
      "Epoch 92/100\n",
      "13/13 [==============================] - 260s 20s/step - loss: 0.1223 - accuracy: 0.9656 - val_loss: 0.1587 - val_accuracy: 0.9551\n",
      "Epoch 93/100\n",
      "13/13 [==============================] - 181s 14s/step - loss: 0.1162 - accuracy: 0.9607 - val_loss: 0.1502 - val_accuracy: 0.9551\n",
      "Epoch 94/100\n",
      "13/13 [==============================] - 172s 14s/step - loss: 0.1131 - accuracy: 0.9607 - val_loss: 0.1965 - val_accuracy: 0.9231\n",
      "Epoch 95/100\n",
      "13/13 [==============================] - 162s 13s/step - loss: 0.1263 - accuracy: 0.9582 - val_loss: 0.1873 - val_accuracy: 0.9359\n",
      "Epoch 96/100\n",
      "13/13 [==============================] - 166s 13s/step - loss: 0.1463 - accuracy: 0.9435 - val_loss: 0.1497 - val_accuracy: 0.9679\n",
      "Epoch 97/100\n",
      "13/13 [==============================] - 174s 14s/step - loss: 0.1157 - accuracy: 0.9631 - val_loss: 0.1500 - val_accuracy: 0.9487\n",
      "Epoch 98/100\n",
      "13/13 [==============================] - 176s 14s/step - loss: 0.1158 - accuracy: 0.9558 - val_loss: 0.1431 - val_accuracy: 0.9615\n",
      "Epoch 99/100\n",
      "13/13 [==============================] - 177s 14s/step - loss: 0.1392 - accuracy: 0.9435 - val_loss: 0.2087 - val_accuracy: 0.9167\n",
      "Epoch 100/100\n",
      "13/13 [==============================] - 176s 14s/step - loss: 0.1081 - accuracy: 0.9681 - val_loss: 0.1796 - val_accuracy: 0.9231\n"
     ]
    }
   ],
   "source": [
    "r=CNN_Classifier.fit(\n",
    "        training_set,\n",
    "        steps_per_epoch=len(training_set),\n",
    "        epochs=100,\n",
    "        validation_data=test_set,\n",
    "        \n",
    "        validation_steps=len(test_set))"
   ]
  },
  {
   "cell_type": "code",
   "execution_count": 13,
   "id": "31f9fe18",
   "metadata": {},
   "outputs": [
    {
     "name": "stdout",
     "output_type": "stream",
     "text": [
      "13/13 [==============================] - 122s 9s/step - loss: 0.1121 - accuracy: 0.9631\n"
     ]
    }
   ],
   "source": [
    "scores = CNN_Classifier.evaluate(training_set)"
   ]
  },
  {
   "cell_type": "markdown",
   "id": "7170829f",
   "metadata": {},
   "source": [
    "# Saving the Model"
   ]
  },
  {
   "cell_type": "code",
   "execution_count": 15,
   "id": "5bbf1216",
   "metadata": {},
   "outputs": [],
   "source": [
    "import os .path\n",
    "if os.path.isfile(r'C:\\Users\\touheed\\Documents\\potato Model\\Wheat_model.h5') is False:\n",
    "    CNN_Classifier.save(r'C:\\Users\\touheed\\Documents\\potato Model\\Wheat_model.h5')"
   ]
  },
  {
   "cell_type": "markdown",
   "id": "103f0dce",
   "metadata": {},
   "source": [
    "# Defining Classes"
   ]
  },
  {
   "cell_type": "code",
   "execution_count": 16,
   "id": "61c79da5",
   "metadata": {},
   "outputs": [
    {
     "data": {
      "text/plain": [
       "{'Healthy': 0, 'septoria': 1, 'stripe_rust': 2}"
      ]
     },
     "execution_count": 16,
     "metadata": {},
     "output_type": "execute_result"
    }
   ],
   "source": [
    "training_set.class_indices"
   ]
  },
  {
   "cell_type": "code",
   "execution_count": 17,
   "id": "a7eed585",
   "metadata": {},
   "outputs": [
    {
     "data": {
      "text/plain": [
       "['Healthy', 'septoria', 'stripe_rust']"
      ]
     },
     "execution_count": 17,
     "metadata": {},
     "output_type": "execute_result"
    }
   ],
   "source": [
    "class_names = list(training_set.class_indices.keys())\n",
    "class_names"
   ]
  },
  {
   "cell_type": "code",
   "execution_count": 18,
   "id": "825dcd26",
   "metadata": {},
   "outputs": [
    {
     "name": "stdout",
     "output_type": "stream",
     "text": [
      "[[[0.6600007  0.45190763 0.3816091 ]\n",
      "  [0.6607271  0.4340472  0.37612566]\n",
      "  [0.65814143 0.4226495  0.35768887]\n",
      "  ...\n",
      "  [0.697226   0.43982354 0.36271542]\n",
      "  [0.7308482  0.46855798 0.39177346]\n",
      "  [0.74035525 0.48119134 0.38877535]]\n",
      "\n",
      " [[0.6626231  0.44347057 0.38358802]\n",
      "  [0.67140245 0.43030936 0.36261782]\n",
      "  [0.67082834 0.4291722  0.35902512]\n",
      "  ...\n",
      "  [0.73392177 0.4679693  0.3860097 ]\n",
      "  [0.7414286  0.4746685  0.3948842 ]\n",
      "  [0.72459775 0.45515376 0.38878876]]\n",
      "\n",
      " [[0.71594006 0.6353453  0.4635876 ]\n",
      "  [0.67909515 0.472707   0.38414624]\n",
      "  [0.6750641  0.43364495 0.36519426]\n",
      "  ...\n",
      "  [0.7437447  0.48172498 0.39704853]\n",
      "  [0.74500453 0.47907862 0.3966496 ]\n",
      "  [0.69872457 0.4378094  0.354866  ]]\n",
      "\n",
      " ...\n",
      "\n",
      " [[0.5267055  0.30848306 0.23716636]\n",
      "  [0.4752092  0.28565192 0.21941794]\n",
      "  [0.49151525 0.30770373 0.24605274]\n",
      "  ...\n",
      "  [0.5399297  0.31401238 0.26079026]\n",
      "  [0.5716037  0.34390748 0.28643027]\n",
      "  [0.56976193 0.34346506 0.27913535]]\n",
      "\n",
      " [[0.48365015 0.2800082  0.22288004]\n",
      "  [0.6440416  0.43356094 0.35521996]\n",
      "  [0.59804654 0.39323965 0.31949908]\n",
      "  ...\n",
      "  [0.47314474 0.25755736 0.214199  ]\n",
      "  [0.56302017 0.3311156  0.2708408 ]\n",
      "  [0.5620808  0.32358018 0.27329755]]\n",
      "\n",
      " [[0.46838796 0.27885985 0.21900564]\n",
      "  [0.65022534 0.48583573 0.41707265]\n",
      "  [0.71430445 0.5105759  0.4108395 ]\n",
      "  ...\n",
      "  [0.42914245 0.22435266 0.17536238]\n",
      "  [0.47760823 0.2645293  0.20926794]\n",
      "  [0.3903286  0.20521529 0.16554266]]]\n"
     ]
    }
   ],
   "source": [
    "count=0\n",
    "for image_batch, label_batch in training_set:\n",
    "#     print(label_batch)\n",
    "    print(image_batch[0])\n",
    "    break\n",
    "#     count+=1\n",
    "#     if count>2:\n",
    "#         break"
   ]
  },
  {
   "cell_type": "markdown",
   "id": "213a654c",
   "metadata": {},
   "source": [
    "# Plotting"
   ]
  },
  {
   "cell_type": "code",
   "execution_count": 19,
   "id": "00e39a36",
   "metadata": {},
   "outputs": [
    {
     "data": {
      "image/png": "[encoded data removed]",
      "text/plain": [
       "<Figure size 432x288 with 1 Axes>"
      ]
     },
     "metadata": {
      "needs_background": "light"
     },
     "output_type": "display_data"
    },
    {
     "data": {
      "image/png": "[encoded data removed]",
      "text/plain": [
       "<Figure size 432x288 with 1 Axes>"
      ]
     },
     "metadata": {
      "needs_background": "light"
     },
     "output_type": "display_data"
    },
    {
     "data": {
      "text/plain": [
       "<Figure size 432x288 with 0 Axes>"
      ]
     },
     "metadata": {},
     "output_type": "display_data"
    }
   ],
   "source": [
    "import matplotlib.pyplot as plt\n",
    "# plot the loss\n",
    "plt.plot(r.history['loss'], label='train loss')\n",
    "plt.plot(r.history['val_loss'], label='val loss')\n",
    "plt.legend()\n",
    "plt.show()\n",
    "plt.savefig('LossVal_loss')\n",
    "\n",
    "# plot the accuracy\n",
    "plt.plot(r.history['accuracy'], label='train acc')\n",
    "plt.plot(r.history['val_accuracy'], label='val acc')\n",
    "plt.legend()\n",
    "plt.show()\n",
    "plt.savefig('AccVal_acc')"
   ]
  },
  {
   "cell_type": "markdown",
   "id": "7106936f",
   "metadata": {},
   "source": [
    "# Run prediction on a sample image"
   ]
  },
  {
   "cell_type": "code",
   "execution_count": 20,
   "id": "87126137",
   "metadata": {},
   "outputs": [
    {
     "name": "stdout",
     "output_type": "stream",
     "text": [
      "first image to predict\n",
      "actual label: septoria\n",
      "1/1 [==============================] - 6s 6s/step\n",
      "predicted label: stripe_rust\n"
     ]
    },
    {
     "data": {
      "image/png": "[encoded data removed]",
      "text/plain": [
       "<Figure size 432x288 with 1 Axes>"
      ]
     },
     "metadata": {
      "needs_background": "light"
     },
     "output_type": "display_data"
    }
   ],
   "source": [
    "import numpy as np\n",
    "\n",
    "\n",
    "for image_batch, label_batch in test_set:\n",
    "    first_image = image_batch[0]\n",
    "    first_label = int(label_batch[0])\n",
    "    \n",
    "    print(\"first image to predict\")\n",
    "    plt.imshow(first_image)\n",
    "    print(\"actual label:\",class_names[first_label])\n",
    "    \n",
    "    batch_prediction = CNN_Classifier.predict(image_batch)\n",
    "    print(\"predicted label:\",class_names[np.argmax(batch_prediction[0])])\n",
    "    \n",
    "    break"
   ]
  },
  {
   "cell_type": "code",
   "execution_count": null,
   "id": "9242dcd4",
   "metadata": {},
   "outputs": [],
   "source": []
  }
 ],
 "metadata": {
  "kernelspec": {
   "display_name": "Python 3 (ipykernel)",
   "language": "python",
   "name": "python3"
  },
  "language_info": {
   "codemirror_mode": {
    "name": "ipython",
    "version": 3
   },
   "file_extension": ".py",
   "mimetype": "text/x-python",
   "name": "python",
   "nbconvert_exporter": "python",
   "pygments_lexer": "ipython3",
   "version": "3.9.12"
  }
 },
 "nbformat": 4,
 "nbformat_minor": 5
}
