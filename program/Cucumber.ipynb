{
 "cells": [
  {
   "cell_type": "markdown",
   "id": "604f6d3f",
   "metadata": {},
   "source": [
    "# Import all the Dependencies"
   ]
  },
  {
   "cell_type": "code",
   "execution_count": 16,
   "id": "35bfd2e7",
   "metadata": {},
   "outputs": [],
   "source": [
    "from keras.models import Sequential\n",
    "from keras.layers import Conv2D\n",
    "from keras.layers import MaxPooling2D\n",
    "from keras.layers import Flatten\n",
    "from keras.layers import Dense\n",
    "import tensorflow as tf"
   ]
  },
  {
   "cell_type": "code",
   "execution_count": 26,
   "id": "7cd436d5",
   "metadata": {},
   "outputs": [],
   "source": [
    "new_model=Sequential()"
   ]
  },
  {
   "cell_type": "code",
   "execution_count": 28,
   "id": "0bb9c486",
   "metadata": {},
   "outputs": [],
   "source": [
    "# step 1 convolution\n",
    "new_model.add(Conv2D(32,3,3,input_shape=(64,64,3),activation='relu'))"
   ]
  },
  {
   "cell_type": "code",
   "execution_count": 29,
   "id": "e2649dd0",
   "metadata": {},
   "outputs": [],
   "source": [
    "#Step 2 pooling\n",
    "\n",
    "new_model.add(MaxPooling2D(pool_size=(2,2)))"
   ]
  },
  {
   "cell_type": "code",
   "execution_count": null,
   "id": "abe52e18",
   "metadata": {},
   "outputs": [],
   "source": []
  },
  {
   "cell_type": "code",
   "execution_count": 30,
   "id": "7c1223b4",
   "metadata": {},
   "outputs": [],
   "source": [
    "\n",
    "#Step 2 pooling\n",
    "\n",
    "new_model.add(MaxPooling2D(pool_size=(2,2)))\n"
   ]
  },
  {
   "cell_type": "code",
   "execution_count": 31,
   "id": "e17b4c02",
   "metadata": {},
   "outputs": [],
   "source": [
    "# flattening\n",
    "\n",
    "new_model.add(Flatten())"
   ]
  },
  {
   "cell_type": "code",
   "execution_count": 32,
   "id": "c9f8f0b8",
   "metadata": {},
   "outputs": [],
   "source": [
    "# step 4 Full connection\n",
    "\n",
    "new_model.add(Dense(units=128, activation='relu'))\n",
    "new_model.add(Dense(units=128, activation='sigmoid'))"
   ]
  },
  {
   "cell_type": "code",
   "execution_count": 33,
   "id": "2cc2dc7d",
   "metadata": {},
   "outputs": [],
   "source": [
    "#compiling the cnn()\n",
    "new_model.compile(optimizer='adam',loss = tf.keras.losses.SparseCategoricalCrossentropy(from_logits=True), metrics=['accuracy'])"
   ]
  },
  {
   "cell_type": "markdown",
   "id": "cfca2ad4",
   "metadata": {},
   "source": [
    "# Model Summary"
   ]
  },
  {
   "cell_type": "code",
   "execution_count": 34,
   "id": "15843638",
   "metadata": {},
   "outputs": [
    {
     "name": "stdout",
     "output_type": "stream",
     "text": [
      "Model: \"sequential_2\"\n",
      "_________________________________________________________________\n",
      " Layer (type)                Output Shape              Param #   \n",
      "=================================================================\n",
      " conv2d_4 (Conv2D)           (None, 21, 21, 32)        896       \n",
      "                                                                 \n",
      " max_pooling2d_2 (MaxPooling  (None, 10, 10, 32)       0         \n",
      " 2D)                                                             \n",
      "                                                                 \n",
      " max_pooling2d_3 (MaxPooling  (None, 5, 5, 32)         0         \n",
      " 2D)                                                             \n",
      "                                                                 \n",
      " flatten_1 (Flatten)         (None, 800)               0         \n",
      "                                                                 \n",
      " dense_2 (Dense)             (None, 128)               102528    \n",
      "                                                                 \n",
      " dense_3 (Dense)             (None, 128)               16512     \n",
      "                                                                 \n",
      "=================================================================\n",
      "Total params: 119,936\n",
      "Trainable params: 119,936\n",
      "Non-trainable params: 0\n",
      "_________________________________________________________________\n"
     ]
    }
   ],
   "source": [
    "new_model.summary()"
   ]
  },
  {
   "cell_type": "markdown",
   "id": "ef7806ee",
   "metadata": {},
   "source": [
    "# Building and Compiling the Model"
   ]
  },
  {
   "cell_type": "code",
   "execution_count": 35,
   "id": "6fa16c72",
   "metadata": {},
   "outputs": [],
   "source": [
    "from keras.preprocessing.image import ImageDataGenerator\n",
    "train_datagen = ImageDataGenerator(\n",
    "        rescale=1./255,\n",
    "        shear_range=0.2,\n",
    "        zoom_range=0.2,\n",
    "        horizontal_flip=True)\n",
    "\n",
    "test_datagen = ImageDataGenerator(rescale=1./255)"
   ]
  },
  {
   "cell_type": "code",
   "execution_count": 36,
   "id": "7d4078d7",
   "metadata": {},
   "outputs": [
    {
     "name": "stdout",
     "output_type": "stream",
     "text": [
      "Found 469 images belonging to 2 classes.\n",
      "Found 222 images belonging to 2 classes.\n"
     ]
    }
   ],
   "source": [
    "training_set = train_datagen.flow_from_directory(\n",
    "        r'C:\\Users\\touheed\\Documents\\Adatasets\\Cucumber plant diseases dataset\\training',\n",
    "        target_size=(64, 64),\n",
    "        batch_size=32,\n",
    "        class_mode='binary')\n",
    "\n",
    "test_set = test_datagen.flow_from_directory(\n",
    "        r'C:\\Users\\touheed\\Documents\\Adatasets\\Cucumber plant diseases dataset\\testing',\n",
    "        target_size=(64, 64),\n",
    "        batch_size=32,\n",
    "        class_mode='binary')\n"
   ]
  },
  {
   "cell_type": "markdown",
   "id": "e49d62e1",
   "metadata": {},
   "source": [
    "# Fitting Model"
   ]
  },
  {
   "cell_type": "code",
   "execution_count": 40,
   "id": "b12ceb14",
   "metadata": {},
   "outputs": [
    {
     "name": "stdout",
     "output_type": "stream",
     "text": [
      "Epoch 1/50\n",
      "15/15 [==============================] - 53s 4s/step - loss: 0.3083 - accuracy: 0.8806 - val_loss: 0.3752 - val_accuracy: 0.8378\n",
      "Epoch 2/50\n",
      "15/15 [==============================] - 53s 4s/step - loss: 0.3107 - accuracy: 0.8763 - val_loss: 0.3650 - val_accuracy: 0.8333\n",
      "Epoch 3/50\n",
      "15/15 [==============================] - 53s 4s/step - loss: 0.3409 - accuracy: 0.8657 - val_loss: 0.4526 - val_accuracy: 0.7658\n",
      "Epoch 4/50\n",
      "15/15 [==============================] - 53s 4s/step - loss: 0.3432 - accuracy: 0.8443 - val_loss: 0.3610 - val_accuracy: 0.8243\n",
      "Epoch 5/50\n",
      "15/15 [==============================] - 53s 4s/step - loss: 0.3041 - accuracy: 0.8870 - val_loss: 0.3559 - val_accuracy: 0.8468\n",
      "Epoch 6/50\n",
      "15/15 [==============================] - 53s 4s/step - loss: 0.2946 - accuracy: 0.9019 - val_loss: 0.3709 - val_accuracy: 0.8333\n",
      "Epoch 7/50\n",
      "15/15 [==============================] - 52s 4s/step - loss: 0.2857 - accuracy: 0.8998 - val_loss: 0.3732 - val_accuracy: 0.8333\n",
      "Epoch 8/50\n",
      "15/15 [==============================] - 53s 4s/step - loss: 0.3119 - accuracy: 0.8699 - val_loss: 0.3682 - val_accuracy: 0.8243\n",
      "Epoch 9/50\n",
      "15/15 [==============================] - 53s 4s/step - loss: 0.3048 - accuracy: 0.8785 - val_loss: 0.3765 - val_accuracy: 0.8243\n",
      "Epoch 10/50\n",
      "15/15 [==============================] - 54s 4s/step - loss: 0.2939 - accuracy: 0.8977 - val_loss: 0.3900 - val_accuracy: 0.8198\n",
      "Epoch 11/50\n",
      "15/15 [==============================] - 54s 4s/step - loss: 0.2825 - accuracy: 0.9019 - val_loss: 0.3613 - val_accuracy: 0.8514\n",
      "Epoch 12/50\n",
      "15/15 [==============================] - 53s 4s/step - loss: 0.2968 - accuracy: 0.8827 - val_loss: 0.3893 - val_accuracy: 0.8243\n",
      "Epoch 13/50\n",
      "15/15 [==============================] - 52s 4s/step - loss: 0.2880 - accuracy: 0.8891 - val_loss: 0.3560 - val_accuracy: 0.8423\n",
      "Epoch 14/50\n",
      "15/15 [==============================] - 54s 4s/step - loss: 0.2873 - accuracy: 0.8913 - val_loss: 0.3975 - val_accuracy: 0.8108\n",
      "Epoch 15/50\n",
      "15/15 [==============================] - 53s 4s/step - loss: 0.2930 - accuracy: 0.8827 - val_loss: 0.3516 - val_accuracy: 0.8468\n",
      "Epoch 16/50\n",
      "15/15 [==============================] - 52s 4s/step - loss: 0.2802 - accuracy: 0.8955 - val_loss: 0.3601 - val_accuracy: 0.8333\n",
      "Epoch 17/50\n",
      "15/15 [==============================] - 53s 4s/step - loss: 0.2729 - accuracy: 0.8977 - val_loss: 0.3679 - val_accuracy: 0.8288\n",
      "Epoch 18/50\n",
      "15/15 [==============================] - 53s 4s/step - loss: 0.2647 - accuracy: 0.9083 - val_loss: 0.3593 - val_accuracy: 0.8423\n",
      "Epoch 19/50\n",
      "15/15 [==============================] - 53s 4s/step - loss: 0.2610 - accuracy: 0.9019 - val_loss: 0.3570 - val_accuracy: 0.8378\n",
      "Epoch 20/50\n",
      "15/15 [==============================] - 53s 4s/step - loss: 0.2746 - accuracy: 0.8977 - val_loss: 0.3475 - val_accuracy: 0.8423\n",
      "Epoch 21/50\n",
      "15/15 [==============================] - 53s 4s/step - loss: 0.2669 - accuracy: 0.8955 - val_loss: 0.4097 - val_accuracy: 0.8333\n",
      "Epoch 22/50\n",
      "15/15 [==============================] - 52s 4s/step - loss: 0.2897 - accuracy: 0.8827 - val_loss: 0.3569 - val_accuracy: 0.8468\n",
      "Epoch 23/50\n",
      "15/15 [==============================] - 52s 3s/step - loss: 0.2709 - accuracy: 0.8998 - val_loss: 0.3479 - val_accuracy: 0.8514\n",
      "Epoch 24/50\n",
      "15/15 [==============================] - 53s 4s/step - loss: 0.2669 - accuracy: 0.8849 - val_loss: 0.4451 - val_accuracy: 0.8333\n",
      "Epoch 25/50\n",
      "15/15 [==============================] - 54s 4s/step - loss: 0.2661 - accuracy: 0.8955 - val_loss: 0.4066 - val_accuracy: 0.8198\n",
      "Epoch 26/50\n",
      "15/15 [==============================] - 53s 4s/step - loss: 0.2739 - accuracy: 0.8806 - val_loss: 0.3651 - val_accuracy: 0.8423\n",
      "Epoch 27/50\n",
      "15/15 [==============================] - 53s 3s/step - loss: 0.2820 - accuracy: 0.8657 - val_loss: 0.4530 - val_accuracy: 0.7658\n",
      "Epoch 28/50\n",
      "15/15 [==============================] - 53s 4s/step - loss: 0.3180 - accuracy: 0.8465 - val_loss: 0.4037 - val_accuracy: 0.7973\n",
      "Epoch 29/50\n",
      "15/15 [==============================] - 53s 4s/step - loss: 0.3051 - accuracy: 0.8827 - val_loss: 0.3674 - val_accuracy: 0.8333\n",
      "Epoch 30/50\n",
      "15/15 [==============================] - 53s 4s/step - loss: 0.2795 - accuracy: 0.8849 - val_loss: 0.3629 - val_accuracy: 0.8378\n",
      "Epoch 31/50\n",
      "15/15 [==============================] - 53s 4s/step - loss: 0.2663 - accuracy: 0.8977 - val_loss: 0.3519 - val_accuracy: 0.8423\n",
      "Epoch 32/50\n",
      "15/15 [==============================] - 53s 4s/step - loss: 0.2481 - accuracy: 0.8955 - val_loss: 0.3543 - val_accuracy: 0.8514\n",
      "Epoch 33/50\n",
      "15/15 [==============================] - 53s 4s/step - loss: 0.2564 - accuracy: 0.9062 - val_loss: 0.3798 - val_accuracy: 0.8153\n",
      "Epoch 34/50\n",
      "15/15 [==============================] - 53s 4s/step - loss: 0.2640 - accuracy: 0.8955 - val_loss: 0.3628 - val_accuracy: 0.8378\n",
      "Epoch 35/50\n",
      "15/15 [==============================] - 53s 4s/step - loss: 0.2721 - accuracy: 0.8806 - val_loss: 0.4322 - val_accuracy: 0.8378\n",
      "Epoch 36/50\n",
      "15/15 [==============================] - 54s 4s/step - loss: 0.2704 - accuracy: 0.8891 - val_loss: 0.3406 - val_accuracy: 0.8378\n",
      "Epoch 37/50\n",
      "15/15 [==============================] - 53s 4s/step - loss: 0.2494 - accuracy: 0.9211 - val_loss: 0.3343 - val_accuracy: 0.8468\n",
      "Epoch 38/50\n",
      "15/15 [==============================] - 54s 4s/step - loss: 0.2454 - accuracy: 0.9062 - val_loss: 0.3386 - val_accuracy: 0.8468\n",
      "Epoch 39/50\n",
      "15/15 [==============================] - 52s 4s/step - loss: 0.2732 - accuracy: 0.8806 - val_loss: 0.3861 - val_accuracy: 0.8378\n",
      "Epoch 40/50\n",
      "15/15 [==============================] - 53s 4s/step - loss: 0.2494 - accuracy: 0.8977 - val_loss: 0.3675 - val_accuracy: 0.8378\n",
      "Epoch 41/50\n",
      "15/15 [==============================] - 53s 4s/step - loss: 0.2456 - accuracy: 0.8955 - val_loss: 0.3450 - val_accuracy: 0.8423\n",
      "Epoch 42/50\n",
      "15/15 [==============================] - 53s 4s/step - loss: 0.2384 - accuracy: 0.9062 - val_loss: 0.3377 - val_accuracy: 0.8423\n",
      "Epoch 43/50\n",
      "15/15 [==============================] - 53s 4s/step - loss: 0.2508 - accuracy: 0.9041 - val_loss: 0.4105 - val_accuracy: 0.7973\n",
      "Epoch 44/50\n",
      "15/15 [==============================] - 53s 3s/step - loss: 0.2619 - accuracy: 0.8913 - val_loss: 0.4185 - val_accuracy: 0.7838\n",
      "Epoch 45/50\n",
      "15/15 [==============================] - 53s 3s/step - loss: 0.2658 - accuracy: 0.8977 - val_loss: 0.3355 - val_accuracy: 0.8423\n",
      "Epoch 46/50\n",
      "15/15 [==============================] - 53s 3s/step - loss: 0.2332 - accuracy: 0.9062 - val_loss: 0.3416 - val_accuracy: 0.8559\n",
      "Epoch 47/50\n",
      "15/15 [==============================] - 53s 4s/step - loss: 0.2483 - accuracy: 0.8934 - val_loss: 0.3388 - val_accuracy: 0.8559\n",
      "Epoch 48/50\n",
      "15/15 [==============================] - 53s 4s/step - loss: 0.2353 - accuracy: 0.9104 - val_loss: 0.3414 - val_accuracy: 0.8378\n",
      "Epoch 49/50\n",
      "15/15 [==============================] - 53s 4s/step - loss: 0.2326 - accuracy: 0.9168 - val_loss: 0.3920 - val_accuracy: 0.8333\n",
      "Epoch 50/50\n",
      "15/15 [==============================] - 56s 4s/step - loss: 0.2565 - accuracy: 0.9041 - val_loss: 0.3347 - val_accuracy: 0.8604\n"
     ]
    }
   ],
   "source": [
    "r=new_model.fit(\n",
    "        training_set,\n",
    "        steps_per_epoch=len(training_set),\n",
    "        epochs=50,\n",
    "        validation_data=test_set,\n",
    "        \n",
    "        validation_steps=len(test_set))"
   ]
  },
  {
   "cell_type": "markdown",
   "id": "40c5994d",
   "metadata": {},
   "source": [
    "# Saving Model"
   ]
  },
  {
   "cell_type": "code",
   "execution_count": 45,
   "id": "cfc40af8",
   "metadata": {},
   "outputs": [],
   "source": [
    "import os .path\n",
    "if os.path.isfile(r'C:\\Users\\touheed\\Documents\\potato Model\\Cucumber_model.h5') is False:\n",
    "    CNN_Classifier.save(r'C:\\Users\\touheed\\Documents\\potato Model\\Cucumber_model.h5')"
   ]
  },
  {
   "cell_type": "markdown",
   "id": "9657d69e",
   "metadata": {},
   "source": [
    "# Plotting"
   ]
  },
  {
   "cell_type": "code",
   "execution_count": 46,
   "id": "df196aec",
   "metadata": {},
   "outputs": [
    {
     "data": {
      "image/png": "[encoded data removed]",
      "text/plain": [
       "<Figure size 432x288 with 1 Axes>"
      ]
     },
     "metadata": {
      "needs_background": "light"
     },
     "output_type": "display_data"
    },
    {
     "data": {
      "image/png": "[encoded data removed]",
      "text/plain": [
       "<Figure size 432x288 with 1 Axes>"
      ]
     },
     "metadata": {
      "needs_background": "light"
     },
     "output_type": "display_data"
    },
    {
     "data": {
      "text/plain": [
       "<Figure size 432x288 with 0 Axes>"
      ]
     },
     "metadata": {},
     "output_type": "display_data"
    }
   ],
   "source": [
    "import matplotlib.pyplot as plt\n",
    "# plot the loss\n",
    "plt.plot(r.history['loss'], label='train loss')\n",
    "plt.plot(r.history['val_loss'], label='val loss')\n",
    "plt.legend()\n",
    "plt.show()\n",
    "plt.savefig('LossVal_loss')\n",
    "\n",
    "# plot the accuracy\n",
    "plt.plot(r.history['accuracy'], label='train acc')\n",
    "plt.plot(r.history['val_accuracy'], label='val acc')\n",
    "plt.legend()\n",
    "plt.show()\n",
    "plt.savefig('AccVal_acc')"
   ]
  },
  {
   "cell_type": "markdown",
   "id": "b45c1709",
   "metadata": {},
   "source": [
    "# Defining Classes"
   ]
  },
  {
   "cell_type": "code",
   "execution_count": 47,
   "id": "3ae50ed2",
   "metadata": {},
   "outputs": [
    {
     "data": {
      "text/plain": [
       "{'Ill_cucumber': 0, 'good_Cucumber': 1}"
      ]
     },
     "execution_count": 47,
     "metadata": {},
     "output_type": "execute_result"
    }
   ],
   "source": [
    "training_set.class_indices"
   ]
  },
  {
   "cell_type": "code",
   "execution_count": 48,
   "id": "bce0b954",
   "metadata": {},
   "outputs": [
    {
     "data": {
      "text/plain": [
       "['Ill_cucumber', 'good_Cucumber']"
      ]
     },
     "execution_count": 48,
     "metadata": {},
     "output_type": "execute_result"
    }
   ],
   "source": [
    "class_names = list(training_set.class_indices.keys())\n",
    "class_names"
   ]
  },
  {
   "cell_type": "code",
   "execution_count": 49,
   "id": "90ec16a2",
   "metadata": {},
   "outputs": [
    {
     "name": "stdout",
     "output_type": "stream",
     "text": [
      "[[[0.5254902  0.5568628  0.5647059 ]\n",
      "  [0.5254902  0.5568628  0.5647059 ]\n",
      "  [0.5254902  0.5568628  0.5647059 ]\n",
      "  ...\n",
      "  [0.5882353  0.5921569  0.6117647 ]\n",
      "  [0.5882353  0.5921569  0.6117647 ]\n",
      "  [0.5882353  0.5921569  0.6117647 ]]\n",
      "\n",
      " [[0.5254902  0.5568628  0.5647059 ]\n",
      "  [0.5254902  0.5568628  0.5647059 ]\n",
      "  [0.5254902  0.5568628  0.5647059 ]\n",
      "  ...\n",
      "  [0.5882353  0.5921569  0.6117647 ]\n",
      "  [0.5882353  0.5921569  0.6117647 ]\n",
      "  [0.5882353  0.5921569  0.6117647 ]]\n",
      "\n",
      " [[0.50558597 0.5347469  0.5440644 ]\n",
      "  [0.50558597 0.5347469  0.5440644 ]\n",
      "  [0.50558597 0.5347469  0.5440644 ]\n",
      "  ...\n",
      "  [0.6044536  0.6083752  0.6272459 ]\n",
      "  [0.6044536  0.6083752  0.6272459 ]\n",
      "  [0.6044536  0.6083752  0.6272459 ]]\n",
      "\n",
      " ...\n",
      "\n",
      " [[0.35538837 0.60097283 0.43381974]\n",
      "  [0.35538837 0.60097283 0.43381974]\n",
      "  [0.35538837 0.60097283 0.43381974]\n",
      "  ...\n",
      "  [0.3377565  0.34167808 0.34952122]\n",
      "  [0.3377565  0.34167808 0.34952122]\n",
      "  [0.3377565  0.34167808 0.34952122]]\n",
      "\n",
      " [[0.35686275 0.6039216  0.43529415]\n",
      "  [0.35686275 0.6039216  0.43529415]\n",
      "  [0.35686275 0.6039216  0.43529415]\n",
      "  ...\n",
      "  [0.33333334 0.3372549  0.34509805]\n",
      "  [0.33333334 0.3372549  0.34509805]\n",
      "  [0.33333334 0.3372549  0.34509805]]\n",
      "\n",
      " [[0.35686275 0.6039216  0.43529415]\n",
      "  [0.35686275 0.6039216  0.43529415]\n",
      "  [0.35686275 0.6039216  0.43529415]\n",
      "  ...\n",
      "  [0.33333334 0.3372549  0.34509805]\n",
      "  [0.33333334 0.3372549  0.34509805]\n",
      "  [0.33333334 0.3372549  0.34509805]]]\n"
     ]
    }
   ],
   "source": [
    "count=0\n",
    "for image_batch, label_batch in training_set:\n",
    "#     print(label_batch)\n",
    "    print(image_batch[0])\n",
    "    break"
   ]
  },
  {
   "cell_type": "markdown",
   "id": "70e32c93",
   "metadata": {},
   "source": [
    "# Run prediction on a sample image"
   ]
  },
  {
   "cell_type": "code",
   "execution_count": 50,
   "id": "bfffec88",
   "metadata": {},
   "outputs": [
    {
     "name": "stdout",
     "output_type": "stream",
     "text": [
      "first image to predict\n",
      "actual label: Ill_cucumber\n",
      "1/1 [==============================] - 0s 179ms/step\n",
      "predicted label: Ill_cucumber\n"
     ]
    },
    {
     "data": {
      "image/png": "[encoded data removed]",
      "text/plain": [
       "<Figure size 432x288 with 1 Axes>"
      ]
     },
     "metadata": {
      "needs_background": "light"
     },
     "output_type": "display_data"
    }
   ],
   "source": [
    "import numpy as np\n",
    "\n",
    "\n",
    "for image_batch, label_batch in test_set:\n",
    "    first_image = image_batch[0]\n",
    "    first_label = int(label_batch[0])\n",
    "    \n",
    "    print(\"first image to predict\")\n",
    "    plt.imshow(first_image)\n",
    "    print(\"actual label:\",class_names[first_label])\n",
    "    \n",
    "    batch_prediction = CNN_Classifier.predict(image_batch)\n",
    "    print(\"predicted label:\",class_names[np.argmax(batch_prediction[0])])\n",
    "    \n",
    "    break"
   ]
  },
  {
   "cell_type": "code",
   "execution_count": null,
   "id": "9cc9fc6a",
   "metadata": {},
   "outputs": [],
   "source": []
  }
 ],
 "metadata": {
  "kernelspec": {
   "display_name": "Python 3 (ipykernel)",
   "language": "python",
   "name": "python3"
  },
  "language_info": {
   "codemirror_mode": {
    "name": "ipython",
    "version": 3
   },
   "file_extension": ".py",
   "mimetype": "text/x-python",
   "name": "python",
   "nbconvert_exporter": "python",
   "pygments_lexer": "ipython3",
   "version": "3.9.12"
  }
 },
 "nbformat": 4,
 "nbformat_minor": 5
}
