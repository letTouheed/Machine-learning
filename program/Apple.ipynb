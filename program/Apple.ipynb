{
 "cells": [
  {
   "cell_type": "markdown",
   "id": "0ced08a6",
   "metadata": {},
   "source": [
    "# Import all the Dependencies"
   ]
  },
  {
   "cell_type": "code",
   "execution_count": 4,
   "id": "826dbdbf",
   "metadata": {},
   "outputs": [],
   "source": [
    "from keras.models import Sequential\n",
    "from keras.layers import Conv2D\n",
    "from keras.layers import MaxPooling2D\n",
    "from keras.layers import Flatten\n",
    "from keras.layers import Dense\n",
    "import tensorflow as tf\n"
   ]
  },
  {
   "cell_type": "code",
   "execution_count": 5,
   "id": "e102a3d8",
   "metadata": {},
   "outputs": [],
   "source": [
    "# initializing the CNN\n",
    "\n",
    "CNN_Classifier=Sequential()\n"
   ]
  },
  {
   "cell_type": "code",
   "execution_count": 6,
   "id": "c5238534",
   "metadata": {},
   "outputs": [],
   "source": [
    "# step 1 convolution\n",
    "CNN_Classifier.add(Conv2D(32,3,3,input_shape=(64,64,3),activation='relu'))\n"
   ]
  },
  {
   "cell_type": "code",
   "execution_count": 7,
   "id": "a3a9d3d2",
   "metadata": {},
   "outputs": [],
   "source": [
    "#Step 2 pooling\n",
    "\n",
    "CNN_Classifier.add(MaxPooling2D(pool_size=(2,2)))"
   ]
  },
  {
   "cell_type": "code",
   "execution_count": 8,
   "id": "2688a75c",
   "metadata": {},
   "outputs": [],
   "source": [
    "# step 1 convolution\n",
    "CNN_Classifier.add(Conv2D(32,3,3,activation='relu'))"
   ]
  },
  {
   "cell_type": "code",
   "execution_count": 9,
   "id": "43373705",
   "metadata": {},
   "outputs": [],
   "source": [
    "\n",
    "#Step 2 pooling\n",
    "\n",
    "CNN_Classifier.add(MaxPooling2D(pool_size=(2,2)))\n"
   ]
  },
  {
   "cell_type": "code",
   "execution_count": 10,
   "id": "2887983c",
   "metadata": {},
   "outputs": [],
   "source": [
    "# flattening\n",
    "\n",
    "CNN_Classifier.add(Flatten())"
   ]
  },
  {
   "cell_type": "code",
   "execution_count": 11,
   "id": "10954154",
   "metadata": {},
   "outputs": [],
   "source": [
    "# step 4 Full connection\n",
    "\n",
    "CNN_Classifier.add(Dense(units=128, activation='relu'))\n",
    "CNN_Classifier.add(Dense(units=128, activation='sigmoid'))"
   ]
  },
  {
   "cell_type": "code",
   "execution_count": 12,
   "id": "f49bf68b",
   "metadata": {},
   "outputs": [],
   "source": [
    "#compiling the cnn()\n",
    "CNN_Classifier.compile(optimizer='adam',loss = tf.keras.losses.SparseCategoricalCrossentropy(from_logits=True), metrics=['accuracy'])"
   ]
  },
  {
   "cell_type": "markdown",
   "id": "505082b2",
   "metadata": {},
   "source": [
    "# Summary"
   ]
  },
  {
   "cell_type": "code",
   "execution_count": 13,
   "id": "5b6db1f2",
   "metadata": {},
   "outputs": [
    {
     "name": "stdout",
     "output_type": "stream",
     "text": [
      "Model: \"sequential\"\n",
      "_________________________________________________________________\n",
      " Layer (type)                Output Shape              Param #   \n",
      "=================================================================\n",
      " conv2d (Conv2D)             (None, 21, 21, 32)        896       \n",
      "                                                                 \n",
      " max_pooling2d (MaxPooling2D  (None, 10, 10, 32)       0         \n",
      " )                                                               \n",
      "                                                                 \n",
      " conv2d_1 (Conv2D)           (None, 3, 3, 32)          9248      \n",
      "                                                                 \n",
      " max_pooling2d_1 (MaxPooling  (None, 1, 1, 32)         0         \n",
      " 2D)                                                             \n",
      "                                                                 \n",
      " flatten (Flatten)           (None, 32)                0         \n",
      "                                                                 \n",
      " dense (Dense)               (None, 128)               4224      \n",
      "                                                                 \n",
      " dense_1 (Dense)             (None, 128)               16512     \n",
      "                                                                 \n",
      "=================================================================\n",
      "Total params: 30,880\n",
      "Trainable params: 30,880\n",
      "Non-trainable params: 0\n",
      "_________________________________________________________________\n"
     ]
    }
   ],
   "source": [
    "CNN_Classifier.summary()"
   ]
  },
  {
   "cell_type": "markdown",
   "id": "a2ad237d",
   "metadata": {},
   "source": [
    "# Building and Compiling the Model"
   ]
  },
  {
   "cell_type": "code",
   "execution_count": 14,
   "id": "466cdc4f",
   "metadata": {},
   "outputs": [],
   "source": [
    "from keras.preprocessing.image import ImageDataGenerator\n",
    "train_datagen = ImageDataGenerator(\n",
    "        rescale=1./255,\n",
    "        shear_range=0.2,\n",
    "        zoom_range=0.2,\n",
    "        horizontal_flip=True)\n",
    "\n",
    "test_datagen = ImageDataGenerator(rescale=1./255)"
   ]
  },
  {
   "cell_type": "code",
   "execution_count": 15,
   "id": "09bb8916",
   "metadata": {},
   "outputs": [
    {
     "name": "stdout",
     "output_type": "stream",
     "text": [
      "Found 4371 images belonging to 2 classes.\n",
      "Found 2309 images belonging to 2 classes.\n"
     ]
    }
   ],
   "source": [
    "training_set = train_datagen.flow_from_directory(\n",
    "        r'C:\\Users\\touheed\\Documents\\Adatasets\\Apple_Leaf_Disease\\train',\n",
    "        target_size=(64, 64),\n",
    "        batch_size=32,\n",
    "        class_mode='binary')\n",
    "\n",
    "test_set = test_datagen.flow_from_directory(\n",
    "        r'C:\\Users\\touheed\\Documents\\Adatasets\\Apple_Leaf_Disease\\test',\n",
    "        target_size=(64, 64),\n",
    "        batch_size=32,\n",
    "        class_mode='binary')\n"
   ]
  },
  {
   "cell_type": "code",
   "execution_count": 23,
   "id": "f279e495",
   "metadata": {},
   "outputs": [
    {
     "name": "stdout",
     "output_type": "stream",
     "text": [
      "137/137 [==============================] - 387s 3s/step - loss: 0.1687 - accuracy: 0.9359 - val_loss: 0.0614 - val_accuracy: 0.9818\n"
     ]
    }
   ],
   "source": [
    "r=CNN_Classifier.fit(\n",
    "        training_set,\n",
    "        steps_per_epoch=len(training_set),\n",
    "        epochs=1,\n",
    "        validation_data=test_set,\n",
    "        \n",
    "        validation_steps=len(test_set))"
   ]
  },
  {
   "cell_type": "code",
   "execution_count": 194,
   "id": "d9e70794",
   "metadata": {},
   "outputs": [
    {
     "name": "stdout",
     "output_type": "stream",
     "text": [
      "73/73 [==============================] - 82s 1s/step - loss: 0.0608 - accuracy: 0.9788\n"
     ]
    }
   ],
   "source": [
    "scores = CNN_Classifier.evaluate(test_set)"
   ]
  },
  {
   "cell_type": "markdown",
   "id": "0c8ac2f5",
   "metadata": {},
   "source": [
    "# Saving the Model"
   ]
  },
  {
   "cell_type": "code",
   "execution_count": 195,
   "id": "14fd173f",
   "metadata": {},
   "outputs": [],
   "source": [
    "import os .path\n",
    "if os.path.isfile(r'C:\\Users\\touheed\\Documents\\potato Model\\Apple_model.h5') is False:\n",
    "    CNN_Classifier.save(r'C:\\Users\\touheed\\Documents\\potato Model\\Apple_model.h5')"
   ]
  },
  {
   "cell_type": "markdown",
   "id": "946c8e76",
   "metadata": {},
   "source": [
    "# Defining Classes"
   ]
  },
  {
   "cell_type": "code",
   "execution_count": 16,
   "id": "561beaa9",
   "metadata": {},
   "outputs": [
    {
     "data": {
      "text/plain": [
       "{'Apple scab': 0, 'Healthy': 1}"
      ]
     },
     "execution_count": 16,
     "metadata": {},
     "output_type": "execute_result"
    }
   ],
   "source": [
    "training_set.class_indices"
   ]
  },
  {
   "cell_type": "code",
   "execution_count": 17,
   "id": "c66f823c",
   "metadata": {},
   "outputs": [
    {
     "data": {
      "text/plain": [
       "['Apple scab', 'Healthy']"
      ]
     },
     "execution_count": 17,
     "metadata": {},
     "output_type": "execute_result"
    }
   ],
   "source": [
    "class_names = list(training_set.class_indices.keys())\n",
    "class_names"
   ]
  },
  {
   "cell_type": "code",
   "execution_count": 18,
   "id": "d8c6436b",
   "metadata": {},
   "outputs": [
    {
     "name": "stdout",
     "output_type": "stream",
     "text": [
      "[[[0.6499178  0.61854523 0.7126629 ]\n",
      "  [0.6588436  0.627471   0.7215887 ]\n",
      "  [0.639259   0.60788643 0.7020041 ]\n",
      "  ...\n",
      "  [0.58428943 0.54899526 0.67056394]\n",
      "  [0.5928388  0.5575447  0.6791133 ]\n",
      "  [0.58695555 0.55166143 0.67323005]]\n",
      "\n",
      " [[0.590629   0.55925643 0.6533741 ]\n",
      "  [0.6228726  0.59150004 0.6856177 ]\n",
      "  [0.6200373  0.58866477 0.6827825 ]\n",
      "  ...\n",
      "  [0.5961923  0.5608982  0.6824668 ]\n",
      "  [0.5914317  0.55613756 0.6777062 ]\n",
      "  [0.574753   0.5394589  0.6610275 ]]\n",
      "\n",
      " [[0.5705309  0.53915834 0.633276  ]\n",
      "  [0.5513483  0.5199758  0.6140934 ]\n",
      "  [0.54132974 0.5099572  0.60407484]\n",
      "  ...\n",
      "  [0.58017683 0.5448827  0.66645133]\n",
      "  [0.590843   0.5555489  0.6771175 ]\n",
      "  [0.57224363 0.5369495  0.65851814]]\n",
      "\n",
      " ...\n",
      "\n",
      " [[0.76942503 0.71844465 0.7851113 ]\n",
      "  [0.7310967  0.6801163  0.74678296]\n",
      "  [0.7130632  0.6620828  0.72874945]\n",
      "  ...\n",
      "  [0.82662284 0.77564245 0.8423091 ]\n",
      "  [0.77210623 0.7211258  0.7877925 ]\n",
      "  [0.69658947 0.6456091  0.71227574]]\n",
      "\n",
      " [[0.80356944 0.752589   0.8192557 ]\n",
      "  [0.82660043 0.77562004 0.8422867 ]\n",
      "  [0.81450915 0.76352876 0.8301955 ]\n",
      "  ...\n",
      "  [0.71584505 0.66486466 0.7315313 ]\n",
      "  [0.79580164 0.74482125 0.8114879 ]\n",
      "  [0.6990398  0.6480594  0.7147261 ]]\n",
      "\n",
      " [[0.75023955 0.69925916 0.7659258 ]\n",
      "  [0.7859336  0.7349532  0.8016199 ]\n",
      "  [0.8024999  0.7515195  0.81818616]\n",
      "  ...\n",
      "  [0.5098654  0.45888504 0.5255517 ]\n",
      "  [0.7354692  0.68448883 0.7511555 ]\n",
      "  [0.6547122  0.6037318  0.6703985 ]]]\n"
     ]
    }
   ],
   "source": [
    "count=0\n",
    "for image_batch, label_batch in training_set:\n",
    "#     print(label_batch)\n",
    "    print(image_batch[0])\n",
    "    break"
   ]
  },
  {
   "cell_type": "markdown",
   "id": "8dc3ef60",
   "metadata": {},
   "source": [
    "# Plotting"
   ]
  },
  {
   "cell_type": "code",
   "execution_count": 26,
   "id": "d9be5159",
   "metadata": {
    "collapsed": true
   },
   "outputs": [
    {
     "data": {
      "image/png": "[encoded data removed]",
      "text/plain": [
       "<Figure size 432x288 with 1 Axes>"
      ]
     },
     "metadata": {
      "needs_background": "light"
     },
     "output_type": "display_data"
    },
    {
     "data": {
      "image/png": "[encoded data removed]",
      "text/plain": [
       "<Figure size 432x288 with 1 Axes>"
      ]
     },
     "metadata": {
      "needs_background": "light"
     },
     "output_type": "display_data"
    },
    {
     "data": {
      "text/plain": [
       "<Figure size 432x288 with 0 Axes>"
      ]
     },
     "metadata": {},
     "output_type": "display_data"
    }
   ],
   "source": [
    "import matplotlib.pyplot as plt\n",
    "# plot the loss\n",
    "plt.plot(r.history['loss'], label='train loss')\n",
    "plt.plot(r.history['val_loss'], label='val loss')\n",
    "plt.legend()\n",
    "plt.show()\n",
    "plt.savefig('LossVal_loss')\n",
    "\n",
    "# plot the accuracy\n",
    "plt.plot(r.history['accuracy'], label='train acc')\n",
    "plt.plot(r.history['val_accuracy'], label='val acc')\n",
    "plt.legend()\n",
    "plt.show()\n",
    "plt.savefig('AccVal_acc')"
   ]
  },
  {
   "cell_type": "markdown",
   "id": "a4e78eef",
   "metadata": {},
   "source": [
    "# Run prediction on a sample image"
   ]
  },
  {
   "cell_type": "code",
   "execution_count": 27,
   "id": "6ba6ea32",
   "metadata": {},
   "outputs": [
    {
     "name": "stdout",
     "output_type": "stream",
     "text": [
      "first image to predict\n",
      "actual label: Apple scab\n",
      "1/1 [==============================] - 1s 793ms/step\n",
      "predicted label: Apple scab\n"
     ]
    },
    {
     "data": {
      "image/png": "[encoded data removed]",
      "text/plain": [
       "<Figure size 432x288 with 1 Axes>"
      ]
     },
     "metadata": {
      "needs_background": "light"
     },
     "output_type": "display_data"
    }
   ],
   "source": [
    "import numpy as np\n",
    "\n",
    "\n",
    "for image_batch, label_batch in test_set:\n",
    "    first_image = image_batch[0]\n",
    "    first_label = int(label_batch[0])\n",
    "    \n",
    "    print(\"first image to predict\")\n",
    "    plt.imshow(first_image)\n",
    "    print(\"actual label:\",class_names[first_label])\n",
    "    \n",
    "    batch_prediction = CNN_Classifier.predict(image_batch)\n",
    "    print(\"predicted label:\",class_names[np.argmax(batch_prediction[0])])\n",
    "    \n",
    "    break"
   ]
  },
  {
   "cell_type": "code",
   "execution_count": null,
   "id": "6d7a7135",
   "metadata": {},
   "outputs": [],
   "source": []
  }
 ],
 "metadata": {
  "kernelspec": {
   "display_name": "Python 3 (ipykernel)",
   "language": "python",
   "name": "python3"
  },
  "language_info": {
   "codemirror_mode": {
    "name": "ipython",
    "version": 3
   },
   "file_extension": ".py",
   "mimetype": "text/x-python",
   "name": "python",
   "nbconvert_exporter": "python",
   "pygments_lexer": "ipython3",
   "version": "3.9.12"
  }
 },
 "nbformat": 4,
 "nbformat_minor": 5
}
