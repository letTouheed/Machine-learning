{
 "cells": [
  {
   "cell_type": "markdown",
   "id": "749c9c24",
   "metadata": {},
   "source": [
    "# Import all the Dependencies"
   ]
  },
  {
   "cell_type": "code",
   "execution_count": 1,
   "id": "6dd2fdb9",
   "metadata": {},
   "outputs": [],
   "source": [
    "from keras.models import Sequential\n",
    "from keras.layers import Conv2D\n",
    "from keras.layers import MaxPooling2D\n",
    "from keras.layers import Flatten\n",
    "from keras.layers import Dense\n",
    "import tensorflow as tf\n",
    "\n",
    "# initializing the CNN\n",
    "\n",
    "CNN_Classifier=Sequential()\n",
    "\n",
    "# step 1 convolution\n",
    "CNN_Classifier.add(Conv2D(32,3,3,input_shape=(64,64,3),activation='relu'))\n",
    "\n",
    "#Step 2 pooling\n",
    "\n",
    "CNN_Classifier.add(MaxPooling2D(pool_size=(2,2)))\n",
    "\n",
    "# step 1 convolution\n",
    "CNN_Classifier.add(Conv2D(32,3,3,activation='relu'))\n",
    "\n",
    "#Step 2 pooling\n",
    "\n",
    "CNN_Classifier.add(MaxPooling2D(pool_size=(2,2)))\n",
    "\n",
    "# flattening\n",
    "\n",
    "CNN_Classifier.add(Flatten())\n",
    "\n",
    "# step 4 Full connection\n",
    "\n",
    "CNN_Classifier.add(Dense(units=128, activation='relu'))\n",
    "CNN_Classifier.add(Dense(units=128, activation='sigmoid'))\n",
    " \n",
    "#compiling the cnn()\n",
    "CNN_Classifier.compile(optimizer='adam',loss = tf.keras.losses.SparseCategoricalCrossentropy(from_logits=True), metrics=['accuracy'])"
   ]
  },
  {
   "cell_type": "markdown",
   "id": "872ae9d6",
   "metadata": {},
   "source": [
    "# Summary"
   ]
  },
  {
   "cell_type": "code",
   "execution_count": 47,
   "id": "5e4da104",
   "metadata": {},
   "outputs": [
    {
     "name": "stdout",
     "output_type": "stream",
     "text": [
      "Model: \"sequential\"\n",
      "_________________________________________________________________\n",
      " Layer (type)                Output Shape              Param #   \n",
      "=================================================================\n",
      " conv2d (Conv2D)             (None, 21, 21, 32)        896       \n",
      "                                                                 \n",
      " max_pooling2d (MaxPooling2D  (None, 10, 10, 32)       0         \n",
      " )                                                               \n",
      "                                                                 \n",
      " conv2d_1 (Conv2D)           (None, 3, 3, 32)          9248      \n",
      "                                                                 \n",
      " max_pooling2d_1 (MaxPooling  (None, 1, 1, 32)         0         \n",
      " 2D)                                                             \n",
      "                                                                 \n",
      " flatten (Flatten)           (None, 32)                0         \n",
      "                                                                 \n",
      " dense (Dense)               (None, 128)               4224      \n",
      "                                                                 \n",
      " dense_1 (Dense)             (None, 128)               16512     \n",
      "                                                                 \n",
      "=================================================================\n",
      "Total params: 30,880\n",
      "Trainable params: 30,880\n",
      "Non-trainable params: 0\n",
      "_________________________________________________________________\n"
     ]
    }
   ],
   "source": [
    "CNN_Classifier.summary()"
   ]
  },
  {
   "cell_type": "markdown",
   "id": "35cd876e",
   "metadata": {},
   "source": [
    "# Building and Compiling the Model"
   ]
  },
  {
   "cell_type": "code",
   "execution_count": 44,
   "id": "38136381",
   "metadata": {
    "collapsed": true
   },
   "outputs": [
    {
     "name": "stdout",
     "output_type": "stream",
     "text": [
      "Found 1951 images belonging to 4 classes.\n",
      "Found 433 images belonging to 4 classes.\n",
      "Epoch 1/100\n",
      "61/61 [==============================] - 64s 1s/step - loss: 0.0999 - accuracy: 0.9621 - val_loss: 0.5171 - val_accuracy: 0.8799\n",
      "Epoch 2/100\n",
      "61/61 [==============================] - 25s 413ms/step - loss: 0.1066 - accuracy: 0.9631 - val_loss: 0.5723 - val_accuracy: 0.8753\n",
      "Epoch 3/100\n",
      "61/61 [==============================] - 24s 389ms/step - loss: 0.1077 - accuracy: 0.9626 - val_loss: 0.5808 - val_accuracy: 0.8684\n",
      "Epoch 4/100\n",
      "61/61 [==============================] - 25s 418ms/step - loss: 0.1192 - accuracy: 0.9564 - val_loss: 0.5514 - val_accuracy: 0.8776\n",
      "Epoch 5/100\n",
      "61/61 [==============================] - 41s 677ms/step - loss: 0.1014 - accuracy: 0.9626 - val_loss: 0.5216 - val_accuracy: 0.8822\n",
      "Epoch 6/100\n",
      "61/61 [==============================] - 22s 359ms/step - loss: 0.1148 - accuracy: 0.9549 - val_loss: 0.4889 - val_accuracy: 0.8730\n",
      "Epoch 7/100\n",
      "61/61 [==============================] - 22s 363ms/step - loss: 0.1446 - accuracy: 0.9416 - val_loss: 0.6413 - val_accuracy: 0.8568\n",
      "Epoch 8/100\n",
      "61/61 [==============================] - 22s 370ms/step - loss: 0.1373 - accuracy: 0.9539 - val_loss: 0.5636 - val_accuracy: 0.8661\n",
      "Epoch 9/100\n",
      "61/61 [==============================] - 23s 379ms/step - loss: 0.1144 - accuracy: 0.9564 - val_loss: 0.5975 - val_accuracy: 0.8591\n",
      "Epoch 10/100\n",
      "61/61 [==============================] - 23s 383ms/step - loss: 0.1070 - accuracy: 0.9585 - val_loss: 0.5505 - val_accuracy: 0.8776\n",
      "Epoch 11/100\n",
      "61/61 [==============================] - 23s 386ms/step - loss: 0.1079 - accuracy: 0.9646 - val_loss: 0.5051 - val_accuracy: 0.8822\n",
      "Epoch 12/100\n",
      "61/61 [==============================] - 24s 396ms/step - loss: 0.0980 - accuracy: 0.9682 - val_loss: 0.5051 - val_accuracy: 0.8891\n",
      "Epoch 13/100\n",
      "61/61 [==============================] - 23s 378ms/step - loss: 0.1082 - accuracy: 0.9616 - val_loss: 0.5255 - val_accuracy: 0.8799\n",
      "Epoch 14/100\n",
      "61/61 [==============================] - 24s 401ms/step - loss: 0.1246 - accuracy: 0.9487 - val_loss: 0.5047 - val_accuracy: 0.8799\n",
      "Epoch 15/100\n",
      "61/61 [==============================] - 24s 393ms/step - loss: 0.0903 - accuracy: 0.9672 - val_loss: 0.5964 - val_accuracy: 0.8707\n",
      "Epoch 16/100\n",
      "61/61 [==============================] - 25s 417ms/step - loss: 0.0963 - accuracy: 0.9641 - val_loss: 0.5574 - val_accuracy: 0.8753\n",
      "Epoch 17/100\n",
      "61/61 [==============================] - 24s 385ms/step - loss: 0.1158 - accuracy: 0.9610 - val_loss: 0.5652 - val_accuracy: 0.8707\n",
      "Epoch 18/100\n",
      "61/61 [==============================] - 28s 459ms/step - loss: 0.0950 - accuracy: 0.9657 - val_loss: 0.6123 - val_accuracy: 0.8799\n",
      "Epoch 19/100\n",
      "61/61 [==============================] - 24s 394ms/step - loss: 0.1187 - accuracy: 0.9513 - val_loss: 0.6333 - val_accuracy: 0.8453\n",
      "Epoch 20/100\n",
      "61/61 [==============================] - 23s 378ms/step - loss: 0.1148 - accuracy: 0.9534 - val_loss: 0.5203 - val_accuracy: 0.8753\n",
      "Epoch 21/100\n",
      "61/61 [==============================] - 22s 367ms/step - loss: 0.1021 - accuracy: 0.9631 - val_loss: 0.6430 - val_accuracy: 0.8799\n",
      "Epoch 22/100\n",
      "61/61 [==============================] - 23s 372ms/step - loss: 0.1052 - accuracy: 0.9575 - val_loss: 0.5918 - val_accuracy: 0.8661\n",
      "Epoch 23/100\n",
      "61/61 [==============================] - 21s 351ms/step - loss: 0.1104 - accuracy: 0.9564 - val_loss: 0.5710 - val_accuracy: 0.8776\n",
      "Epoch 24/100\n",
      "61/61 [==============================] - 21s 352ms/step - loss: 0.1141 - accuracy: 0.9554 - val_loss: 0.5896 - val_accuracy: 0.8730\n",
      "Epoch 25/100\n",
      "61/61 [==============================] - 22s 355ms/step - loss: 0.0994 - accuracy: 0.9610 - val_loss: 0.5758 - val_accuracy: 0.8730\n",
      "Epoch 26/100\n",
      "61/61 [==============================] - 23s 380ms/step - loss: 0.1279 - accuracy: 0.9534 - val_loss: 0.6119 - val_accuracy: 0.8591\n",
      "Epoch 27/100\n",
      "61/61 [==============================] - 23s 375ms/step - loss: 0.1140 - accuracy: 0.9539 - val_loss: 0.6355 - val_accuracy: 0.8545\n",
      "Epoch 28/100\n",
      "61/61 [==============================] - 23s 375ms/step - loss: 0.1301 - accuracy: 0.9477 - val_loss: 0.6432 - val_accuracy: 0.8661\n",
      "Epoch 29/100\n",
      "61/61 [==============================] - 22s 354ms/step - loss: 0.1130 - accuracy: 0.9600 - val_loss: 0.5810 - val_accuracy: 0.8637\n",
      "Epoch 30/100\n",
      "61/61 [==============================] - 22s 363ms/step - loss: 0.0978 - accuracy: 0.9564 - val_loss: 0.5370 - val_accuracy: 0.8776\n",
      "Epoch 31/100\n",
      "61/61 [==============================] - 23s 370ms/step - loss: 0.1110 - accuracy: 0.9585 - val_loss: 0.6460 - val_accuracy: 0.8453\n",
      "Epoch 32/100\n",
      "61/61 [==============================] - 23s 386ms/step - loss: 0.1100 - accuracy: 0.9610 - val_loss: 0.5457 - val_accuracy: 0.8707\n",
      "Epoch 33/100\n",
      "61/61 [==============================] - 25s 410ms/step - loss: 0.1114 - accuracy: 0.9605 - val_loss: 0.5657 - val_accuracy: 0.8707\n",
      "Epoch 34/100\n",
      "61/61 [==============================] - 24s 394ms/step - loss: 0.1177 - accuracy: 0.9595 - val_loss: 0.5477 - val_accuracy: 0.8684\n",
      "Epoch 35/100\n",
      "61/61 [==============================] - 23s 375ms/step - loss: 0.1035 - accuracy: 0.9580 - val_loss: 0.5537 - val_accuracy: 0.8730\n",
      "Epoch 36/100\n",
      "61/61 [==============================] - 22s 367ms/step - loss: 0.0917 - accuracy: 0.9682 - val_loss: 0.6223 - val_accuracy: 0.8684\n",
      "Epoch 37/100\n",
      "61/61 [==============================] - 23s 381ms/step - loss: 0.1052 - accuracy: 0.9610 - val_loss: 0.5691 - val_accuracy: 0.8730\n",
      "Epoch 38/100\n",
      "61/61 [==============================] - 26s 425ms/step - loss: 0.1076 - accuracy: 0.9621 - val_loss: 0.6447 - val_accuracy: 0.8499\n",
      "Epoch 39/100\n",
      "61/61 [==============================] - 28s 456ms/step - loss: 0.0937 - accuracy: 0.9718 - val_loss: 0.6293 - val_accuracy: 0.8568\n",
      "Epoch 40/100\n",
      "61/61 [==============================] - 24s 402ms/step - loss: 0.1174 - accuracy: 0.9590 - val_loss: 0.5826 - val_accuracy: 0.8868\n",
      "Epoch 41/100\n",
      "61/61 [==============================] - 24s 386ms/step - loss: 0.1312 - accuracy: 0.9554 - val_loss: 0.5061 - val_accuracy: 0.8938\n",
      "Epoch 42/100\n",
      "61/61 [==============================] - 23s 387ms/step - loss: 0.0976 - accuracy: 0.9569 - val_loss: 0.5767 - val_accuracy: 0.8799\n",
      "Epoch 43/100\n",
      "61/61 [==============================] - 23s 376ms/step - loss: 0.1097 - accuracy: 0.9580 - val_loss: 0.6824 - val_accuracy: 0.8522\n",
      "Epoch 44/100\n",
      "61/61 [==============================] - 24s 399ms/step - loss: 0.1053 - accuracy: 0.9600 - val_loss: 0.5695 - val_accuracy: 0.8730\n",
      "Epoch 45/100\n",
      "61/61 [==============================] - 24s 398ms/step - loss: 0.0899 - accuracy: 0.9646 - val_loss: 0.5448 - val_accuracy: 0.8845\n",
      "Epoch 46/100\n",
      "61/61 [==============================] - 24s 394ms/step - loss: 0.1022 - accuracy: 0.9631 - val_loss: 0.6090 - val_accuracy: 0.8707\n",
      "Epoch 47/100\n",
      "61/61 [==============================] - 23s 381ms/step - loss: 0.1026 - accuracy: 0.9559 - val_loss: 0.6387 - val_accuracy: 0.8614\n",
      "Epoch 48/100\n",
      "61/61 [==============================] - 23s 387ms/step - loss: 0.1032 - accuracy: 0.9610 - val_loss: 0.6018 - val_accuracy: 0.8684\n",
      "Epoch 49/100\n",
      "61/61 [==============================] - 22s 362ms/step - loss: 0.0967 - accuracy: 0.9646 - val_loss: 0.7327 - val_accuracy: 0.8499\n",
      "Epoch 50/100\n",
      "61/61 [==============================] - 23s 377ms/step - loss: 0.1185 - accuracy: 0.9544 - val_loss: 0.5812 - val_accuracy: 0.8822\n",
      "Epoch 51/100\n",
      "61/61 [==============================] - 24s 395ms/step - loss: 0.1173 - accuracy: 0.9523 - val_loss: 0.7100 - val_accuracy: 0.8453\n",
      "Epoch 52/100\n",
      "61/61 [==============================] - 24s 392ms/step - loss: 0.1033 - accuracy: 0.9651 - val_loss: 0.5803 - val_accuracy: 0.8730\n",
      "Epoch 53/100\n",
      "61/61 [==============================] - 23s 378ms/step - loss: 0.1054 - accuracy: 0.9554 - val_loss: 0.5793 - val_accuracy: 0.8822\n",
      "Epoch 54/100\n",
      "61/61 [==============================] - 30s 491ms/step - loss: 0.1074 - accuracy: 0.9544 - val_loss: 0.6359 - val_accuracy: 0.8591\n",
      "Epoch 55/100\n",
      "61/61 [==============================] - 23s 384ms/step - loss: 0.1077 - accuracy: 0.9590 - val_loss: 0.5691 - val_accuracy: 0.8684\n",
      "Epoch 56/100\n",
      "61/61 [==============================] - 24s 400ms/step - loss: 0.1077 - accuracy: 0.9569 - val_loss: 0.5461 - val_accuracy: 0.8845\n",
      "Epoch 57/100\n"
     ]
    },
    {
     "name": "stdout",
     "output_type": "stream",
     "text": [
      "61/61 [==============================] - 23s 377ms/step - loss: 0.1387 - accuracy: 0.9472 - val_loss: 0.6407 - val_accuracy: 0.8476\n",
      "Epoch 58/100\n",
      "61/61 [==============================] - 24s 394ms/step - loss: 0.1121 - accuracy: 0.9549 - val_loss: 0.5692 - val_accuracy: 0.8822\n",
      "Epoch 59/100\n",
      "61/61 [==============================] - 25s 417ms/step - loss: 0.1031 - accuracy: 0.9610 - val_loss: 0.5824 - val_accuracy: 0.8822\n",
      "Epoch 60/100\n",
      "61/61 [==============================] - 24s 388ms/step - loss: 0.1130 - accuracy: 0.9569 - val_loss: 0.5452 - val_accuracy: 0.8776\n",
      "Epoch 61/100\n",
      "61/61 [==============================] - 25s 407ms/step - loss: 0.0982 - accuracy: 0.9657 - val_loss: 0.6226 - val_accuracy: 0.8661\n",
      "Epoch 62/100\n",
      "61/61 [==============================] - 24s 399ms/step - loss: 0.0930 - accuracy: 0.9682 - val_loss: 0.5432 - val_accuracy: 0.8730\n",
      "Epoch 63/100\n",
      "61/61 [==============================] - 23s 371ms/step - loss: 0.0855 - accuracy: 0.9641 - val_loss: 0.5321 - val_accuracy: 0.8822\n",
      "Epoch 64/100\n",
      "61/61 [==============================] - 22s 366ms/step - loss: 0.1119 - accuracy: 0.9564 - val_loss: 0.5805 - val_accuracy: 0.8776\n",
      "Epoch 65/100\n",
      "61/61 [==============================] - 26s 424ms/step - loss: 0.0818 - accuracy: 0.9703 - val_loss: 0.5799 - val_accuracy: 0.8661\n",
      "Epoch 66/100\n",
      "61/61 [==============================] - 26s 426ms/step - loss: 0.0931 - accuracy: 0.9657 - val_loss: 0.5879 - val_accuracy: 0.8614\n",
      "Epoch 67/100\n",
      "61/61 [==============================] - 25s 418ms/step - loss: 0.0880 - accuracy: 0.9651 - val_loss: 0.5933 - val_accuracy: 0.8753\n",
      "Epoch 68/100\n",
      "61/61 [==============================] - 26s 422ms/step - loss: 0.1248 - accuracy: 0.9554 - val_loss: 0.5277 - val_accuracy: 0.8799\n",
      "Epoch 69/100\n",
      "61/61 [==============================] - 26s 436ms/step - loss: 0.1222 - accuracy: 0.9564 - val_loss: 0.6306 - val_accuracy: 0.8614\n",
      "Epoch 70/100\n",
      "61/61 [==============================] - 25s 415ms/step - loss: 0.1178 - accuracy: 0.9528 - val_loss: 0.5519 - val_accuracy: 0.8753\n",
      "Epoch 71/100\n",
      "61/61 [==============================] - 26s 418ms/step - loss: 0.0876 - accuracy: 0.9682 - val_loss: 0.5573 - val_accuracy: 0.8845\n",
      "Epoch 72/100\n",
      "61/61 [==============================] - 25s 415ms/step - loss: 0.0925 - accuracy: 0.9651 - val_loss: 0.5599 - val_accuracy: 0.8868\n",
      "Epoch 73/100\n",
      "61/61 [==============================] - 29s 475ms/step - loss: 0.1240 - accuracy: 0.9549 - val_loss: 0.5839 - val_accuracy: 0.8730\n",
      "Epoch 74/100\n",
      "61/61 [==============================] - 28s 465ms/step - loss: 0.0967 - accuracy: 0.9636 - val_loss: 0.5473 - val_accuracy: 0.8776\n",
      "Epoch 75/100\n",
      "61/61 [==============================] - 26s 433ms/step - loss: 0.1511 - accuracy: 0.9436 - val_loss: 0.6141 - val_accuracy: 0.8591\n",
      "Epoch 76/100\n",
      "61/61 [==============================] - 28s 456ms/step - loss: 0.0939 - accuracy: 0.9651 - val_loss: 0.6492 - val_accuracy: 0.8499\n",
      "Epoch 77/100\n",
      "61/61 [==============================] - 29s 472ms/step - loss: 0.1093 - accuracy: 0.9564 - val_loss: 0.6703 - val_accuracy: 0.8291\n",
      "Epoch 78/100\n",
      "61/61 [==============================] - 28s 468ms/step - loss: 0.1000 - accuracy: 0.9569 - val_loss: 0.6025 - val_accuracy: 0.8730\n",
      "Epoch 79/100\n",
      "61/61 [==============================] - 27s 441ms/step - loss: 0.0884 - accuracy: 0.9646 - val_loss: 0.5379 - val_accuracy: 0.8845\n",
      "Epoch 80/100\n",
      "61/61 [==============================] - 26s 434ms/step - loss: 0.1092 - accuracy: 0.9569 - val_loss: 0.5679 - val_accuracy: 0.8776\n",
      "Epoch 81/100\n",
      "61/61 [==============================] - 27s 451ms/step - loss: 0.1050 - accuracy: 0.9580 - val_loss: 0.5892 - val_accuracy: 0.8661\n",
      "Epoch 82/100\n",
      "61/61 [==============================] - 27s 451ms/step - loss: 0.1017 - accuracy: 0.9610 - val_loss: 0.5812 - val_accuracy: 0.8661\n",
      "Epoch 83/100\n",
      "61/61 [==============================] - 27s 442ms/step - loss: 0.1211 - accuracy: 0.9549 - val_loss: 0.5385 - val_accuracy: 0.8891\n",
      "Epoch 84/100\n",
      "61/61 [==============================] - 29s 472ms/step - loss: 0.1135 - accuracy: 0.9610 - val_loss: 0.5749 - val_accuracy: 0.8799\n",
      "Epoch 85/100\n",
      "61/61 [==============================] - 29s 480ms/step - loss: 0.1035 - accuracy: 0.9636 - val_loss: 0.5487 - val_accuracy: 0.8591\n",
      "Epoch 86/100\n",
      "61/61 [==============================] - 29s 472ms/step - loss: 0.1047 - accuracy: 0.9667 - val_loss: 0.5952 - val_accuracy: 0.8753\n",
      "Epoch 87/100\n",
      "61/61 [==============================] - 29s 477ms/step - loss: 0.1101 - accuracy: 0.9559 - val_loss: 0.6148 - val_accuracy: 0.8568\n",
      "Epoch 88/100\n",
      "61/61 [==============================] - 30s 489ms/step - loss: 0.1027 - accuracy: 0.9657 - val_loss: 0.6316 - val_accuracy: 0.8430\n",
      "Epoch 89/100\n",
      "61/61 [==============================] - 36s 595ms/step - loss: 0.1283 - accuracy: 0.9482 - val_loss: 0.5512 - val_accuracy: 0.8868\n",
      "Epoch 90/100\n",
      "61/61 [==============================] - 35s 579ms/step - loss: 0.0939 - accuracy: 0.9636 - val_loss: 0.5453 - val_accuracy: 0.8891\n",
      "Epoch 91/100\n",
      "61/61 [==============================] - 27s 448ms/step - loss: 0.1184 - accuracy: 0.9559 - val_loss: 0.7031 - val_accuracy: 0.8453\n",
      "Epoch 92/100\n",
      "61/61 [==============================] - 27s 447ms/step - loss: 0.1384 - accuracy: 0.9452 - val_loss: 0.5157 - val_accuracy: 0.8915\n",
      "Epoch 93/100\n",
      "61/61 [==============================] - 28s 454ms/step - loss: 0.1058 - accuracy: 0.9595 - val_loss: 0.6085 - val_accuracy: 0.8730\n",
      "Epoch 94/100\n",
      "61/61 [==============================] - 28s 454ms/step - loss: 0.0949 - accuracy: 0.9657 - val_loss: 0.5593 - val_accuracy: 0.8730\n",
      "Epoch 95/100\n",
      "61/61 [==============================] - 29s 480ms/step - loss: 0.0945 - accuracy: 0.9631 - val_loss: 0.6544 - val_accuracy: 0.8637\n",
      "Epoch 96/100\n",
      "61/61 [==============================] - 29s 477ms/step - loss: 0.1128 - accuracy: 0.9605 - val_loss: 0.5502 - val_accuracy: 0.8799\n",
      "Epoch 97/100\n",
      "61/61 [==============================] - 30s 489ms/step - loss: 0.1177 - accuracy: 0.9585 - val_loss: 0.5678 - val_accuracy: 0.8730\n",
      "Epoch 98/100\n",
      "61/61 [==============================] - 28s 464ms/step - loss: 0.0840 - accuracy: 0.9657 - val_loss: 0.5636 - val_accuracy: 0.8776\n",
      "Epoch 99/100\n",
      "61/61 [==============================] - 28s 460ms/step - loss: 0.1132 - accuracy: 0.9569 - val_loss: 0.5204 - val_accuracy: 0.8845\n",
      "Epoch 100/100\n",
      "61/61 [==============================] - 26s 432ms/step - loss: 0.1019 - accuracy: 0.9600 - val_loss: 0.5839 - val_accuracy: 0.8776\n"
     ]
    }
   ],
   "source": [
    "from keras.preprocessing.image import ImageDataGenerator\n",
    "train_datagen = ImageDataGenerator(\n",
    "        rescale=1./255,\n",
    "        shear_range=0.2,\n",
    "        zoom_range=0.2,\n",
    "        horizontal_flip=True)\n",
    "\n",
    "test_datagen = ImageDataGenerator(rescale=1./255)\n",
    "\n",
    "training_set = train_datagen.flow_from_directory(\n",
    "        r'C:\\Users\\touheed\\Documents\\Adatasets\\Cotton Disease\\train',\n",
    "        target_size=(64, 64),\n",
    "        batch_size=32,\n",
    "        class_mode='binary')\n",
    "\n",
    "test_set = test_datagen.flow_from_directory(\n",
    "        r'C:\\Users\\touheed\\Documents\\Adatasets\\Cotton Disease\\test',\n",
    "        target_size=(64, 64),\n",
    "        batch_size=32,\n",
    "        class_mode='binary')\n",
    "\n",
    "r=CNN_Classifier.fit(\n",
    "        training_set,\n",
    "        steps_per_epoch=len(training_set),\n",
    "        epochs=100,\n",
    "        validation_data=test_set,\n",
    "        \n",
    "        validation_steps=len(test_set))"
   ]
  },
  {
   "cell_type": "code",
   "execution_count": 52,
   "id": "444c7387",
   "metadata": {},
   "outputs": [
    {
     "name": "stdout",
     "output_type": "stream",
     "text": [
      "61/61 [==============================] - 19s 310ms/step - loss: 0.0797 - accuracy: 0.9687\n"
     ]
    }
   ],
   "source": [
    "scores = CNN_Classifier.evaluate(training_set)"
   ]
  },
  {
   "cell_type": "markdown",
   "id": "eaece93f",
   "metadata": {},
   "source": [
    "# Saving the Model"
   ]
  },
  {
   "cell_type": "code",
   "execution_count": 42,
   "id": "6fe40847",
   "metadata": {},
   "outputs": [],
   "source": [
    "import os .path\n",
    "if os.path.isfile(r'C:\\Users\\touheed\\Documents\\potato Model\\cotton_model.h5') is False:\n",
    "    CNN_Classifier.save(r'C:\\Users\\touheed\\Documents\\potato Model\\cotton_model.h5')"
   ]
  },
  {
   "cell_type": "code",
   "execution_count": 43,
   "id": "58258228",
   "metadata": {},
   "outputs": [
    {
     "data": {
      "text/plain": [
       "[0.4985823631286621, 0.898383378982544]"
      ]
     },
     "execution_count": 43,
     "metadata": {},
     "output_type": "execute_result"
    }
   ],
   "source": [
    "scores"
   ]
  },
  {
   "cell_type": "markdown",
   "id": "841d896f",
   "metadata": {},
   "source": [
    "# Plotting"
   ]
  },
  {
   "cell_type": "code",
   "execution_count": 45,
   "id": "3b45d30e",
   "metadata": {},
   "outputs": [
    {
     "data": {
      "image/png": "[encoded data removed]",
      "text/plain": [
       "<Figure size 432x288 with 1 Axes>"
      ]
     },
     "metadata": {
      "needs_background": "light"
     },
     "output_type": "display_data"
    },
    {
     "data": {
      "image/png": "[encoded data removed]",
      "text/plain": [
       "<Figure size 432x288 with 1 Axes>"
      ]
     },
     "metadata": {
      "needs_background": "light"
     },
     "output_type": "display_data"
    },
    {
     "data": {
      "text/plain": [
       "<Figure size 432x288 with 0 Axes>"
      ]
     },
     "metadata": {},
     "output_type": "display_data"
    }
   ],
   "source": [
    "import matplotlib.pyplot as plt\n",
    "# plot the loss\n",
    "plt.plot(r.history['loss'], label='train loss')\n",
    "plt.plot(r.history['val_loss'], label='val loss')\n",
    "plt.legend()\n",
    "plt.show()\n",
    "plt.savefig('LossVal_loss')\n",
    "\n",
    "# plot the accuracy\n",
    "plt.plot(r.history['accuracy'], label='train acc')\n",
    "plt.plot(r.history['val_accuracy'], label='val acc')\n",
    "plt.legend()\n",
    "plt.show()\n",
    "plt.savefig('AccVal_acc')"
   ]
  },
  {
   "cell_type": "markdown",
   "id": "d171adf8",
   "metadata": {},
   "source": [
    "# Defining Classes"
   ]
  },
  {
   "cell_type": "code",
   "execution_count": 48,
   "id": "051ef66f",
   "metadata": {},
   "outputs": [
    {
     "data": {
      "text/plain": [
       "{'diseased cotton leaf': 0,\n",
       " 'diseased cotton plant': 1,\n",
       " 'fresh cotton leaf': 2,\n",
       " 'fresh cotton plant': 3}"
      ]
     },
     "execution_count": 48,
     "metadata": {},
     "output_type": "execute_result"
    }
   ],
   "source": [
    "training_set.class_indices"
   ]
  },
  {
   "cell_type": "code",
   "execution_count": 49,
   "id": "cd0946d5",
   "metadata": {},
   "outputs": [
    {
     "data": {
      "text/plain": [
       "['diseased cotton leaf',\n",
       " 'diseased cotton plant',\n",
       " 'fresh cotton leaf',\n",
       " 'fresh cotton plant']"
      ]
     },
     "execution_count": 49,
     "metadata": {},
     "output_type": "execute_result"
    }
   ],
   "source": [
    "class_names = list(training_set.class_indices.keys())\n",
    "class_names"
   ]
  },
  {
   "cell_type": "code",
   "execution_count": 50,
   "id": "78cef748",
   "metadata": {},
   "outputs": [
    {
     "name": "stdout",
     "output_type": "stream",
     "text": [
      "[[[0.6131404  0.686931   0.49616697]\n",
      "  [0.6131404  0.686931   0.49616697]\n",
      "  [0.6131404  0.686931   0.49616697]\n",
      "  ...\n",
      "  [0.7361475  0.8640923  0.6254303 ]\n",
      "  [0.7361475  0.8640923  0.6254303 ]\n",
      "  [0.7361475  0.8640923  0.6254303 ]]\n",
      "\n",
      " [[0.7303792  0.82841843 0.6127322 ]\n",
      "  [0.7303792  0.82841843 0.6127322 ]\n",
      "  [0.7303792  0.82841843 0.6127322 ]\n",
      "  ...\n",
      "  [0.7828748  0.8879042  0.6337408 ]\n",
      "  [0.7828748  0.8879042  0.6337408 ]\n",
      "  [0.7828748  0.8879042  0.6337408 ]]\n",
      "\n",
      " [[0.70339304 0.7740563  0.57662064]\n",
      "  [0.70339304 0.7740563  0.57662064]\n",
      "  [0.70339304 0.7740563  0.57662064]\n",
      "  ...\n",
      "  [0.81128734 0.9154101  0.6474613 ]\n",
      "  [0.81128734 0.9154101  0.6474613 ]\n",
      "  [0.81128734 0.9154101  0.6474613 ]]\n",
      "\n",
      " ...\n",
      "\n",
      " [[0.5309736  0.59268886 0.38874003]\n",
      "  [0.5309736  0.59268886 0.38874003]\n",
      "  [0.5309736  0.59268886 0.38874003]\n",
      "  ...\n",
      "  [0.5232532  0.46050814 0.397763  ]\n",
      "  [0.5232532  0.46050814 0.397763  ]\n",
      "  [0.5232532  0.46050814 0.397763  ]]\n",
      "\n",
      " [[0.30743575 0.29893035 0.25101855]\n",
      "  [0.30743575 0.29893035 0.25101855]\n",
      "  [0.30743575 0.29893035 0.25101855]\n",
      "  ...\n",
      "  [0.4934173  0.4306722  0.3679271 ]\n",
      "  [0.4934173  0.4306722  0.3679271 ]\n",
      "  [0.4934173  0.4306722  0.3679271 ]]\n",
      "\n",
      " [[0.30564263 0.2522077  0.22316982]\n",
      "  [0.30564263 0.2522077  0.22316982]\n",
      "  [0.30564263 0.2522077  0.22316982]\n",
      "  ...\n",
      "  [0.46421215 0.40146706 0.33872196]\n",
      "  [0.46421215 0.40146706 0.33872196]\n",
      "  [0.46421215 0.40146706 0.33872196]]]\n"
     ]
    }
   ],
   "source": [
    "count=0\n",
    "for image_batch, label_batch in training_set:\n",
    "#     print(label_batch)\n",
    "    print(image_batch[0])\n",
    "    break"
   ]
  },
  {
   "cell_type": "markdown",
   "id": "d2c879b7",
   "metadata": {},
   "source": [
    "# Run prediction on a sample image"
   ]
  },
  {
   "cell_type": "code",
   "execution_count": 51,
   "id": "23620db5",
   "metadata": {},
   "outputs": [
    {
     "name": "stdout",
     "output_type": "stream",
     "text": [
      "first image to predict\n",
      "actual label: diseased cotton plant\n",
      "1/1 [==============================] - 1s 1s/step\n",
      "predicted label: diseased cotton plant\n"
     ]
    },
    {
     "data": {
      "image/png": "[encoded data removed]",
      "text/plain": [
       "<Figure size 432x288 with 1 Axes>"
      ]
     },
     "metadata": {
      "needs_background": "light"
     },
     "output_type": "display_data"
    }
   ],
   "source": [
    "import numpy as np\n",
    "\n",
    "\n",
    "for image_batch, label_batch in test_set:\n",
    "    first_image = image_batch[0]\n",
    "    first_label = int(label_batch[0])\n",
    "    \n",
    "    print(\"first image to predict\")\n",
    "    plt.imshow(first_image)\n",
    "    print(\"actual label:\",class_names[first_label])\n",
    "    \n",
    "    batch_prediction = CNN_Classifier.predict(image_batch)\n",
    "    print(\"predicted label:\",class_names[np.argmax(batch_prediction[0])])\n",
    "    \n",
    "    break"
   ]
  },
  {
   "cell_type": "code",
   "execution_count": null,
   "id": "12a0b78b",
   "metadata": {},
   "outputs": [],
   "source": []
  }
 ],
 "metadata": {
  "kernelspec": {
   "display_name": "Python 3 (ipykernel)",
   "language": "python",
   "name": "python3"
  },
  "language_info": {
   "codemirror_mode": {
    "name": "ipython",
    "version": 3
   },
   "file_extension": ".py",
   "mimetype": "text/x-python",
   "name": "python",
   "nbconvert_exporter": "python",
   "pygments_lexer": "ipython3",
   "version": "3.9.12"
  }
 },
 "nbformat": 4,
 "nbformat_minor": 5
}
