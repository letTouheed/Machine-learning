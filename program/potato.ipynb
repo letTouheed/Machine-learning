{
 "cells": [
  {
   "cell_type": "markdown",
   "id": "87c1ea27",
   "metadata": {},
   "source": [
    "# Import all the Dependencies"
   ]
  },
  {
   "cell_type": "code",
   "execution_count": 1,
   "id": "31d96428",
   "metadata": {},
   "outputs": [],
   "source": [
    "from keras.models import Sequential\n",
    "from keras.layers import Conv2D\n",
    "from keras.layers import MaxPooling2D\n",
    "from keras.layers import Flatten\n",
    "from keras.layers import Dense\n",
    "import tensorflow as tf\n",
    "\n",
    "# initializing the CNN\n",
    "\n",
    "CNN_Classifier=Sequential()\n",
    "\n",
    "# step 1 convolution\n",
    "CNN_Classifier.add(Conv2D(32,3,3,input_shape=(64,64,3),activation='relu'))\n",
    "\n",
    "#Step 2 pooling\n",
    "\n",
    "CNN_Classifier.add(MaxPooling2D(pool_size=(2,2)))\n",
    "\n",
    "# step 1 convolution\n",
    "CNN_Classifier.add(Conv2D(32,3,3,activation='relu'))\n",
    "\n",
    "#Step 2 pooling\n",
    "\n",
    "CNN_Classifier.add(MaxPooling2D(pool_size=(2,2)))\n",
    "\n",
    "# flattening\n",
    "\n",
    "CNN_Classifier.add(Flatten())\n",
    "\n",
    "# step 4 Full connection\n",
    "\n",
    "CNN_Classifier.add(Dense(units=128, activation='relu'))\n",
    "CNN_Classifier.add(Dense(units=128, activation='sigmoid'))\n",
    " \n",
    "#compiling the cnn()\n",
    "CNN_Classifier.compile(optimizer='adam',loss = tf.keras.losses.SparseCategoricalCrossentropy(from_logits=True), metrics=['accuracy'])"
   ]
  },
  {
   "cell_type": "markdown",
   "id": "d284077e",
   "metadata": {},
   "source": [
    "# Summary"
   ]
  },
  {
   "cell_type": "code",
   "execution_count": 16,
   "id": "449c5704",
   "metadata": {},
   "outputs": [
    {
     "name": "stdout",
     "output_type": "stream",
     "text": [
      "Model: \"sequential\"\n",
      "_________________________________________________________________\n",
      " Layer (type)                Output Shape              Param #   \n",
      "=================================================================\n",
      " conv2d (Conv2D)             (None, 21, 21, 32)        896       \n",
      "                                                                 \n",
      " max_pooling2d (MaxPooling2D  (None, 10, 10, 32)       0         \n",
      " )                                                               \n",
      "                                                                 \n",
      " conv2d_1 (Conv2D)           (None, 3, 3, 32)          9248      \n",
      "                                                                 \n",
      " max_pooling2d_1 (MaxPooling  (None, 1, 1, 32)         0         \n",
      " 2D)                                                             \n",
      "                                                                 \n",
      " flatten (Flatten)           (None, 32)                0         \n",
      "                                                                 \n",
      " dense (Dense)               (None, 128)               4224      \n",
      "                                                                 \n",
      " dense_1 (Dense)             (None, 128)               16512     \n",
      "                                                                 \n",
      "=================================================================\n",
      "Total params: 30,880\n",
      "Trainable params: 30,880\n",
      "Non-trainable params: 0\n",
      "_________________________________________________________________\n"
     ]
    }
   ],
   "source": [
    "CNN_Classifier.summary()"
   ]
  },
  {
   "cell_type": "markdown",
   "id": "36ffe2c5",
   "metadata": {},
   "source": [
    "# Building and Compiling the Model"
   ]
  },
  {
   "cell_type": "code",
   "execution_count": 13,
   "id": "1dfa739f",
   "metadata": {},
   "outputs": [
    {
     "name": "stdout",
     "output_type": "stream",
     "text": [
      "Found 2152 images belonging to 3 classes.\n",
      "Found 139 images belonging to 3 classes.\n",
      "Epoch 1/50\n",
      "68/68 [==============================] - 20s 291ms/step - loss: 0.0235 - accuracy: 0.9912 - val_loss: 0.1141 - val_accuracy: 0.9640\n",
      "Epoch 2/50\n",
      "68/68 [==============================] - 17s 241ms/step - loss: 0.0228 - accuracy: 0.9907 - val_loss: 0.0308 - val_accuracy: 0.9856\n",
      "Epoch 3/50\n",
      "68/68 [==============================] - 17s 254ms/step - loss: 0.0364 - accuracy: 0.9837 - val_loss: 0.0416 - val_accuracy: 0.9856\n",
      "Epoch 4/50\n",
      "68/68 [==============================] - 18s 265ms/step - loss: 0.0170 - accuracy: 0.9940 - val_loss: 0.0494 - val_accuracy: 0.9784\n",
      "Epoch 5/50\n",
      "68/68 [==============================] - 18s 259ms/step - loss: 0.0273 - accuracy: 0.9912 - val_loss: 0.0721 - val_accuracy: 0.9784\n",
      "Epoch 6/50\n",
      "68/68 [==============================] - 18s 259ms/step - loss: 0.0259 - accuracy: 0.9907 - val_loss: 0.2091 - val_accuracy: 0.9424\n",
      "Epoch 7/50\n",
      "68/68 [==============================] - 18s 256ms/step - loss: 0.0351 - accuracy: 0.9898 - val_loss: 0.0184 - val_accuracy: 0.9928\n",
      "Epoch 8/50\n",
      "68/68 [==============================] - 17s 251ms/step - loss: 0.0246 - accuracy: 0.9907 - val_loss: 0.0074 - val_accuracy: 1.0000\n",
      "Epoch 9/50\n",
      "68/68 [==============================] - 17s 246ms/step - loss: 0.0215 - accuracy: 0.9921 - val_loss: 0.0523 - val_accuracy: 0.9784\n",
      "Epoch 10/50\n",
      "68/68 [==============================] - 17s 246ms/step - loss: 0.0260 - accuracy: 0.9888 - val_loss: 0.1467 - val_accuracy: 0.9568\n",
      "Epoch 11/50\n",
      "68/68 [==============================] - 16s 239ms/step - loss: 0.0334 - accuracy: 0.9865 - val_loss: 0.0667 - val_accuracy: 0.9712\n",
      "Epoch 12/50\n",
      "68/68 [==============================] - 17s 245ms/step - loss: 0.0309 - accuracy: 0.9907 - val_loss: 0.0018 - val_accuracy: 1.0000\n",
      "Epoch 13/50\n",
      "68/68 [==============================] - 17s 247ms/step - loss: 0.0448 - accuracy: 0.9828 - val_loss: 0.0301 - val_accuracy: 0.9856\n",
      "Epoch 14/50\n",
      "68/68 [==============================] - 17s 248ms/step - loss: 0.0521 - accuracy: 0.9805 - val_loss: 0.0802 - val_accuracy: 0.9784\n",
      "Epoch 15/50\n",
      "68/68 [==============================] - 18s 262ms/step - loss: 0.0365 - accuracy: 0.9856 - val_loss: 0.0596 - val_accuracy: 0.9784\n",
      "Epoch 16/50\n",
      "68/68 [==============================] - 17s 246ms/step - loss: 0.0181 - accuracy: 0.9958 - val_loss: 0.0214 - val_accuracy: 0.9928\n",
      "Epoch 17/50\n",
      "68/68 [==============================] - 18s 258ms/step - loss: 0.0263 - accuracy: 0.9898 - val_loss: 0.1072 - val_accuracy: 0.9640\n",
      "Epoch 18/50\n",
      "68/68 [==============================] - 17s 254ms/step - loss: 0.0177 - accuracy: 0.9926 - val_loss: 0.0528 - val_accuracy: 0.9784\n",
      "Epoch 19/50\n",
      "68/68 [==============================] - 18s 258ms/step - loss: 0.0209 - accuracy: 0.9916 - val_loss: 0.0534 - val_accuracy: 0.9784\n",
      "Epoch 20/50\n",
      "68/68 [==============================] - 18s 265ms/step - loss: 0.0253 - accuracy: 0.9902 - val_loss: 0.0256 - val_accuracy: 0.9928\n",
      "Epoch 21/50\n",
      "68/68 [==============================] - 18s 266ms/step - loss: 0.0398 - accuracy: 0.9847 - val_loss: 0.0531 - val_accuracy: 0.9784\n",
      "Epoch 22/50\n",
      "68/68 [==============================] - 19s 281ms/step - loss: 0.0223 - accuracy: 0.9926 - val_loss: 0.0743 - val_accuracy: 0.9712\n",
      "Epoch 23/50\n",
      "68/68 [==============================] - 18s 271ms/step - loss: 0.0252 - accuracy: 0.9907 - val_loss: 0.0298 - val_accuracy: 0.9856\n",
      "Epoch 24/50\n",
      "68/68 [==============================] - 17s 243ms/step - loss: 0.0251 - accuracy: 0.9912 - val_loss: 0.0512 - val_accuracy: 0.9856\n",
      "Epoch 25/50\n",
      "68/68 [==============================] - 18s 268ms/step - loss: 0.0188 - accuracy: 0.9940 - val_loss: 0.0855 - val_accuracy: 0.9640\n",
      "Epoch 26/50\n",
      "68/68 [==============================] - 19s 276ms/step - loss: 0.0207 - accuracy: 0.9921 - val_loss: 0.0461 - val_accuracy: 0.9784\n",
      "Epoch 27/50\n",
      "68/68 [==============================] - 18s 261ms/step - loss: 0.0229 - accuracy: 0.9921 - val_loss: 0.0381 - val_accuracy: 0.9784\n",
      "Epoch 28/50\n",
      "68/68 [==============================] - 19s 276ms/step - loss: 0.0444 - accuracy: 0.9809 - val_loss: 0.1186 - val_accuracy: 0.9640\n",
      "Epoch 29/50\n",
      "68/68 [==============================] - 19s 280ms/step - loss: 0.0260 - accuracy: 0.9921 - val_loss: 0.1644 - val_accuracy: 0.9496\n",
      "Epoch 30/50\n",
      "68/68 [==============================] - 19s 284ms/step - loss: 0.0248 - accuracy: 0.9898 - val_loss: 0.0319 - val_accuracy: 0.9856\n",
      "Epoch 31/50\n",
      "68/68 [==============================] - 18s 261ms/step - loss: 0.0224 - accuracy: 0.9921 - val_loss: 0.1703 - val_accuracy: 0.9568\n",
      "Epoch 32/50\n",
      "68/68 [==============================] - 19s 268ms/step - loss: 0.0392 - accuracy: 0.9865 - val_loss: 0.1064 - val_accuracy: 0.9496\n",
      "Epoch 33/50\n",
      "68/68 [==============================] - 19s 276ms/step - loss: 0.0516 - accuracy: 0.9833 - val_loss: 0.1519 - val_accuracy: 0.9568\n",
      "Epoch 34/50\n",
      "68/68 [==============================] - 19s 278ms/step - loss: 0.0349 - accuracy: 0.9870 - val_loss: 0.0142 - val_accuracy: 0.9928\n",
      "Epoch 35/50\n",
      "68/68 [==============================] - 18s 263ms/step - loss: 0.0149 - accuracy: 0.9944 - val_loss: 0.0605 - val_accuracy: 0.9784\n",
      "Epoch 36/50\n",
      "68/68 [==============================] - 17s 247ms/step - loss: 0.0380 - accuracy: 0.9870 - val_loss: 0.2275 - val_accuracy: 0.9424\n",
      "Epoch 37/50\n",
      "68/68 [==============================] - 13s 194ms/step - loss: 0.0276 - accuracy: 0.9898 - val_loss: 0.1640 - val_accuracy: 0.9568\n",
      "Epoch 38/50\n",
      "68/68 [==============================] - 15s 218ms/step - loss: 0.0257 - accuracy: 0.9907 - val_loss: 0.0854 - val_accuracy: 0.9640\n",
      "Epoch 39/50\n",
      "68/68 [==============================] - 15s 214ms/step - loss: 0.0206 - accuracy: 0.9912 - val_loss: 0.0746 - val_accuracy: 0.9712\n",
      "Epoch 40/50\n",
      "68/68 [==============================] - 15s 221ms/step - loss: 0.0281 - accuracy: 0.9893 - val_loss: 0.1753 - val_accuracy: 0.9496\n",
      "Epoch 41/50\n",
      "68/68 [==============================] - 13s 196ms/step - loss: 0.0128 - accuracy: 0.9949 - val_loss: 0.1053 - val_accuracy: 0.9568\n",
      "Epoch 42/50\n",
      "68/68 [==============================] - 15s 220ms/step - loss: 0.0284 - accuracy: 0.9879 - val_loss: 0.0860 - val_accuracy: 0.9568\n",
      "Epoch 43/50\n",
      "68/68 [==============================] - 15s 220ms/step - loss: 0.0518 - accuracy: 0.9823 - val_loss: 0.1020 - val_accuracy: 0.9640\n",
      "Epoch 44/50\n",
      "68/68 [==============================] - 15s 224ms/step - loss: 0.0153 - accuracy: 0.9949 - val_loss: 0.0198 - val_accuracy: 0.9928\n",
      "Epoch 45/50\n",
      "68/68 [==============================] - 14s 211ms/step - loss: 0.0274 - accuracy: 0.9912 - val_loss: 0.1500 - val_accuracy: 0.9568\n",
      "Epoch 46/50\n",
      "68/68 [==============================] - 16s 232ms/step - loss: 0.0289 - accuracy: 0.9902 - val_loss: 0.1079 - val_accuracy: 0.9640\n",
      "Epoch 47/50\n",
      "68/68 [==============================] - 14s 210ms/step - loss: 0.0188 - accuracy: 0.9935 - val_loss: 0.0297 - val_accuracy: 0.9856\n",
      "Epoch 48/50\n",
      "68/68 [==============================] - 15s 218ms/step - loss: 0.0185 - accuracy: 0.9935 - val_loss: 0.2072 - val_accuracy: 0.9353\n",
      "Epoch 49/50\n",
      "68/68 [==============================] - 15s 222ms/step - loss: 0.0164 - accuracy: 0.9940 - val_loss: 0.0162 - val_accuracy: 1.0000\n",
      "Epoch 50/50\n",
      "68/68 [==============================] - 15s 221ms/step - loss: 0.0213 - accuracy: 0.9930 - val_loss: 0.0166 - val_accuracy: 0.9928\n"
     ]
    }
   ],
   "source": [
    "from keras.preprocessing.image import ImageDataGenerator\n",
    "train_datagen = ImageDataGenerator(\n",
    "        rescale=1./255,\n",
    "        shear_range=0.2,\n",
    "        zoom_range=0.2,\n",
    "        horizontal_flip=True)\n",
    "\n",
    "test_datagen = ImageDataGenerator(rescale=1./255)\n",
    "\n",
    "training_set = train_datagen.flow_from_directory(\n",
    "        r'C:\\Users\\touheed\\Documents\\Adatasets\\potato\\train',\n",
    "        target_size=(64, 64),\n",
    "        batch_size=32,\n",
    "        class_mode='binary')\n",
    "\n",
    "\n",
    "test_set = test_datagen.flow_from_directory(\n",
    "        r'C:\\Users\\touheed\\Documents\\Adatasets\\potato\\test',\n",
    "        target_size=(64, 64),\n",
    "        batch_size=32,\n",
    "        class_mode='binary')\n",
    "\n",
    "r=CNN_Classifier.fit(\n",
    "        training_set,\n",
    "        steps_per_epoch=len(training_set),\n",
    "        epochs=50,\n",
    "        validation_data=test_set,\n",
    "        \n",
    "        validation_steps=len(test_set))"
   ]
  },
  {
   "cell_type": "code",
   "execution_count": 35,
   "id": "73dbd5c4",
   "metadata": {},
   "outputs": [
    {
     "name": "stdout",
     "output_type": "stream",
     "text": [
      "5/5 [==============================] - 0s 50ms/step - loss: 0.0166 - accuracy: 0.9928\n"
     ]
    }
   ],
   "source": [
    "scores = CNN_Classifier.evaluate(test_set)"
   ]
  },
  {
   "cell_type": "markdown",
   "id": "4caa6041",
   "metadata": {},
   "source": [
    "# Defining Classes"
   ]
  },
  {
   "cell_type": "code",
   "execution_count": 24,
   "id": "d8045745",
   "metadata": {},
   "outputs": [
    {
     "data": {
      "text/plain": [
       "{'Potato___Early_blight': 0, 'Potato___Late_blight': 1, 'Potato___healthy': 2}"
      ]
     },
     "execution_count": 24,
     "metadata": {},
     "output_type": "execute_result"
    }
   ],
   "source": [
    "training_set.class_indices"
   ]
  },
  {
   "cell_type": "code",
   "execution_count": 26,
   "id": "dd6e1b75",
   "metadata": {},
   "outputs": [
    {
     "data": {
      "text/plain": [
       "['Potato___Early_blight', 'Potato___Late_blight', 'Potato___healthy']"
      ]
     },
     "execution_count": 26,
     "metadata": {},
     "output_type": "execute_result"
    }
   ],
   "source": [
    "class_names = list(training_set.class_indices.keys())\n",
    "class_names"
   ]
  },
  {
   "cell_type": "code",
   "execution_count": 28,
   "id": "2c24b89f",
   "metadata": {
    "scrolled": true
   },
   "outputs": [
    {
     "name": "stdout",
     "output_type": "stream",
     "text": [
      "[[[0.62636113 0.5976366  0.6353771 ]\n",
      "  [0.633463   0.6020905  0.65307087]\n",
      "  [0.63812363 0.6067511  0.6577315 ]\n",
      "  ...\n",
      "  [0.6330633  0.61737704 0.672279  ]\n",
      "  [0.62770593 0.61201966 0.6669216 ]\n",
      "  [0.62769765 0.6120114  0.669012  ]]\n",
      "\n",
      " [[0.6344737  0.60546136 0.64464074]\n",
      "  [0.6504424  0.6190699  0.67005026]\n",
      "  [0.6298303  0.59845775 0.64943814]\n",
      "  ...\n",
      "  [0.62455636 0.6080408  0.66294277]\n",
      "  [0.6214108  0.6048953  0.65979725]\n",
      "  [0.64279693 0.62672704 0.68373644]]\n",
      "\n",
      " [[0.638977   0.60760444 0.65858483]\n",
      "  [0.6545009  0.62312835 0.67410874]\n",
      "  [0.6211207  0.58974814 0.64072853]\n",
      "  ...\n",
      "  [0.642898   0.6193686  0.6742706 ]\n",
      "  [0.6685188  0.6449894  0.6998913 ]\n",
      "  [0.6747119  0.6554147  0.71243274]]\n",
      "\n",
      " ...\n",
      "\n",
      " [[0.42997813 0.37264937 0.41398117]\n",
      "  [0.42895192 0.37797153 0.4171872 ]\n",
      "  [0.43184835 0.38086796 0.42008364]\n",
      "  ...\n",
      "  [0.4740577  0.4230773  0.48974398]\n",
      "  [0.46957707 0.41859668 0.48526335]\n",
      "  [0.47636405 0.42538366 0.49205032]]\n",
      "\n",
      " [[0.43573663 0.38408777 0.42352626]\n",
      "  [0.43053955 0.37955913 0.4187748 ]\n",
      "  [0.44024265 0.38926226 0.42847794]\n",
      "  ...\n",
      "  [0.45468563 0.4072122  0.46335804]\n",
      "  [0.44469714 0.3972237  0.45336953]\n",
      "  [0.45503533 0.40284148 0.46134755]]\n",
      "\n",
      " [[0.43352744 0.38254705 0.42176273]\n",
      "  [0.4481464  0.397166   0.4363817 ]\n",
      "  [0.46546194 0.41448155 0.45369723]\n",
      "  ...\n",
      "  [0.4562635  0.4092047  0.46410665]\n",
      "  [0.44570702 0.39864817 0.45355016]\n",
      "  [0.42946953 0.37711474 0.43466467]]]\n"
     ]
    }
   ],
   "source": [
    "count=0\n",
    "for image_batch, label_batch in training_set:\n",
    "#     print(label_batch)\n",
    "    print(image_batch[0])\n",
    "    break\n",
    "#     count+=1\n",
    "#     if count>2:\n",
    "#         break"
   ]
  },
  {
   "cell_type": "markdown",
   "id": "a165d972",
   "metadata": {},
   "source": [
    "# Plotting"
   ]
  },
  {
   "cell_type": "code",
   "execution_count": 19,
   "id": "7c3b51ca",
   "metadata": {},
   "outputs": [
    {
     "name": "stderr",
     "output_type": "stream",
     "text": [
      "Matplotlib is building the font cache; this may take a moment.\n"
     ]
    },
    {
     "data": {
      "image/png": "[encoded data removed]",
      "text/plain": [
       "<Figure size 432x288 with 1 Axes>"
      ]
     },
     "metadata": {
      "needs_background": "light"
     },
     "output_type": "display_data"
    },
    {
     "data": {
      "image/png": "[encoded data removed]",
      "text/plain": [
       "<Figure size 432x288 with 1 Axes>"
      ]
     },
     "metadata": {
      "needs_background": "light"
     },
     "output_type": "display_data"
    },
    {
     "data": {
      "text/plain": [
       "<Figure size 432x288 with 0 Axes>"
      ]
     },
     "metadata": {},
     "output_type": "display_data"
    }
   ],
   "source": [
    "import matplotlib.pyplot as plt\n",
    "# plot the loss\n",
    "plt.plot(r.history['loss'], label='train loss')\n",
    "plt.plot(r.history['val_loss'], label='val loss')\n",
    "plt.legend()\n",
    "plt.show()\n",
    "plt.savefig('LossVal_loss')\n",
    "\n",
    "# plot the accuracy\n",
    "plt.plot(r.history['accuracy'], label='train acc')\n",
    "plt.plot(r.history['val_accuracy'], label='val acc')\n",
    "plt.legend()\n",
    "plt.show()\n",
    "plt.savefig('AccVal_acc')"
   ]
  },
  {
   "cell_type": "markdown",
   "id": "d4050f54",
   "metadata": {},
   "source": [
    "# Saving Model "
   ]
  },
  {
   "cell_type": "code",
   "execution_count": 36,
   "id": "c641c4fe",
   "metadata": {},
   "outputs": [],
   "source": [
    "import os .path\n",
    "if os.path.isfile(r'C:\\Users\\touheed\\Documents\\potato Model\\potato_model.h5') is False:\n",
    "    CNN_Classifier.save(r'C:\\Users\\touheed\\Documents\\potato Model\\potato_model.h5')"
   ]
  },
  {
   "cell_type": "markdown",
   "id": "9df5bbff",
   "metadata": {},
   "source": [
    "# Loading Model"
   ]
  },
  {
   "cell_type": "code",
   "execution_count": 17,
   "id": "91f3fbdb",
   "metadata": {},
   "outputs": [],
   "source": [
    "from tensorflow.keras.models import load_model\n",
    "new_model = load_model(r'C:\\Users\\touheed\\Documents\\potato Model\\potato_model.h5')"
   ]
  },
  {
   "cell_type": "markdown",
   "id": "0d511ea8",
   "metadata": {},
   "source": [
    "# Summary"
   ]
  },
  {
   "cell_type": "code",
   "execution_count": 18,
   "id": "924f29b9",
   "metadata": {},
   "outputs": [
    {
     "name": "stdout",
     "output_type": "stream",
     "text": [
      "Model: \"sequential\"\n",
      "_________________________________________________________________\n",
      " Layer (type)                Output Shape              Param #   \n",
      "=================================================================\n",
      " conv2d (Conv2D)             (None, 21, 21, 32)        896       \n",
      "                                                                 \n",
      " max_pooling2d (MaxPooling2D  (None, 10, 10, 32)       0         \n",
      " )                                                               \n",
      "                                                                 \n",
      " conv2d_1 (Conv2D)           (None, 3, 3, 32)          9248      \n",
      "                                                                 \n",
      " max_pooling2d_1 (MaxPooling  (None, 1, 1, 32)         0         \n",
      " 2D)                                                             \n",
      "                                                                 \n",
      " flatten (Flatten)           (None, 32)                0         \n",
      "                                                                 \n",
      " dense (Dense)               (None, 128)               4224      \n",
      "                                                                 \n",
      " dense_1 (Dense)             (None, 128)               16512     \n",
      "                                                                 \n",
      "=================================================================\n",
      "Total params: 30,880\n",
      "Trainable params: 30,880\n",
      "Non-trainable params: 0\n",
      "_________________________________________________________________\n"
     ]
    }
   ],
   "source": [
    "new_model.summary()"
   ]
  },
  {
   "cell_type": "markdown",
   "id": "4db65d45",
   "metadata": {},
   "source": [
    "# Run prediction on a sample image"
   ]
  },
  {
   "cell_type": "code",
   "execution_count": 32,
   "id": "1ad910e0",
   "metadata": {},
   "outputs": [
    {
     "name": "stdout",
     "output_type": "stream",
     "text": [
      "first image to predict\n",
      "actual label: Potato___healthy\n",
      "1/1 [==============================] - 1s 622ms/step\n",
      "predicted label: Potato___healthy\n"
     ]
    },
    {
     "data": {
      "image/png": "[encoded data removed]",
      "text/plain": [
       "<Figure size 432x288 with 1 Axes>"
      ]
     },
     "metadata": {
      "needs_background": "light"
     },
     "output_type": "display_data"
    }
   ],
   "source": [
    "import numpy as np\n",
    "\n",
    "\n",
    "for image_batch, label_batch in test_set:\n",
    "    first_image = image_batch[0]\n",
    "    first_label = int(label_batch[0])\n",
    "    \n",
    "    print(\"first image to predict\")\n",
    "    plt.imshow(first_image)\n",
    "    print(\"actual label:\",class_names[first_label])\n",
    "    \n",
    "    batch_prediction = CNN_Classifier.predict(image_batch)\n",
    "    print(\"predicted label:\",class_names[np.argmax(batch_prediction[0])])\n",
    "    \n",
    "    break"
   ]
  },
  {
   "cell_type": "code",
   "execution_count": null,
   "id": "89a5d3ec",
   "metadata": {},
   "outputs": [],
   "source": []
  }
 ],
 "metadata": {
  "kernelspec": {
   "display_name": "Python 3 (ipykernel)",
   "language": "python",
   "name": "python3"
  },
  "language_info": {
   "codemirror_mode": {
    "name": "ipython",
    "version": 3
   },
   "file_extension": ".py",
   "mimetype": "text/x-python",
   "name": "python",
   "nbconvert_exporter": "python",
   "pygments_lexer": "ipython3",
   "version": "3.9.12"
  }
 },
 "nbformat": 4,
 "nbformat_minor": 5
}
