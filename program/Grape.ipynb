{
 "cells": [
  {
   "cell_type": "markdown",
   "id": "2a863dc3",
   "metadata": {},
   "source": [
    "# Import all the Dependencies"
   ]
  },
  {
   "cell_type": "code",
   "execution_count": 1,
   "id": "3861f8ab",
   "metadata": {},
   "outputs": [],
   "source": [
    "from keras.models import Sequential\n",
    "from keras.layers import Conv2D\n",
    "from keras.layers import MaxPooling2D\n",
    "from keras.layers import Flatten\n",
    "from keras.layers import Dense\n",
    "import tensorflow as tf\n",
    "\n",
    "# initializing the CNN\n",
    "\n",
    "CNN_Classifier=Sequential()\n",
    "\n",
    "# step 1 convolution\n",
    "CNN_Classifier.add(Conv2D(32,3,3,input_shape=(64,64,3),activation='relu'))\n",
    "\n",
    "#Step 2 pooling\n",
    "\n",
    "CNN_Classifier.add(MaxPooling2D(pool_size=(2,2)))\n",
    "\n",
    "# step 1 convolution\n",
    "CNN_Classifier.add(Conv2D(32,3,3,activation='relu'))\n",
    "\n",
    "#Step 2 pooling\n",
    "\n",
    "CNN_Classifier.add(MaxPooling2D(pool_size=(2,2)))\n",
    "\n",
    "# flattening\n",
    "\n",
    "CNN_Classifier.add(Flatten())\n",
    "\n",
    "# step 4 Full connection\n",
    "\n",
    "CNN_Classifier.add(Dense(units=128, activation='relu'))\n",
    "CNN_Classifier.add(Dense(units=128, activation='sigmoid'))\n",
    " \n",
    "#compiling the cnn()\n",
    "CNN_Classifier.compile(optimizer='adam',loss = tf.keras.losses.SparseCategoricalCrossentropy(from_logits=True), metrics=['accuracy'])"
   ]
  },
  {
   "cell_type": "markdown",
   "id": "fa7a638e",
   "metadata": {},
   "source": [
    "# Summary"
   ]
  },
  {
   "cell_type": "code",
   "execution_count": 14,
   "id": "b5bee061",
   "metadata": {},
   "outputs": [
    {
     "name": "stdout",
     "output_type": "stream",
     "text": [
      "Model: \"sequential\"\n",
      "_________________________________________________________________\n",
      " Layer (type)                Output Shape              Param #   \n",
      "=================================================================\n",
      " conv2d (Conv2D)             (None, 21, 21, 32)        896       \n",
      "                                                                 \n",
      " max_pooling2d (MaxPooling2D  (None, 10, 10, 32)       0         \n",
      " )                                                               \n",
      "                                                                 \n",
      " conv2d_1 (Conv2D)           (None, 3, 3, 32)          9248      \n",
      "                                                                 \n",
      " max_pooling2d_1 (MaxPooling  (None, 1, 1, 32)         0         \n",
      " 2D)                                                             \n",
      "                                                                 \n",
      " flatten (Flatten)           (None, 32)                0         \n",
      "                                                                 \n",
      " dense (Dense)               (None, 128)               4224      \n",
      "                                                                 \n",
      " dense_1 (Dense)             (None, 128)               16512     \n",
      "                                                                 \n",
      "=================================================================\n",
      "Total params: 30,880\n",
      "Trainable params: 30,880\n",
      "Non-trainable params: 0\n",
      "_________________________________________________________________\n"
     ]
    }
   ],
   "source": [
    "CNN_Classifier.summary()"
   ]
  },
  {
   "cell_type": "markdown",
   "id": "01caf73f",
   "metadata": {},
   "source": [
    "# Building and Compiling the Model"
   ]
  },
  {
   "cell_type": "code",
   "execution_count": 11,
   "id": "4daf326b",
   "metadata": {},
   "outputs": [
    {
     "name": "stdout",
     "output_type": "stream",
     "text": [
      "Found 4062 images belonging to 4 classes.\n",
      "Found 156 images belonging to 4 classes.\n",
      "Epoch 1/50\n",
      "127/127 [==============================] - 22s 170ms/step - loss: 0.0789 - accuracy: 0.9673 - val_loss: 0.1585 - val_accuracy: 0.9551\n",
      "Epoch 2/50\n",
      "127/127 [==============================] - 18s 141ms/step - loss: 0.0790 - accuracy: 0.9712 - val_loss: 0.1755 - val_accuracy: 0.9423\n",
      "Epoch 3/50\n",
      "127/127 [==============================] - 19s 148ms/step - loss: 0.0873 - accuracy: 0.9682 - val_loss: 0.1879 - val_accuracy: 0.9423\n",
      "Epoch 4/50\n",
      "127/127 [==============================] - 22s 171ms/step - loss: 0.0800 - accuracy: 0.9675 - val_loss: 0.1881 - val_accuracy: 0.9423\n",
      "Epoch 5/50\n",
      "127/127 [==============================] - 22s 177ms/step - loss: 0.0867 - accuracy: 0.9636 - val_loss: 0.1613 - val_accuracy: 0.9551\n",
      "Epoch 6/50\n",
      "127/127 [==============================] - 23s 177ms/step - loss: 0.0813 - accuracy: 0.9677 - val_loss: 0.4090 - val_accuracy: 0.8846\n",
      "Epoch 7/50\n",
      "127/127 [==============================] - 22s 172ms/step - loss: 0.0759 - accuracy: 0.9692 - val_loss: 0.2002 - val_accuracy: 0.9423\n",
      "Epoch 8/50\n",
      "127/127 [==============================] - 21s 164ms/step - loss: 0.0795 - accuracy: 0.9680 - val_loss: 0.3162 - val_accuracy: 0.9359\n",
      "Epoch 9/50\n",
      "127/127 [==============================] - 23s 179ms/step - loss: 0.1049 - accuracy: 0.9609 - val_loss: 0.1517 - val_accuracy: 0.9551\n",
      "Epoch 10/50\n",
      "127/127 [==============================] - 23s 182ms/step - loss: 0.0787 - accuracy: 0.9700 - val_loss: 0.2692 - val_accuracy: 0.9167\n",
      "Epoch 11/50\n",
      "127/127 [==============================] - 21s 167ms/step - loss: 0.0979 - accuracy: 0.9626 - val_loss: 0.1589 - val_accuracy: 0.9423\n",
      "Epoch 12/50\n",
      "127/127 [==============================] - 21s 163ms/step - loss: 0.0739 - accuracy: 0.9697 - val_loss: 0.1258 - val_accuracy: 0.9551\n",
      "Epoch 13/50\n",
      "127/127 [==============================] - 22s 171ms/step - loss: 0.0734 - accuracy: 0.9702 - val_loss: 0.1506 - val_accuracy: 0.9487\n",
      "Epoch 14/50\n",
      "127/127 [==============================] - 21s 162ms/step - loss: 0.0907 - accuracy: 0.9675 - val_loss: 0.1052 - val_accuracy: 0.9615\n",
      "Epoch 15/50\n",
      "127/127 [==============================] - 22s 171ms/step - loss: 0.0961 - accuracy: 0.9650 - val_loss: 0.1085 - val_accuracy: 0.9615\n",
      "Epoch 16/50\n",
      "127/127 [==============================] - 23s 180ms/step - loss: 0.0838 - accuracy: 0.9697 - val_loss: 0.1331 - val_accuracy: 0.9487\n",
      "Epoch 17/50\n",
      "127/127 [==============================] - 21s 166ms/step - loss: 0.0815 - accuracy: 0.9719 - val_loss: 0.2057 - val_accuracy: 0.9359\n",
      "Epoch 18/50\n",
      "127/127 [==============================] - 22s 171ms/step - loss: 0.0889 - accuracy: 0.9645 - val_loss: 0.1056 - val_accuracy: 0.9423\n",
      "Epoch 19/50\n",
      "127/127 [==============================] - 22s 170ms/step - loss: 0.0787 - accuracy: 0.9705 - val_loss: 0.1204 - val_accuracy: 0.9423\n",
      "Epoch 20/50\n",
      "127/127 [==============================] - 22s 170ms/step - loss: 0.0829 - accuracy: 0.9712 - val_loss: 0.1931 - val_accuracy: 0.9231\n",
      "Epoch 21/50\n",
      "127/127 [==============================] - 22s 170ms/step - loss: 0.0748 - accuracy: 0.9719 - val_loss: 0.1106 - val_accuracy: 0.9487\n",
      "Epoch 22/50\n",
      "127/127 [==============================] - 22s 170ms/step - loss: 0.0778 - accuracy: 0.9700 - val_loss: 0.1238 - val_accuracy: 0.9551\n",
      "Epoch 23/50\n",
      "127/127 [==============================] - 21s 169ms/step - loss: 0.0822 - accuracy: 0.9712 - val_loss: 0.1159 - val_accuracy: 0.9615\n",
      "Epoch 24/50\n",
      "127/127 [==============================] - 22s 170ms/step - loss: 0.0905 - accuracy: 0.9618 - val_loss: 0.0929 - val_accuracy: 0.9551\n",
      "Epoch 25/50\n",
      "127/127 [==============================] - 22s 169ms/step - loss: 0.0752 - accuracy: 0.9724 - val_loss: 0.1698 - val_accuracy: 0.9423\n",
      "Epoch 26/50\n",
      "127/127 [==============================] - 21s 162ms/step - loss: 0.0734 - accuracy: 0.9727 - val_loss: 0.1984 - val_accuracy: 0.9423\n",
      "Epoch 27/50\n",
      "127/127 [==============================] - 21s 165ms/step - loss: 0.0747 - accuracy: 0.9705 - val_loss: 0.0868 - val_accuracy: 0.9679\n",
      "Epoch 28/50\n",
      "127/127 [==============================] - 22s 171ms/step - loss: 0.0831 - accuracy: 0.9695 - val_loss: 0.2106 - val_accuracy: 0.9295\n",
      "Epoch 29/50\n",
      "127/127 [==============================] - 22s 171ms/step - loss: 0.0827 - accuracy: 0.9695 - val_loss: 0.0603 - val_accuracy: 0.9615\n",
      "Epoch 30/50\n",
      "127/127 [==============================] - 22s 170ms/step - loss: 0.0797 - accuracy: 0.9665 - val_loss: 0.0985 - val_accuracy: 0.9679\n",
      "Epoch 31/50\n",
      "127/127 [==============================] - 21s 167ms/step - loss: 0.0834 - accuracy: 0.9680 - val_loss: 0.2361 - val_accuracy: 0.9295\n",
      "Epoch 32/50\n",
      "127/127 [==============================] - 21s 164ms/step - loss: 0.0789 - accuracy: 0.9695 - val_loss: 0.1418 - val_accuracy: 0.9615\n",
      "Epoch 33/50\n",
      "127/127 [==============================] - 21s 166ms/step - loss: 0.0825 - accuracy: 0.9680 - val_loss: 0.1121 - val_accuracy: 0.9615\n",
      "Epoch 34/50\n",
      "127/127 [==============================] - 21s 166ms/step - loss: 0.0863 - accuracy: 0.9675 - val_loss: 0.1179 - val_accuracy: 0.9551\n",
      "Epoch 35/50\n",
      "127/127 [==============================] - 20s 161ms/step - loss: 0.0793 - accuracy: 0.9687 - val_loss: 0.1614 - val_accuracy: 0.9423\n",
      "Epoch 36/50\n",
      "127/127 [==============================] - 20s 159ms/step - loss: 0.0819 - accuracy: 0.9685 - val_loss: 0.2183 - val_accuracy: 0.9487\n",
      "Epoch 37/50\n",
      "127/127 [==============================] - 22s 173ms/step - loss: 0.0796 - accuracy: 0.9710 - val_loss: 0.2826 - val_accuracy: 0.9295\n",
      "Epoch 38/50\n",
      "127/127 [==============================] - 22s 176ms/step - loss: 0.0805 - accuracy: 0.9707 - val_loss: 0.2168 - val_accuracy: 0.9359\n",
      "Epoch 39/50\n",
      "127/127 [==============================] - 22s 175ms/step - loss: 0.0863 - accuracy: 0.9658 - val_loss: 0.0873 - val_accuracy: 0.9679\n",
      "Epoch 40/50\n",
      "127/127 [==============================] - 21s 167ms/step - loss: 0.0794 - accuracy: 0.9690 - val_loss: 0.0841 - val_accuracy: 0.9679\n",
      "Epoch 41/50\n",
      "127/127 [==============================] - 21s 165ms/step - loss: 0.0741 - accuracy: 0.9690 - val_loss: 0.1660 - val_accuracy: 0.9551\n",
      "Epoch 42/50\n",
      "127/127 [==============================] - 21s 167ms/step - loss: 0.1045 - accuracy: 0.9606 - val_loss: 0.1793 - val_accuracy: 0.9295\n",
      "Epoch 43/50\n",
      "127/127 [==============================] - 24s 190ms/step - loss: 0.0790 - accuracy: 0.9692 - val_loss: 0.3252 - val_accuracy: 0.9167\n",
      "Epoch 44/50\n",
      "127/127 [==============================] - 22s 169ms/step - loss: 0.0725 - accuracy: 0.9729 - val_loss: 0.1302 - val_accuracy: 0.9487\n",
      "Epoch 45/50\n",
      "127/127 [==============================] - 22s 173ms/step - loss: 0.0794 - accuracy: 0.9710 - val_loss: 0.2073 - val_accuracy: 0.9295\n",
      "Epoch 46/50\n",
      "127/127 [==============================] - 20s 161ms/step - loss: 0.0634 - accuracy: 0.9729 - val_loss: 0.0707 - val_accuracy: 0.9744\n",
      "Epoch 47/50\n",
      "127/127 [==============================] - 20s 161ms/step - loss: 0.0743 - accuracy: 0.9742 - val_loss: 0.1001 - val_accuracy: 0.9679\n",
      "Epoch 48/50\n",
      "127/127 [==============================] - 22s 175ms/step - loss: 0.0714 - accuracy: 0.9734 - val_loss: 0.0591 - val_accuracy: 0.9744\n",
      "Epoch 49/50\n",
      "127/127 [==============================] - 22s 170ms/step - loss: 0.0658 - accuracy: 0.9729 - val_loss: 0.0956 - val_accuracy: 0.9679\n",
      "Epoch 50/50\n",
      "127/127 [==============================] - 21s 167ms/step - loss: 0.0812 - accuracy: 0.9692 - val_loss: 0.1092 - val_accuracy: 0.9615\n"
     ]
    }
   ],
   "source": [
    "from keras.preprocessing.image import ImageDataGenerator\n",
    "train_datagen = ImageDataGenerator(\n",
    "        rescale=1./255,\n",
    "        shear_range=0.2,\n",
    "        zoom_range=0.2,\n",
    "        horizontal_flip=True)\n",
    "\n",
    "test_datagen = ImageDataGenerator(rescale=1./255)\n",
    "\n",
    "training_set = train_datagen.flow_from_directory(\n",
    "        r'C:\\Users\\touheed\\Documents\\Adatasets\\Grape\\train',\n",
    "        target_size=(64, 64),\n",
    "        batch_size=32,\n",
    "        class_mode='binary')\n",
    "\n",
    "test_set = test_datagen.flow_from_directory(\n",
    "        r'C:\\Users\\touheed\\Documents\\Adatasets\\Grape\\test',\n",
    "        target_size=(64, 64),\n",
    "        batch_size=32,\n",
    "        class_mode='binary')\n",
    "\n",
    "r=CNN_Classifier.fit(\n",
    "        training_set,\n",
    "        steps_per_epoch=len(training_set),\n",
    "        epochs=50,\n",
    "        validation_data=test_set,\n",
    "        \n",
    "        validation_steps=len(test_set))"
   ]
  },
  {
   "cell_type": "code",
   "execution_count": 12,
   "id": "d0d320b6",
   "metadata": {},
   "outputs": [
    {
     "name": "stdout",
     "output_type": "stream",
     "text": [
      "5/5 [==============================] - 0s 90ms/step - loss: 0.1092 - accuracy: 0.9615\n"
     ]
    }
   ],
   "source": [
    "scores = CNN_Classifier.evaluate(test_set)"
   ]
  },
  {
   "cell_type": "markdown",
   "id": "6fee2eb4",
   "metadata": {},
   "source": [
    "# Saving Model"
   ]
  },
  {
   "cell_type": "code",
   "execution_count": 13,
   "id": "776f0e79",
   "metadata": {},
   "outputs": [],
   "source": [
    "import os .path\n",
    "if os.path.isfile(r'C:\\Users\\touheed\\Documents\\potato Model\\grape_model.h5') is False:\n",
    "    CNN_Classifier.save(r'C:\\Users\\touheed\\Documents\\potato Model\\grape_model.h5')"
   ]
  },
  {
   "cell_type": "markdown",
   "id": "b885206e",
   "metadata": {},
   "source": [
    "# Plotting"
   ]
  },
  {
   "cell_type": "code",
   "execution_count": 20,
   "id": "6db62f45",
   "metadata": {},
   "outputs": [
    {
     "data": {
      "image/png": "[encoded data removed]",
      "text/plain": [
       "<Figure size 432x288 with 1 Axes>"
      ]
     },
     "metadata": {
      "needs_background": "light"
     },
     "output_type": "display_data"
    },
    {
     "data": {
      "image/png": "[encoded data removed]",
      "text/plain": [
       "<Figure size 432x288 with 1 Axes>"
      ]
     },
     "metadata": {
      "needs_background": "light"
     },
     "output_type": "display_data"
    },
    {
     "data": {
      "text/plain": [
       "<Figure size 432x288 with 0 Axes>"
      ]
     },
     "metadata": {},
     "output_type": "display_data"
    }
   ],
   "source": [
    "import matplotlib.pyplot as plt\n",
    "# plot the loss\n",
    "plt.plot(r.history['loss'], label='train loss')\n",
    "plt.plot(r.history['val_loss'], label='val loss')\n",
    "plt.legend()\n",
    "plt.show()\n",
    "plt.savefig('LossVal_loss')\n",
    "\n",
    "# plot the accuracy\n",
    "plt.plot(r.history['accuracy'], label='train acc')\n",
    "plt.plot(r.history['val_accuracy'], label='val acc')\n",
    "plt.legend()\n",
    "plt.show()\n",
    "plt.savefig('AccVal_acc')"
   ]
  },
  {
   "cell_type": "markdown",
   "id": "ab25733f",
   "metadata": {},
   "source": [
    "# Defining Classes"
   ]
  },
  {
   "cell_type": "code",
   "execution_count": 16,
   "id": "796c7e8e",
   "metadata": {},
   "outputs": [
    {
     "data": {
      "text/plain": [
       "{'Grape___Black_rot': 0,\n",
       " 'Grape___Esca_(Black_Measles)': 1,\n",
       " 'Grape___Leaf_blight_(Isariopsis_Leaf_Spot)': 2,\n",
       " 'Grape___healthy': 3}"
      ]
     },
     "execution_count": 16,
     "metadata": {},
     "output_type": "execute_result"
    }
   ],
   "source": [
    "training_set.class_indices\n"
   ]
  },
  {
   "cell_type": "code",
   "execution_count": 17,
   "id": "9a64d4fd",
   "metadata": {},
   "outputs": [
    {
     "data": {
      "text/plain": [
       "['Grape___Black_rot',\n",
       " 'Grape___Esca_(Black_Measles)',\n",
       " 'Grape___Leaf_blight_(Isariopsis_Leaf_Spot)',\n",
       " 'Grape___healthy']"
      ]
     },
     "execution_count": 17,
     "metadata": {},
     "output_type": "execute_result"
    }
   ],
   "source": [
    "class_names = list(training_set.class_indices.keys())\n",
    "class_names"
   ]
  },
  {
   "cell_type": "code",
   "execution_count": 18,
   "id": "6e553e40",
   "metadata": {},
   "outputs": [
    {
     "name": "stdout",
     "output_type": "stream",
     "text": [
      "[[[0.67234325 0.5676786  0.50101185]\n",
      "  [0.7390023  0.63311994 0.5664533 ]\n",
      "  [0.7540064  0.64812404 0.5814574 ]\n",
      "  ...\n",
      "  [0.8051078  0.72275484 0.6560882 ]\n",
      "  [0.7842766  0.70192367 0.635257  ]\n",
      "  [0.76141524 0.6813392  0.6169495 ]]\n",
      "\n",
      " [[0.6723496  0.5676836  0.5010169 ]\n",
      "  [0.73903614 0.6331538  0.56648713]\n",
      "  [0.75398505 0.6481027  0.58143604]\n",
      "  ...\n",
      "  [0.8051228  0.72276986 0.6561032 ]\n",
      "  [0.78424275 0.7018898  0.63522315]\n",
      "  [0.76145923 0.6813857  0.6169985 ]]\n",
      "\n",
      " [[0.67235583 0.56768864 0.5010219 ]\n",
      "  [0.73907006 0.6331877  0.56652105]\n",
      "  [0.7539637  0.6480813  0.58141464]\n",
      "  ...\n",
      "  [0.8051379  0.72278494 0.6561183 ]\n",
      "  [0.78420883 0.7018559  0.6351892 ]\n",
      "  [0.76150316 0.6814322  0.6170475 ]]\n",
      "\n",
      " ...\n",
      "\n",
      " [[0.73661256 0.66046315 0.5709095 ]\n",
      "  [0.7458165  0.6673851  0.57326746]\n",
      "  [0.7545979  0.67616653 0.5820489 ]\n",
      "  ...\n",
      "  [0.7660794  0.6994127  0.62098134]\n",
      "  [0.8150813  0.74841464 0.66998327]\n",
      "  [0.8280035  0.76133686 0.6829055 ]]\n",
      "\n",
      " [[0.7366176  0.66046566 0.570907  ]\n",
      "  [0.74581903 0.66738766 0.57326996]\n",
      "  [0.75460166 0.6761703  0.58205265]\n",
      "  ...\n",
      "  [0.7661032  0.69943655 0.6210052 ]\n",
      "  [0.8150926  0.74842596 0.66999453]\n",
      "  [0.82799596 0.7613293  0.6828979 ]]\n",
      "\n",
      " [[0.73662263 0.66046816 0.57090443]\n",
      "  [0.74582154 0.66739017 0.5732725 ]\n",
      "  [0.7546055  0.67617404 0.5820564 ]\n",
      "  ...\n",
      "  [0.7661271  0.69946045 0.621029  ]\n",
      "  [0.8151038  0.74843717 0.6700058 ]\n",
      "  [0.82798845 0.7613218  0.6828904 ]]]\n"
     ]
    }
   ],
   "source": [
    "count=0\n",
    "for image_batch, label_batch in training_set:\n",
    "#     print(label_batch)\n",
    "    print(image_batch[0])\n",
    "    break"
   ]
  },
  {
   "cell_type": "markdown",
   "id": "60bfff6a",
   "metadata": {},
   "source": [
    "# Run prediction on a sample image"
   ]
  },
  {
   "cell_type": "code",
   "execution_count": 22,
   "id": "7f86803a",
   "metadata": {},
   "outputs": [
    {
     "name": "stdout",
     "output_type": "stream",
     "text": [
      "first image to predict\n",
      "actual label: Grape___Leaf_blight_(Isariopsis_Leaf_Spot)\n",
      "1/1 [==============================] - 0s 16ms/step\n",
      "predicted label: Grape___Leaf_blight_(Isariopsis_Leaf_Spot)\n"
     ]
    },
    {
     "data": {
      "image/png": "[encoded data removed]",
      "text/plain": [
       "<Figure size 432x288 with 1 Axes>"
      ]
     },
     "metadata": {
      "needs_background": "light"
     },
     "output_type": "display_data"
    }
   ],
   "source": [
    "import numpy as np\n",
    "\n",
    "\n",
    "for image_batch, label_batch in test_set:\n",
    "    first_image = image_batch[0]\n",
    "    first_label = int(label_batch[0])\n",
    "    \n",
    "    print(\"first image to predict\")\n",
    "    plt.imshow(first_image)\n",
    "    print(\"actual label:\",class_names[first_label])\n",
    "    \n",
    "    batch_prediction = CNN_Classifier.predict(image_batch)\n",
    "    print(\"predicted label:\",class_names[np.argmax(batch_prediction[0])])\n",
    "    \n",
    "    break"
   ]
  },
  {
   "cell_type": "code",
   "execution_count": null,
   "id": "f2736c5c",
   "metadata": {},
   "outputs": [],
   "source": []
  }
 ],
 "metadata": {
  "kernelspec": {
   "display_name": "Python 3 (ipykernel)",
   "language": "python",
   "name": "python3"
  },
  "language_info": {
   "codemirror_mode": {
    "name": "ipython",
    "version": 3
   },
   "file_extension": ".py",
   "mimetype": "text/x-python",
   "name": "python",
   "nbconvert_exporter": "python",
   "pygments_lexer": "ipython3",
   "version": "3.9.12"
  }
 },
 "nbformat": 4,
 "nbformat_minor": 5
}
