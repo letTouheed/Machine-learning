{
 "cells": [
  {
   "cell_type": "markdown",
   "id": "927605f0",
   "metadata": {},
   "source": [
    "# Import all the Dependencies"
   ]
  },
  {
   "cell_type": "code",
   "execution_count": 13,
   "id": "872a0af2",
   "metadata": {},
   "outputs": [],
   "source": [
    "from keras.models import Sequential\n",
    "from keras.layers import Conv2D\n",
    "from keras.layers import MaxPooling2D\n",
    "from keras.layers import Flatten\n",
    "from keras.layers import Dense\n",
    "import tensorflow as tf\n",
    "\n",
    "# initializing the CNN\n",
    "\n",
    "CNN_Classifier=Sequential()\n",
    "\n",
    "# step 1 convolution\n",
    "CNN_Classifier.add(Conv2D(32,3,3,input_shape=(64,64,3),activation='relu'))\n",
    "\n",
    "#Step 2 pooling\n",
    "\n",
    "CNN_Classifier.add(MaxPooling2D(pool_size=(2,2)))\n",
    "\n",
    "# step 1 convolution\n",
    "CNN_Classifier.add(Conv2D(32,3,3,activation='relu'))\n",
    "\n",
    "#Step 2 pooling\n",
    "\n",
    "CNN_Classifier.add(MaxPooling2D(pool_size=(2,2)))\n",
    "\n",
    "# flattening\n",
    "\n",
    "CNN_Classifier.add(Flatten())\n",
    "\n",
    "# step 4 Full connection\n",
    "\n",
    "CNN_Classifier.add(Dense(units=128, activation='relu'))\n",
    "CNN_Classifier.add(Dense(units=128, activation='sigmoid'))\n",
    " \n",
    "#compiling the cnn()\n",
    "CNN_Classifier.compile(optimizer='adam',loss = tf.keras.losses.SparseCategoricalCrossentropy(from_logits=True), metrics=['accuracy'])"
   ]
  },
  {
   "cell_type": "markdown",
   "id": "e6261c7a",
   "metadata": {},
   "source": [
    " # Summary"
   ]
  },
  {
   "cell_type": "code",
   "execution_count": 15,
   "id": "2598ae82",
   "metadata": {},
   "outputs": [
    {
     "name": "stdout",
     "output_type": "stream",
     "text": [
      "Model: \"sequential_1\"\n",
      "_________________________________________________________________\n",
      " Layer (type)                Output Shape              Param #   \n",
      "=================================================================\n",
      " conv2d_2 (Conv2D)           (None, 21, 21, 32)        896       \n",
      "                                                                 \n",
      " max_pooling2d_2 (MaxPooling  (None, 10, 10, 32)       0         \n",
      " 2D)                                                             \n",
      "                                                                 \n",
      " conv2d_3 (Conv2D)           (None, 3, 3, 32)          9248      \n",
      "                                                                 \n",
      " max_pooling2d_3 (MaxPooling  (None, 1, 1, 32)         0         \n",
      " 2D)                                                             \n",
      "                                                                 \n",
      " flatten_1 (Flatten)         (None, 32)                0         \n",
      "                                                                 \n",
      " dense_2 (Dense)             (None, 128)               4224      \n",
      "                                                                 \n",
      " dense_3 (Dense)             (None, 128)               16512     \n",
      "                                                                 \n",
      "=================================================================\n",
      "Total params: 30,880\n",
      "Trainable params: 30,880\n",
      "Non-trainable params: 0\n",
      "_________________________________________________________________\n"
     ]
    }
   ],
   "source": [
    "CNN_Classifier.summary()"
   ]
  },
  {
   "cell_type": "markdown",
   "id": "24ea5323",
   "metadata": {},
   "source": [
    "# Building and Compiling the Model"
   ]
  },
  {
   "cell_type": "code",
   "execution_count": 5,
   "id": "b43f2b39",
   "metadata": {},
   "outputs": [
    {
     "name": "stdout",
     "output_type": "stream",
     "text": [
      "Found 4188 images belonging to 4 classes.\n",
      "Found 676 images belonging to 4 classes.\n",
      "Epoch 1/100\n",
      "131/131 [==============================] - 49s 376ms/step - loss: 0.1638 - accuracy: 0.9353 - val_loss: 0.2223 - val_accuracy: 0.9112\n",
      "Epoch 2/100\n",
      "131/131 [==============================] - 54s 412ms/step - loss: 0.1614 - accuracy: 0.9367 - val_loss: 0.2111 - val_accuracy: 0.9157\n",
      "Epoch 3/100\n",
      "131/131 [==============================] - 54s 411ms/step - loss: 0.1495 - accuracy: 0.9394 - val_loss: 0.2162 - val_accuracy: 0.9142\n",
      "Epoch 4/100\n",
      "131/131 [==============================] - 54s 411ms/step - loss: 0.1588 - accuracy: 0.9343 - val_loss: 0.2563 - val_accuracy: 0.9142\n",
      "Epoch 5/100\n",
      "131/131 [==============================] - 54s 415ms/step - loss: 0.1588 - accuracy: 0.9353 - val_loss: 0.2176 - val_accuracy: 0.9098\n",
      "Epoch 6/100\n",
      "131/131 [==============================] - 54s 411ms/step - loss: 0.1689 - accuracy: 0.9351 - val_loss: 0.1954 - val_accuracy: 0.9260\n",
      "Epoch 7/100\n",
      "131/131 [==============================] - 54s 412ms/step - loss: 0.1641 - accuracy: 0.9343 - val_loss: 0.2529 - val_accuracy: 0.8950\n",
      "Epoch 8/100\n",
      "131/131 [==============================] - 53s 408ms/step - loss: 0.1565 - accuracy: 0.9353 - val_loss: 0.2087 - val_accuracy: 0.9216\n",
      "Epoch 9/100\n",
      "131/131 [==============================] - 54s 411ms/step - loss: 0.1389 - accuracy: 0.9441 - val_loss: 0.2353 - val_accuracy: 0.9098\n",
      "Epoch 10/100\n",
      "131/131 [==============================] - 56s 427ms/step - loss: 0.1589 - accuracy: 0.9353 - val_loss: 0.2085 - val_accuracy: 0.9142\n",
      "Epoch 11/100\n",
      "131/131 [==============================] - 54s 413ms/step - loss: 0.1544 - accuracy: 0.9384 - val_loss: 0.2744 - val_accuracy: 0.8846\n",
      "Epoch 12/100\n",
      "131/131 [==============================] - 56s 428ms/step - loss: 0.1483 - accuracy: 0.9405 - val_loss: 0.1947 - val_accuracy: 0.9201\n",
      "Epoch 13/100\n",
      "131/131 [==============================] - 60s 458ms/step - loss: 0.1571 - accuracy: 0.9372 - val_loss: 0.2051 - val_accuracy: 0.9157\n",
      "Epoch 14/100\n",
      "131/131 [==============================] - 72s 551ms/step - loss: 0.1696 - accuracy: 0.9281 - val_loss: 0.1896 - val_accuracy: 0.9320\n",
      "Epoch 15/100\n",
      "131/131 [==============================] - 62s 464ms/step - loss: 0.1494 - accuracy: 0.9386 - val_loss: 0.2376 - val_accuracy: 0.8950\n",
      "Epoch 16/100\n",
      "131/131 [==============================] - 89s 680ms/step - loss: 0.1541 - accuracy: 0.9377 - val_loss: 0.2100 - val_accuracy: 0.9186\n",
      "Epoch 17/100\n",
      "131/131 [==============================] - 63s 484ms/step - loss: 0.1456 - accuracy: 0.9379 - val_loss: 0.2061 - val_accuracy: 0.9112\n",
      "Epoch 18/100\n",
      "131/131 [==============================] - 60s 457ms/step - loss: 0.1580 - accuracy: 0.9386 - val_loss: 0.2251 - val_accuracy: 0.9112\n",
      "Epoch 19/100\n",
      "131/131 [==============================] - 63s 486ms/step - loss: 0.1501 - accuracy: 0.9384 - val_loss: 0.2270 - val_accuracy: 0.9068\n",
      "Epoch 20/100\n",
      "131/131 [==============================] - 98s 747ms/step - loss: 0.1515 - accuracy: 0.9379 - val_loss: 0.2378 - val_accuracy: 0.9083\n",
      "Epoch 21/100\n",
      "131/131 [==============================] - 59s 454ms/step - loss: 0.1633 - accuracy: 0.9298 - val_loss: 0.2081 - val_accuracy: 0.9127\n",
      "Epoch 22/100\n",
      "131/131 [==============================] - 62s 472ms/step - loss: 0.1542 - accuracy: 0.9367 - val_loss: 0.1723 - val_accuracy: 0.9379\n",
      "Epoch 23/100\n",
      "131/131 [==============================] - 64s 489ms/step - loss: 0.1413 - accuracy: 0.9420 - val_loss: 0.1684 - val_accuracy: 0.9290\n",
      "Epoch 24/100\n",
      "131/131 [==============================] - 60s 459ms/step - loss: 0.1466 - accuracy: 0.9427 - val_loss: 0.1925 - val_accuracy: 0.9142\n",
      "Epoch 25/100\n",
      "131/131 [==============================] - 62s 470ms/step - loss: 0.1546 - accuracy: 0.9341 - val_loss: 0.2164 - val_accuracy: 0.9216\n",
      "Epoch 26/100\n",
      "131/131 [==============================] - 58s 446ms/step - loss: 0.1485 - accuracy: 0.9446 - val_loss: 0.2164 - val_accuracy: 0.9024\n",
      "Epoch 27/100\n",
      "131/131 [==============================] - 58s 439ms/step - loss: 0.1467 - accuracy: 0.9427 - val_loss: 0.2221 - val_accuracy: 0.9112\n",
      "Epoch 28/100\n",
      "131/131 [==============================] - 57s 437ms/step - loss: 0.1429 - accuracy: 0.9391 - val_loss: 0.2664 - val_accuracy: 0.8787\n",
      "Epoch 29/100\n",
      "131/131 [==============================] - 56s 426ms/step - loss: 0.1458 - accuracy: 0.9463 - val_loss: 0.1970 - val_accuracy: 0.9260\n",
      "Epoch 30/100\n",
      "131/131 [==============================] - 53s 407ms/step - loss: 0.1461 - accuracy: 0.9408 - val_loss: 0.2446 - val_accuracy: 0.9053\n",
      "Epoch 31/100\n",
      "131/131 [==============================] - 92s 705ms/step - loss: 0.1467 - accuracy: 0.9427 - val_loss: 0.2271 - val_accuracy: 0.9098\n",
      "Epoch 32/100\n",
      "131/131 [==============================] - 62s 471ms/step - loss: 0.1552 - accuracy: 0.9382 - val_loss: 0.2347 - val_accuracy: 0.9083\n",
      "Epoch 33/100\n",
      "131/131 [==============================] - 53s 405ms/step - loss: 0.1600 - accuracy: 0.9382 - val_loss: 0.2015 - val_accuracy: 0.9231\n",
      "Epoch 34/100\n",
      "131/131 [==============================] - 55s 415ms/step - loss: 0.1511 - accuracy: 0.9415 - val_loss: 0.3917 - val_accuracy: 0.8269\n",
      "Epoch 35/100\n",
      "131/131 [==============================] - 53s 407ms/step - loss: 0.1491 - accuracy: 0.9365 - val_loss: 0.1867 - val_accuracy: 0.9216\n",
      "Epoch 36/100\n",
      "131/131 [==============================] - 54s 410ms/step - loss: 0.1460 - accuracy: 0.9384 - val_loss: 0.1865 - val_accuracy: 0.9186\n",
      "Epoch 37/100\n",
      "131/131 [==============================] - 84s 641ms/step - loss: 0.1482 - accuracy: 0.9417 - val_loss: 0.1949 - val_accuracy: 0.9201\n",
      "Epoch 38/100\n",
      "131/131 [==============================] - 53s 404ms/step - loss: 0.1506 - accuracy: 0.9441 - val_loss: 0.2150 - val_accuracy: 0.9083\n",
      "Epoch 39/100\n",
      "131/131 [==============================] - 53s 408ms/step - loss: 0.1433 - accuracy: 0.9429 - val_loss: 0.1823 - val_accuracy: 0.9320\n",
      "Epoch 40/100\n",
      "131/131 [==============================] - 54s 416ms/step - loss: 0.1480 - accuracy: 0.9441 - val_loss: 0.1805 - val_accuracy: 0.9393\n",
      "Epoch 41/100\n",
      "131/131 [==============================] - 53s 408ms/step - loss: 0.1391 - accuracy: 0.9436 - val_loss: 0.2037 - val_accuracy: 0.9172\n",
      "Epoch 42/100\n",
      "131/131 [==============================] - 56s 431ms/step - loss: 0.1577 - accuracy: 0.9346 - val_loss: 0.2042 - val_accuracy: 0.9201\n",
      "Epoch 43/100\n",
      "131/131 [==============================] - 54s 412ms/step - loss: 0.1507 - accuracy: 0.9386 - val_loss: 0.2080 - val_accuracy: 0.9142\n",
      "Epoch 44/100\n",
      "131/131 [==============================] - 54s 416ms/step - loss: 0.1432 - accuracy: 0.9441 - val_loss: 0.2252 - val_accuracy: 0.9053\n",
      "Epoch 45/100\n",
      "131/131 [==============================] - 56s 430ms/step - loss: 0.1432 - accuracy: 0.9441 - val_loss: 0.1934 - val_accuracy: 0.9260\n",
      "Epoch 46/100\n",
      "131/131 [==============================] - 54s 414ms/step - loss: 0.1618 - accuracy: 0.9348 - val_loss: 0.2041 - val_accuracy: 0.9172\n",
      "Epoch 47/100\n",
      "131/131 [==============================] - 55s 423ms/step - loss: 0.1332 - accuracy: 0.9484 - val_loss: 0.1801 - val_accuracy: 0.9216\n",
      "Epoch 48/100\n",
      "131/131 [==============================] - 54s 408ms/step - loss: 0.1406 - accuracy: 0.9439 - val_loss: 0.1883 - val_accuracy: 0.9216\n",
      "Epoch 49/100\n",
      "131/131 [==============================] - 54s 414ms/step - loss: 0.1478 - accuracy: 0.9420 - val_loss: 0.1947 - val_accuracy: 0.9305\n",
      "Epoch 50/100\n",
      "131/131 [==============================] - 55s 421ms/step - loss: 0.1411 - accuracy: 0.9441 - val_loss: 0.1825 - val_accuracy: 0.9305\n",
      "Epoch 51/100\n",
      "131/131 [==============================] - 54s 413ms/step - loss: 0.1431 - accuracy: 0.9408 - val_loss: 0.1639 - val_accuracy: 0.9334\n",
      "Epoch 52/100\n",
      "131/131 [==============================] - 54s 416ms/step - loss: 0.1359 - accuracy: 0.9453 - val_loss: 0.1760 - val_accuracy: 0.9320\n",
      "Epoch 53/100\n",
      "131/131 [==============================] - 55s 423ms/step - loss: 0.1372 - accuracy: 0.9448 - val_loss: 0.1732 - val_accuracy: 0.9393\n",
      "Epoch 54/100\n",
      "131/131 [==============================] - 57s 436ms/step - loss: 0.1571 - accuracy: 0.9343 - val_loss: 0.1625 - val_accuracy: 0.9408\n",
      "Epoch 55/100\n",
      "131/131 [==============================] - 274s 2s/step - loss: 0.1320 - accuracy: 0.9448 - val_loss: 0.1814 - val_accuracy: 0.9334\n",
      "Epoch 56/100\n"
     ]
    },
    {
     "name": "stdout",
     "output_type": "stream",
     "text": [
      "131/131 [==============================] - 45s 348ms/step - loss: 0.1404 - accuracy: 0.9468 - val_loss: 0.1778 - val_accuracy: 0.9334\n",
      "Epoch 57/100\n",
      "131/131 [==============================] - 46s 350ms/step - loss: 0.1414 - accuracy: 0.9415 - val_loss: 0.1730 - val_accuracy: 0.9349\n",
      "Epoch 58/100\n",
      "131/131 [==============================] - 82s 631ms/step - loss: 0.1537 - accuracy: 0.9360 - val_loss: 0.2973 - val_accuracy: 0.8757\n",
      "Epoch 59/100\n",
      "131/131 [==============================] - 58s 442ms/step - loss: 0.1379 - accuracy: 0.9479 - val_loss: 0.2012 - val_accuracy: 0.9216\n",
      "Epoch 60/100\n",
      "131/131 [==============================] - 54s 410ms/step - loss: 0.1344 - accuracy: 0.9439 - val_loss: 0.1638 - val_accuracy: 0.9379\n",
      "Epoch 61/100\n",
      "131/131 [==============================] - 53s 409ms/step - loss: 0.1512 - accuracy: 0.9386 - val_loss: 0.1665 - val_accuracy: 0.9364\n",
      "Epoch 62/100\n",
      "131/131 [==============================] - 56s 427ms/step - loss: 0.1294 - accuracy: 0.9511 - val_loss: 0.1712 - val_accuracy: 0.9349\n",
      "Epoch 63/100\n",
      "131/131 [==============================] - 57s 437ms/step - loss: 0.1229 - accuracy: 0.9496 - val_loss: 0.1721 - val_accuracy: 0.9364\n",
      "Epoch 64/100\n",
      "131/131 [==============================] - 85s 648ms/step - loss: 0.1449 - accuracy: 0.9410 - val_loss: 0.1712 - val_accuracy: 0.9349\n",
      "Epoch 65/100\n",
      "131/131 [==============================] - 58s 441ms/step - loss: 0.1267 - accuracy: 0.9465 - val_loss: 0.1901 - val_accuracy: 0.9320\n",
      "Epoch 66/100\n",
      "131/131 [==============================] - 54s 413ms/step - loss: 0.1288 - accuracy: 0.9511 - val_loss: 0.1874 - val_accuracy: 0.9320\n",
      "Epoch 67/100\n",
      "131/131 [==============================] - 57s 436ms/step - loss: 0.1309 - accuracy: 0.9484 - val_loss: 0.1835 - val_accuracy: 0.9334\n",
      "Epoch 68/100\n",
      "131/131 [==============================] - 83s 639ms/step - loss: 0.1264 - accuracy: 0.9470 - val_loss: 0.1673 - val_accuracy: 0.9408\n",
      "Epoch 69/100\n",
      "131/131 [==============================] - 58s 445ms/step - loss: 0.1357 - accuracy: 0.9470 - val_loss: 0.1777 - val_accuracy: 0.9334\n",
      "Epoch 70/100\n",
      "131/131 [==============================] - 54s 415ms/step - loss: 0.1239 - accuracy: 0.9472 - val_loss: 0.1766 - val_accuracy: 0.9364\n",
      "Epoch 71/100\n",
      "131/131 [==============================] - 52s 398ms/step - loss: 0.1316 - accuracy: 0.9470 - val_loss: 0.1631 - val_accuracy: 0.9334\n",
      "Epoch 72/100\n",
      "131/131 [==============================] - 56s 431ms/step - loss: 0.1206 - accuracy: 0.9501 - val_loss: 0.1819 - val_accuracy: 0.9379\n",
      "Epoch 73/100\n",
      "131/131 [==============================] - 54s 414ms/step - loss: 0.1227 - accuracy: 0.9525 - val_loss: 0.1804 - val_accuracy: 0.9275\n",
      "Epoch 74/100\n",
      "131/131 [==============================] - 55s 416ms/step - loss: 0.1328 - accuracy: 0.9465 - val_loss: 0.1830 - val_accuracy: 0.9231\n",
      "Epoch 75/100\n",
      "131/131 [==============================] - 54s 414ms/step - loss: 0.1359 - accuracy: 0.9448 - val_loss: 0.1562 - val_accuracy: 0.9408\n",
      "Epoch 76/100\n",
      "131/131 [==============================] - 54s 410ms/step - loss: 0.1295 - accuracy: 0.9484 - val_loss: 0.1802 - val_accuracy: 0.9216\n",
      "Epoch 77/100\n",
      "131/131 [==============================] - 52s 400ms/step - loss: 0.1348 - accuracy: 0.9479 - val_loss: 0.1748 - val_accuracy: 0.9305\n",
      "Epoch 78/100\n",
      "131/131 [==============================] - 47s 357ms/step - loss: 0.1326 - accuracy: 0.9484 - val_loss: 0.1526 - val_accuracy: 0.9497\n",
      "Epoch 79/100\n",
      "131/131 [==============================] - 45s 342ms/step - loss: 0.1275 - accuracy: 0.9518 - val_loss: 0.1956 - val_accuracy: 0.9186\n",
      "Epoch 80/100\n",
      "131/131 [==============================] - 44s 334ms/step - loss: 0.1555 - accuracy: 0.9372 - val_loss: 0.1952 - val_accuracy: 0.9231\n",
      "Epoch 81/100\n",
      "131/131 [==============================] - 46s 349ms/step - loss: 0.1338 - accuracy: 0.9489 - val_loss: 0.2164 - val_accuracy: 0.9024\n",
      "Epoch 82/100\n",
      "131/131 [==============================] - 44s 336ms/step - loss: 0.1270 - accuracy: 0.9501 - val_loss: 0.1897 - val_accuracy: 0.9305\n",
      "Epoch 83/100\n",
      "131/131 [==============================] - 44s 341ms/step - loss: 0.1171 - accuracy: 0.9499 - val_loss: 0.1470 - val_accuracy: 0.9408\n",
      "Epoch 84/100\n",
      "131/131 [==============================] - 43s 331ms/step - loss: 0.1313 - accuracy: 0.9501 - val_loss: 0.1571 - val_accuracy: 0.9305\n",
      "Epoch 85/100\n",
      "131/131 [==============================] - 44s 330ms/step - loss: 0.1287 - accuracy: 0.9491 - val_loss: 0.1924 - val_accuracy: 0.9246\n",
      "Epoch 86/100\n",
      "131/131 [==============================] - 44s 338ms/step - loss: 0.1374 - accuracy: 0.9434 - val_loss: 0.1663 - val_accuracy: 0.9320\n",
      "Epoch 87/100\n",
      "131/131 [==============================] - 44s 332ms/step - loss: 0.1303 - accuracy: 0.9439 - val_loss: 0.1425 - val_accuracy: 0.9571\n",
      "Epoch 88/100\n",
      "131/131 [==============================] - 44s 337ms/step - loss: 0.1351 - accuracy: 0.9420 - val_loss: 0.2291 - val_accuracy: 0.9053\n",
      "Epoch 89/100\n",
      "131/131 [==============================] - 44s 332ms/step - loss: 0.1312 - accuracy: 0.9434 - val_loss: 0.1540 - val_accuracy: 0.9438\n",
      "Epoch 90/100\n",
      "131/131 [==============================] - 70s 538ms/step - loss: 0.1384 - accuracy: 0.9453 - val_loss: 0.1711 - val_accuracy: 0.9334\n",
      "Epoch 91/100\n",
      "131/131 [==============================] - 75s 574ms/step - loss: 0.1499 - accuracy: 0.9379 - val_loss: 0.1767 - val_accuracy: 0.9275\n",
      "Epoch 92/100\n",
      "131/131 [==============================] - 44s 341ms/step - loss: 0.1144 - accuracy: 0.9518 - val_loss: 0.1606 - val_accuracy: 0.9246\n",
      "Epoch 93/100\n",
      "131/131 [==============================] - 44s 339ms/step - loss: 0.1268 - accuracy: 0.9494 - val_loss: 0.2576 - val_accuracy: 0.8802\n",
      "Epoch 94/100\n",
      "131/131 [==============================] - 45s 346ms/step - loss: 0.1194 - accuracy: 0.9537 - val_loss: 0.1939 - val_accuracy: 0.9305\n",
      "Epoch 95/100\n",
      "131/131 [==============================] - 43s 332ms/step - loss: 0.1400 - accuracy: 0.9448 - val_loss: 0.1985 - val_accuracy: 0.9260\n",
      "Epoch 96/100\n",
      "131/131 [==============================] - 44s 339ms/step - loss: 0.1408 - accuracy: 0.9441 - val_loss: 0.1908 - val_accuracy: 0.9201\n",
      "Epoch 97/100\n",
      "131/131 [==============================] - 44s 335ms/step - loss: 0.1155 - accuracy: 0.9534 - val_loss: 0.1506 - val_accuracy: 0.9393\n",
      "Epoch 98/100\n",
      "131/131 [==============================] - 46s 349ms/step - loss: 0.1120 - accuracy: 0.9570 - val_loss: 0.1878 - val_accuracy: 0.9305\n",
      "Epoch 99/100\n",
      "131/131 [==============================] - 47s 354ms/step - loss: 0.1254 - accuracy: 0.9499 - val_loss: 0.2764 - val_accuracy: 0.8979\n",
      "Epoch 100/100\n",
      "131/131 [==============================] - 47s 361ms/step - loss: 0.1339 - accuracy: 0.9482 - val_loss: 0.2079 - val_accuracy: 0.9142\n"
     ]
    }
   ],
   "source": [
    "from keras.preprocessing.image import ImageDataGenerator\n",
    "train_datagen = ImageDataGenerator(\n",
    "        rescale=1./255,\n",
    "        shear_range=0.2,\n",
    "        zoom_range=0.2,\n",
    "        horizontal_flip=True)\n",
    "\n",
    "test_datagen = ImageDataGenerator(rescale=1./255)\n",
    "\n",
    "training_set = train_datagen.flow_from_directory(\n",
    "        r'C:\\Users\\touheed\\Documents\\Adatasets\\Corn or Maize\\train',\n",
    "        target_size=(64, 64),\n",
    "        batch_size=32,\n",
    "        class_mode='binary')\n",
    "\n",
    "test_set = test_datagen.flow_from_directory(\n",
    "        r'C:\\Users\\touheed\\Documents\\Adatasets\\Corn or Maize\\test',\n",
    "        target_size=(64, 64),\n",
    "        batch_size=32,\n",
    "        class_mode='binary')\n",
    "\n",
    "r=CNN_Classifier.fit(\n",
    "        training_set,\n",
    "        steps_per_epoch=len(training_set),\n",
    "        epochs=100,\n",
    "        validation_data=test_set,\n",
    "        \n",
    "        validation_steps=len(test_set))"
   ]
  },
  {
   "cell_type": "markdown",
   "id": "035d643d",
   "metadata": {},
   "source": [
    "# Scores"
   ]
  },
  {
   "cell_type": "code",
   "execution_count": 12,
   "id": "02263138",
   "metadata": {},
   "outputs": [
    {
     "name": "stdout",
     "output_type": "stream",
     "text": [
      "131/131 [==============================] - 118s 904ms/step - loss: 0.1525 - accuracy: 0.9394\n"
     ]
    }
   ],
   "source": [
    "scores = CNN_Classifier.evaluate(training_set)"
   ]
  },
  {
   "cell_type": "markdown",
   "id": "0dc1cdaa",
   "metadata": {},
   "source": [
    "# Saving the Model"
   ]
  },
  {
   "cell_type": "code",
   "execution_count": 6,
   "id": "37ac3f99",
   "metadata": {},
   "outputs": [],
   "source": [
    "import os .path\n",
    "if os.path.isfile(r'C:\\Users\\touheed\\Documents\\potato Model\\corn_model.h5') is False:\n",
    "    CNN_Classifier.save(r'C:\\Users\\touheed\\Documents\\potato Model\\corn_model.h5')"
   ]
  },
  {
   "cell_type": "markdown",
   "id": "852cf212",
   "metadata": {},
   "source": [
    "# Plotting"
   ]
  },
  {
   "cell_type": "code",
   "execution_count": 7,
   "id": "6b9fe218",
   "metadata": {},
   "outputs": [
    {
     "data": {
      "image/png": "[encoded data removed]",
      "text/plain": [
       "<Figure size 432x288 with 1 Axes>"
      ]
     },
     "metadata": {
      "needs_background": "light"
     },
     "output_type": "display_data"
    },
    {
     "data": {
      "image/png": "[encoded data removed]",
      "text/plain": [
       "<Figure size 432x288 with 1 Axes>"
      ]
     },
     "metadata": {
      "needs_background": "light"
     },
     "output_type": "display_data"
    },
    {
     "data": {
      "text/plain": [
       "<Figure size 432x288 with 0 Axes>"
      ]
     },
     "metadata": {},
     "output_type": "display_data"
    }
   ],
   "source": [
    "import matplotlib.pyplot as plt\n",
    "# plot the loss\n",
    "plt.plot(r.history['loss'], label='train loss')\n",
    "plt.plot(r.history['val_loss'], label='val loss')\n",
    "plt.legend()\n",
    "plt.show()\n",
    "plt.savefig('LossVal_loss')\n",
    "\n",
    "# plot the accuracy\n",
    "plt.plot(r.history['accuracy'], label='train acc')\n",
    "plt.plot(r.history['val_accuracy'], label='val acc')\n",
    "plt.legend()\n",
    "plt.show()\n",
    "plt.savefig('AccVal_acc')"
   ]
  },
  {
   "cell_type": "markdown",
   "id": "b4576d72",
   "metadata": {},
   "source": [
    "# Defining Classes"
   ]
  },
  {
   "cell_type": "code",
   "execution_count": 8,
   "id": "372ab00c",
   "metadata": {},
   "outputs": [
    {
     "data": {
      "text/plain": [
       "{'Blight': 0, 'Common_Rust': 1, 'Gray_Leaf_Spot': 2, 'Healthy': 3}"
      ]
     },
     "execution_count": 8,
     "metadata": {},
     "output_type": "execute_result"
    }
   ],
   "source": [
    "training_set.class_indices"
   ]
  },
  {
   "cell_type": "code",
   "execution_count": 9,
   "id": "027601c5",
   "metadata": {},
   "outputs": [
    {
     "data": {
      "text/plain": [
       "['Blight', 'Common_Rust', 'Gray_Leaf_Spot', 'Healthy']"
      ]
     },
     "execution_count": 9,
     "metadata": {},
     "output_type": "execute_result"
    }
   ],
   "source": [
    "class_names = list(training_set.class_indices.keys())\n",
    "class_names"
   ]
  },
  {
   "cell_type": "code",
   "execution_count": 10,
   "id": "764030cf",
   "metadata": {},
   "outputs": [
    {
     "name": "stdout",
     "output_type": "stream",
     "text": [
      "[[[0.53333336 0.6509804  0.4156863 ]\n",
      "  [0.53333336 0.6509804  0.4156863 ]\n",
      "  [0.53333336 0.6509804  0.4156863 ]\n",
      "  ...\n",
      "  [0.4431373  0.6117647  0.33333334]\n",
      "  [0.4431373  0.6117647  0.33333334]\n",
      "  [0.4431373  0.6117647  0.33333334]]\n",
      "\n",
      " [[0.53333336 0.6509804  0.4156863 ]\n",
      "  [0.53333336 0.6509804  0.4156863 ]\n",
      "  [0.53333336 0.6509804  0.4156863 ]\n",
      "  ...\n",
      "  [0.4431373  0.6117647  0.33333334]\n",
      "  [0.4431373  0.6117647  0.33333334]\n",
      "  [0.4431373  0.6117647  0.33333334]]\n",
      "\n",
      " [[0.53333336 0.6509804  0.4156863 ]\n",
      "  [0.53333336 0.6509804  0.4156863 ]\n",
      "  [0.53333336 0.6509804  0.4156863 ]\n",
      "  ...\n",
      "  [0.4431373  0.6117647  0.33333334]\n",
      "  [0.4431373  0.6117647  0.33333334]\n",
      "  [0.4431373  0.6117647  0.33333334]]\n",
      "\n",
      " ...\n",
      "\n",
      " [[0.57254905 0.6784314  0.40784317]\n",
      "  [0.57254905 0.6784314  0.40784317]\n",
      "  [0.57254905 0.6784314  0.40784317]\n",
      "  ...\n",
      "  [0.29803923 0.43137258 0.14117648]\n",
      "  [0.29803923 0.43137258 0.14117648]\n",
      "  [0.29803923 0.43137258 0.14117648]]\n",
      "\n",
      " [[0.57254905 0.6784314  0.40784317]\n",
      "  [0.57254905 0.6784314  0.40784317]\n",
      "  [0.57254905 0.6784314  0.40784317]\n",
      "  ...\n",
      "  [0.29803923 0.43137258 0.14117648]\n",
      "  [0.29803923 0.43137258 0.14117648]\n",
      "  [0.29803923 0.43137258 0.14117648]]\n",
      "\n",
      " [[0.57254905 0.6784314  0.40784317]\n",
      "  [0.57254905 0.6784314  0.40784317]\n",
      "  [0.57254905 0.6784314  0.40784317]\n",
      "  ...\n",
      "  [0.29803923 0.43137258 0.14117648]\n",
      "  [0.29803923 0.43137258 0.14117648]\n",
      "  [0.29803923 0.43137258 0.14117648]]]\n"
     ]
    }
   ],
   "source": [
    "count=0\n",
    "for image_batch, label_batch in training_set:\n",
    "#     print(label_batch)\n",
    "    print(image_batch[0])\n",
    "    break"
   ]
  },
  {
   "cell_type": "markdown",
   "id": "5bee3569",
   "metadata": {},
   "source": [
    "# Run prediction on a sample image"
   ]
  },
  {
   "cell_type": "code",
   "execution_count": 11,
   "id": "e5816adc",
   "metadata": {},
   "outputs": [
    {
     "name": "stdout",
     "output_type": "stream",
     "text": [
      "first image to predict\n",
      "actual label: Common_Rust\n",
      "1/1 [==============================] - 1s 730ms/step\n",
      "predicted label: Common_Rust\n"
     ]
    },
    {
     "data": {
      "image/png": "[encoded data removed]",
      "text/plain": [
       "<Figure size 432x288 with 1 Axes>"
      ]
     },
     "metadata": {
      "needs_background": "light"
     },
     "output_type": "display_data"
    }
   ],
   "source": [
    "import numpy as np\n",
    "\n",
    "\n",
    "for image_batch, label_batch in test_set:\n",
    "    first_image = image_batch[0]\n",
    "    first_label = int(label_batch[0])\n",
    "    \n",
    "    print(\"first image to predict\")\n",
    "    plt.imshow(first_image)\n",
    "    print(\"actual label:\",class_names[first_label])\n",
    "    \n",
    "    batch_prediction = CNN_Classifier.predict(image_batch)\n",
    "    print(\"predicted label:\",class_names[np.argmax(batch_prediction[0])])\n",
    "    \n",
    "    break"
   ]
  },
  {
   "cell_type": "code",
   "execution_count": null,
   "id": "53b53186",
   "metadata": {},
   "outputs": [],
   "source": []
  }
 ],
 "metadata": {
  "kernelspec": {
   "display_name": "Python 3 (ipykernel)",
   "language": "python",
   "name": "python3"
  },
  "language_info": {
   "codemirror_mode": {
    "name": "ipython",
    "version": 3
   },
   "file_extension": ".py",
   "mimetype": "text/x-python",
   "name": "python",
   "nbconvert_exporter": "python",
   "pygments_lexer": "ipython3",
   "version": "3.9.12"
  }
 },
 "nbformat": 4,
 "nbformat_minor": 5
}
