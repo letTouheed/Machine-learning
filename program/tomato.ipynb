{
 "cells": [
  {
   "cell_type": "markdown",
   "id": "aee4bf66",
   "metadata": {},
   "source": [
    "# Import all the Dependencies"
   ]
  },
  {
   "cell_type": "code",
   "execution_count": 7,
   "id": "c9a50ded",
   "metadata": {},
   "outputs": [],
   "source": [
    "from keras.models import Sequential\n",
    "from keras.layers import Conv2D\n",
    "from keras.layers import MaxPooling2D\n",
    "from keras.layers import Flatten\n",
    "from keras.layers import Dense\n",
    "import tensorflow as tf\n",
    "\n",
    "# initializing the CNN\n",
    "\n",
    "CNN_Classifier=Sequential()\n",
    "\n",
    "# step 1 convolution\n",
    "CNN_Classifier.add(Conv2D(32,3,3,input_shape=(64,64,3),activation='relu'))\n",
    "\n",
    "#Step 2 pooling\n",
    "\n",
    "CNN_Classifier.add(MaxPooling2D(pool_size=(2,2)))\n",
    "\n",
    "# step 1 convolution\n",
    "CNN_Classifier.add(Conv2D(32,3,3,activation='relu'))\n",
    "\n",
    "#Step 2 pooling\n",
    "\n",
    "CNN_Classifier.add(MaxPooling2D(pool_size=(2,2)))\n",
    "\n",
    "# flattening\n",
    "\n",
    "CNN_Classifier.add(Flatten())\n",
    "\n",
    "# step 4 Full connection\n",
    "\n",
    "CNN_Classifier.add(Dense(units=128, activation='relu'))\n",
    "CNN_Classifier.add(Dense(units=128, activation='sigmoid'))\n",
    " \n",
    "#compiling the cnn()\n",
    "CNN_Classifier.compile(optimizer='adam',loss = tf.keras.losses.SparseCategoricalCrossentropy(from_logits=True), metrics=['accuracy'])"
   ]
  },
  {
   "cell_type": "markdown",
   "id": "5e9160db",
   "metadata": {},
   "source": [
    "# Summary"
   ]
  },
  {
   "cell_type": "code",
   "execution_count": 27,
   "id": "0b1ea894",
   "metadata": {},
   "outputs": [
    {
     "name": "stdout",
     "output_type": "stream",
     "text": [
      "Model: \"sequential_1\"\n",
      "_________________________________________________________________\n",
      " Layer (type)                Output Shape              Param #   \n",
      "=================================================================\n",
      " conv2d_2 (Conv2D)           (None, 21, 21, 32)        896       \n",
      "                                                                 \n",
      " max_pooling2d_2 (MaxPooling  (None, 10, 10, 32)       0         \n",
      " 2D)                                                             \n",
      "                                                                 \n",
      " conv2d_3 (Conv2D)           (None, 3, 3, 32)          9248      \n",
      "                                                                 \n",
      " max_pooling2d_3 (MaxPooling  (None, 1, 1, 32)         0         \n",
      " 2D)                                                             \n",
      "                                                                 \n",
      " flatten_1 (Flatten)         (None, 32)                0         \n",
      "                                                                 \n",
      " dense_2 (Dense)             (None, 128)               4224      \n",
      "                                                                 \n",
      " dense_3 (Dense)             (None, 128)               16512     \n",
      "                                                                 \n",
      "=================================================================\n",
      "Total params: 30,880\n",
      "Trainable params: 30,880\n",
      "Non-trainable params: 0\n",
      "_________________________________________________________________\n"
     ]
    }
   ],
   "source": [
    "CNN_Classifier.summary()"
   ]
  },
  {
   "cell_type": "markdown",
   "id": "7b1b1c55",
   "metadata": {},
   "source": [
    "# Building and Compiling the Model"
   ]
  },
  {
   "cell_type": "code",
   "execution_count": 16,
   "id": "ddffd36c",
   "metadata": {},
   "outputs": [
    {
     "name": "stdout",
     "output_type": "stream",
     "text": [
      "Found 10000 images belonging to 10 classes.\n",
      "Found 1702 images belonging to 10 classes.\n",
      "Epoch 1/100\n",
      "313/313 [==============================] - 49s 155ms/step - loss: 0.1756 - accuracy: 0.9364 - val_loss: 0.3506 - val_accuracy: 0.8966\n",
      "Epoch 2/100\n",
      "313/313 [==============================] - 62s 198ms/step - loss: 0.1809 - accuracy: 0.9352 - val_loss: 0.3312 - val_accuracy: 0.8942\n",
      "Epoch 3/100\n",
      "313/313 [==============================] - 62s 198ms/step - loss: 0.1809 - accuracy: 0.9330 - val_loss: 0.2314 - val_accuracy: 0.9201\n",
      "Epoch 4/100\n",
      "313/313 [==============================] - 62s 198ms/step - loss: 0.1697 - accuracy: 0.9380 - val_loss: 0.2741 - val_accuracy: 0.9066\n",
      "Epoch 5/100\n",
      "313/313 [==============================] - 62s 198ms/step - loss: 0.1831 - accuracy: 0.9335 - val_loss: 0.2657 - val_accuracy: 0.9148\n",
      "Epoch 6/100\n",
      "313/313 [==============================] - 62s 199ms/step - loss: 0.1672 - accuracy: 0.9379 - val_loss: 0.2638 - val_accuracy: 0.9142\n",
      "Epoch 7/100\n",
      "313/313 [==============================] - 63s 201ms/step - loss: 0.1626 - accuracy: 0.9392 - val_loss: 0.2691 - val_accuracy: 0.9125\n",
      "Epoch 8/100\n",
      "313/313 [==============================] - 63s 200ms/step - loss: 0.1706 - accuracy: 0.9374 - val_loss: 0.2530 - val_accuracy: 0.9148\n",
      "Epoch 9/100\n",
      "313/313 [==============================] - 64s 204ms/step - loss: 0.1924 - accuracy: 0.9320 - val_loss: 0.2629 - val_accuracy: 0.9078\n",
      "Epoch 10/100\n",
      "313/313 [==============================] - 63s 200ms/step - loss: 0.1678 - accuracy: 0.9405 - val_loss: 0.3452 - val_accuracy: 0.8913\n",
      "Epoch 11/100\n",
      "313/313 [==============================] - 67s 213ms/step - loss: 0.1626 - accuracy: 0.9414 - val_loss: 0.2887 - val_accuracy: 0.9060\n",
      "Epoch 12/100\n",
      "313/313 [==============================] - 73s 233ms/step - loss: 0.1725 - accuracy: 0.9359 - val_loss: 0.3104 - val_accuracy: 0.8954\n",
      "Epoch 13/100\n",
      "313/313 [==============================] - 80s 256ms/step - loss: 0.1805 - accuracy: 0.9342 - val_loss: 0.4272 - val_accuracy: 0.8702\n",
      "Epoch 14/100\n",
      "313/313 [==============================] - 98s 314ms/step - loss: 0.1706 - accuracy: 0.9365 - val_loss: 0.2668 - val_accuracy: 0.9154\n",
      "Epoch 15/100\n",
      "313/313 [==============================] - 75s 240ms/step - loss: 0.1778 - accuracy: 0.9350 - val_loss: 0.2775 - val_accuracy: 0.9107\n",
      "Epoch 16/100\n",
      "313/313 [==============================] - 71s 225ms/step - loss: 0.1713 - accuracy: 0.9403 - val_loss: 0.2528 - val_accuracy: 0.9224\n",
      "Epoch 17/100\n",
      "313/313 [==============================] - 80s 256ms/step - loss: 0.1803 - accuracy: 0.9366 - val_loss: 0.3422 - val_accuracy: 0.8960\n",
      "Epoch 18/100\n",
      "313/313 [==============================] - 81s 260ms/step - loss: 0.1627 - accuracy: 0.9397 - val_loss: 0.2854 - val_accuracy: 0.9136\n",
      "Epoch 19/100\n",
      "313/313 [==============================] - 70s 222ms/step - loss: 0.1771 - accuracy: 0.9359 - val_loss: 0.2596 - val_accuracy: 0.9172\n",
      "Epoch 20/100\n",
      "313/313 [==============================] - 71s 225ms/step - loss: 0.1607 - accuracy: 0.9409 - val_loss: 0.2816 - val_accuracy: 0.9078\n",
      "Epoch 21/100\n",
      "313/313 [==============================] - 70s 224ms/step - loss: 0.1733 - accuracy: 0.9380 - val_loss: 0.2684 - val_accuracy: 0.9160\n",
      "Epoch 22/100\n",
      "313/313 [==============================] - 73s 234ms/step - loss: 0.1614 - accuracy: 0.9445 - val_loss: 0.3133 - val_accuracy: 0.8925\n",
      "Epoch 23/100\n",
      "313/313 [==============================] - 67s 213ms/step - loss: 0.1647 - accuracy: 0.9403 - val_loss: 0.3869 - val_accuracy: 0.8831\n",
      "Epoch 24/100\n",
      "313/313 [==============================] - 67s 213ms/step - loss: 0.1635 - accuracy: 0.9418 - val_loss: 0.3231 - val_accuracy: 0.9013\n",
      "Epoch 25/100\n",
      "313/313 [==============================] - 68s 216ms/step - loss: 0.1616 - accuracy: 0.9431 - val_loss: 0.3183 - val_accuracy: 0.9019\n",
      "Epoch 26/100\n",
      "313/313 [==============================] - 63s 200ms/step - loss: 0.1623 - accuracy: 0.9414 - val_loss: 0.2722 - val_accuracy: 0.9189\n",
      "Epoch 27/100\n",
      "313/313 [==============================] - 63s 203ms/step - loss: 0.1647 - accuracy: 0.9400 - val_loss: 0.3417 - val_accuracy: 0.8937\n",
      "Epoch 28/100\n",
      "313/313 [==============================] - 61s 195ms/step - loss: 0.1647 - accuracy: 0.9396 - val_loss: 0.2796 - val_accuracy: 0.9066\n",
      "Epoch 29/100\n",
      "313/313 [==============================] - 69s 220ms/step - loss: 0.1632 - accuracy: 0.9410 - val_loss: 0.2641 - val_accuracy: 0.9201\n",
      "Epoch 30/100\n",
      "313/313 [==============================] - 62s 199ms/step - loss: 0.1640 - accuracy: 0.9421 - val_loss: 0.3224 - val_accuracy: 0.9036\n",
      "Epoch 31/100\n",
      "313/313 [==============================] - 64s 204ms/step - loss: 0.1623 - accuracy: 0.9428 - val_loss: 0.2809 - val_accuracy: 0.9083\n",
      "Epoch 32/100\n",
      "313/313 [==============================] - 62s 198ms/step - loss: 0.1667 - accuracy: 0.9403 - val_loss: 0.2756 - val_accuracy: 0.9119\n",
      "Epoch 33/100\n",
      "313/313 [==============================] - 76s 243ms/step - loss: 0.1621 - accuracy: 0.9413 - val_loss: 0.4909 - val_accuracy: 0.8508\n",
      "Epoch 34/100\n",
      "313/313 [==============================] - 63s 201ms/step - loss: 0.1694 - accuracy: 0.9389 - val_loss: 0.3650 - val_accuracy: 0.8901\n",
      "Epoch 35/100\n",
      "313/313 [==============================] - 62s 198ms/step - loss: 0.1643 - accuracy: 0.9403 - val_loss: 0.5625 - val_accuracy: 0.8308\n",
      "Epoch 36/100\n",
      "313/313 [==============================] - 63s 201ms/step - loss: 0.1577 - accuracy: 0.9423 - val_loss: 0.2721 - val_accuracy: 0.9183\n",
      "Epoch 37/100\n",
      "313/313 [==============================] - 64s 203ms/step - loss: 0.1632 - accuracy: 0.9425 - val_loss: 0.2800 - val_accuracy: 0.9095\n",
      "Epoch 38/100\n",
      "313/313 [==============================] - 64s 205ms/step - loss: 0.1638 - accuracy: 0.9390 - val_loss: 0.3035 - val_accuracy: 0.8989\n",
      "Epoch 39/100\n",
      "313/313 [==============================] - 63s 203ms/step - loss: 0.1745 - accuracy: 0.9386 - val_loss: 0.3223 - val_accuracy: 0.9048\n",
      "Epoch 40/100\n",
      "313/313 [==============================] - 65s 207ms/step - loss: 0.1727 - accuracy: 0.9376 - val_loss: 0.2955 - val_accuracy: 0.9083\n",
      "Epoch 41/100\n",
      "313/313 [==============================] - 64s 203ms/step - loss: 0.1605 - accuracy: 0.9431 - val_loss: 0.2946 - val_accuracy: 0.9107\n",
      "Epoch 42/100\n",
      "313/313 [==============================] - 64s 204ms/step - loss: 0.1561 - accuracy: 0.9432 - val_loss: 0.2906 - val_accuracy: 0.9172\n",
      "Epoch 43/100\n",
      "313/313 [==============================] - 64s 204ms/step - loss: 0.1779 - accuracy: 0.9392 - val_loss: 0.3243 - val_accuracy: 0.8989\n",
      "Epoch 44/100\n",
      "313/313 [==============================] - 64s 205ms/step - loss: 0.1622 - accuracy: 0.9421 - val_loss: 0.3348 - val_accuracy: 0.8919\n",
      "Epoch 45/100\n",
      "313/313 [==============================] - 64s 206ms/step - loss: 0.1636 - accuracy: 0.9398 - val_loss: 0.2984 - val_accuracy: 0.9083\n",
      "Epoch 46/100\n",
      "313/313 [==============================] - 64s 204ms/step - loss: 0.1612 - accuracy: 0.9402 - val_loss: 0.2648 - val_accuracy: 0.9142\n",
      "Epoch 47/100\n",
      "313/313 [==============================] - 65s 206ms/step - loss: 0.1590 - accuracy: 0.9420 - val_loss: 0.2611 - val_accuracy: 0.9148\n",
      "Epoch 48/100\n",
      "313/313 [==============================] - 65s 209ms/step - loss: 0.1764 - accuracy: 0.9366 - val_loss: 0.3332 - val_accuracy: 0.8995\n",
      "Epoch 49/100\n",
      "313/313 [==============================] - 375s 1s/step - loss: 0.1587 - accuracy: 0.9455 - val_loss: 0.2727 - val_accuracy: 0.9095\n",
      "Epoch 50/100\n",
      "313/313 [==============================] - 65s 208ms/step - loss: 0.1532 - accuracy: 0.9428 - val_loss: 0.3454 - val_accuracy: 0.8866\n",
      "Epoch 51/100\n",
      "313/313 [==============================] - 67s 213ms/step - loss: 0.1671 - accuracy: 0.9402 - val_loss: 0.3221 - val_accuracy: 0.9072\n",
      "Epoch 52/100\n",
      "313/313 [==============================] - 63s 201ms/step - loss: 0.1583 - accuracy: 0.9428 - val_loss: 0.2981 - val_accuracy: 0.9089\n",
      "Epoch 53/100\n",
      "313/313 [==============================] - 64s 205ms/step - loss: 0.1545 - accuracy: 0.9471 - val_loss: 0.3301 - val_accuracy: 0.9048\n",
      "Epoch 54/100\n",
      "313/313 [==============================] - 65s 209ms/step - loss: 0.1544 - accuracy: 0.9462 - val_loss: 0.3291 - val_accuracy: 0.9025\n",
      "Epoch 55/100\n",
      "313/313 [==============================] - 64s 203ms/step - loss: 0.1614 - accuracy: 0.9410 - val_loss: 0.3528 - val_accuracy: 0.8884\n",
      "Epoch 56/100\n"
     ]
    },
    {
     "name": "stdout",
     "output_type": "stream",
     "text": [
      "313/313 [==============================] - 62s 200ms/step - loss: 0.1531 - accuracy: 0.9444 - val_loss: 0.3141 - val_accuracy: 0.9166\n",
      "Epoch 57/100\n",
      "313/313 [==============================] - 66s 210ms/step - loss: 0.1586 - accuracy: 0.9415 - val_loss: 0.3756 - val_accuracy: 0.8778\n",
      "Epoch 58/100\n",
      "313/313 [==============================] - 63s 203ms/step - loss: 0.1636 - accuracy: 0.9425 - val_loss: 0.3552 - val_accuracy: 0.8942\n",
      "Epoch 59/100\n",
      "313/313 [==============================] - 59s 187ms/step - loss: 0.1403 - accuracy: 0.9499 - val_loss: 0.3160 - val_accuracy: 0.9119\n",
      "Epoch 60/100\n",
      "313/313 [==============================] - 63s 200ms/step - loss: 0.1590 - accuracy: 0.9421 - val_loss: 0.3483 - val_accuracy: 0.8937\n",
      "Epoch 61/100\n",
      "313/313 [==============================] - 73s 233ms/step - loss: 0.1528 - accuracy: 0.9450 - val_loss: 0.3018 - val_accuracy: 0.9042\n",
      "Epoch 62/100\n",
      "313/313 [==============================] - 65s 209ms/step - loss: 0.1577 - accuracy: 0.9436 - val_loss: 0.2579 - val_accuracy: 0.9201\n",
      "Epoch 63/100\n",
      "313/313 [==============================] - 65s 209ms/step - loss: 0.1637 - accuracy: 0.9439 - val_loss: 0.3774 - val_accuracy: 0.8848\n",
      "Epoch 64/100\n",
      "313/313 [==============================] - 63s 201ms/step - loss: 0.1657 - accuracy: 0.9374 - val_loss: 0.2893 - val_accuracy: 0.9154\n",
      "Epoch 65/100\n",
      "313/313 [==============================] - 64s 204ms/step - loss: 0.1557 - accuracy: 0.9449 - val_loss: 0.3584 - val_accuracy: 0.8901\n",
      "Epoch 66/100\n",
      "313/313 [==============================] - 63s 202ms/step - loss: 0.1587 - accuracy: 0.9413 - val_loss: 0.2678 - val_accuracy: 0.9042\n",
      "Epoch 67/100\n",
      "313/313 [==============================] - 63s 201ms/step - loss: 0.1538 - accuracy: 0.9447 - val_loss: 0.2713 - val_accuracy: 0.9224\n",
      "Epoch 68/100\n",
      "313/313 [==============================] - 56s 178ms/step - loss: 0.1560 - accuracy: 0.9430 - val_loss: 0.3363 - val_accuracy: 0.8942\n",
      "Epoch 69/100\n",
      "313/313 [==============================] - 53s 170ms/step - loss: 0.1664 - accuracy: 0.9399 - val_loss: 0.3109 - val_accuracy: 0.9066\n",
      "Epoch 70/100\n",
      "313/313 [==============================] - 53s 169ms/step - loss: 0.1482 - accuracy: 0.9452 - val_loss: 0.2711 - val_accuracy: 0.9136\n",
      "Epoch 71/100\n",
      "313/313 [==============================] - 53s 170ms/step - loss: 0.1495 - accuracy: 0.9453 - val_loss: 0.2898 - val_accuracy: 0.9095\n",
      "Epoch 72/100\n",
      "313/313 [==============================] - 52s 165ms/step - loss: 0.1518 - accuracy: 0.9415 - val_loss: 0.2783 - val_accuracy: 0.9136\n",
      "Epoch 73/100\n",
      "313/313 [==============================] - 52s 167ms/step - loss: 0.1617 - accuracy: 0.9415 - val_loss: 0.3850 - val_accuracy: 0.8819\n",
      "Epoch 74/100\n",
      "313/313 [==============================] - 52s 166ms/step - loss: 0.1523 - accuracy: 0.9452 - val_loss: 0.2865 - val_accuracy: 0.9160\n",
      "Epoch 75/100\n",
      "313/313 [==============================] - 52s 166ms/step - loss: 0.1637 - accuracy: 0.9431 - val_loss: 0.2711 - val_accuracy: 0.9242\n",
      "Epoch 76/100\n",
      "313/313 [==============================] - 52s 167ms/step - loss: 0.1500 - accuracy: 0.9451 - val_loss: 0.2626 - val_accuracy: 0.9125\n",
      "Epoch 77/100\n",
      "313/313 [==============================] - 52s 166ms/step - loss: 0.1397 - accuracy: 0.9487 - val_loss: 0.3005 - val_accuracy: 0.9154\n",
      "Epoch 78/100\n",
      "313/313 [==============================] - 51s 164ms/step - loss: 0.1645 - accuracy: 0.9406 - val_loss: 0.3203 - val_accuracy: 0.9136\n",
      "Epoch 79/100\n",
      "313/313 [==============================] - 45s 144ms/step - loss: 0.1536 - accuracy: 0.9427 - val_loss: 0.3189 - val_accuracy: 0.9125\n",
      "Epoch 80/100\n",
      "313/313 [==============================] - 45s 145ms/step - loss: 0.1526 - accuracy: 0.9448 - val_loss: 0.2615 - val_accuracy: 0.9189\n",
      "Epoch 81/100\n",
      "313/313 [==============================] - 53s 170ms/step - loss: 0.1547 - accuracy: 0.9444 - val_loss: 0.2586 - val_accuracy: 0.9183\n",
      "Epoch 82/100\n",
      "313/313 [==============================] - 53s 170ms/step - loss: 0.1458 - accuracy: 0.9463 - val_loss: 0.3488 - val_accuracy: 0.9019\n",
      "Epoch 83/100\n",
      "313/313 [==============================] - 53s 168ms/step - loss: 0.1565 - accuracy: 0.9431 - val_loss: 0.2589 - val_accuracy: 0.9142\n",
      "Epoch 84/100\n",
      "313/313 [==============================] - 52s 167ms/step - loss: 0.1522 - accuracy: 0.9442 - val_loss: 0.3940 - val_accuracy: 0.8831\n",
      "Epoch 85/100\n",
      "313/313 [==============================] - 52s 165ms/step - loss: 0.1521 - accuracy: 0.9450 - val_loss: 0.2815 - val_accuracy: 0.9166\n",
      "Epoch 86/100\n",
      "313/313 [==============================] - 53s 168ms/step - loss: 0.1458 - accuracy: 0.9460 - val_loss: 0.3966 - val_accuracy: 0.8784\n",
      "Epoch 87/100\n",
      "313/313 [==============================] - 56s 180ms/step - loss: 0.1493 - accuracy: 0.9470 - val_loss: 0.2428 - val_accuracy: 0.9254\n",
      "Epoch 88/100\n",
      "313/313 [==============================] - 57s 182ms/step - loss: 0.1567 - accuracy: 0.9421 - val_loss: 0.3271 - val_accuracy: 0.9007\n",
      "Epoch 89/100\n",
      "313/313 [==============================] - 44s 142ms/step - loss: 0.1589 - accuracy: 0.9442 - val_loss: 0.2790 - val_accuracy: 0.9142\n",
      "Epoch 90/100\n",
      "313/313 [==============================] - 44s 141ms/step - loss: 0.1452 - accuracy: 0.9477 - val_loss: 0.3428 - val_accuracy: 0.9042\n",
      "Epoch 91/100\n",
      "313/313 [==============================] - 47s 149ms/step - loss: 0.1585 - accuracy: 0.9400 - val_loss: 0.3546 - val_accuracy: 0.8872\n",
      "Epoch 92/100\n",
      "313/313 [==============================] - 51s 163ms/step - loss: 0.1338 - accuracy: 0.9530 - val_loss: 0.3631 - val_accuracy: 0.8937\n",
      "Epoch 93/100\n",
      "313/313 [==============================] - 55s 176ms/step - loss: 0.1533 - accuracy: 0.9431 - val_loss: 0.3236 - val_accuracy: 0.9107\n",
      "Epoch 94/100\n",
      "313/313 [==============================] - 56s 180ms/step - loss: 0.1684 - accuracy: 0.9412 - val_loss: 0.3087 - val_accuracy: 0.8984\n",
      "Epoch 95/100\n",
      "313/313 [==============================] - 56s 180ms/step - loss: 0.1499 - accuracy: 0.9473 - val_loss: 0.2855 - val_accuracy: 0.9130\n",
      "Epoch 96/100\n",
      "313/313 [==============================] - 58s 185ms/step - loss: 0.1579 - accuracy: 0.9403 - val_loss: 0.3054 - val_accuracy: 0.9136\n",
      "Epoch 97/100\n",
      "313/313 [==============================] - 54s 173ms/step - loss: 0.1622 - accuracy: 0.9403 - val_loss: 0.2979 - val_accuracy: 0.9195\n",
      "Epoch 98/100\n",
      "313/313 [==============================] - 55s 176ms/step - loss: 0.1514 - accuracy: 0.9470 - val_loss: 0.2568 - val_accuracy: 0.9230\n",
      "Epoch 99/100\n",
      "313/313 [==============================] - 46s 148ms/step - loss: 0.1466 - accuracy: 0.9483 - val_loss: 0.3327 - val_accuracy: 0.8948\n",
      "Epoch 100/100\n",
      "313/313 [==============================] - 46s 146ms/step - loss: 0.1440 - accuracy: 0.9497 - val_loss: 0.2618 - val_accuracy: 0.9207\n"
     ]
    }
   ],
   "source": [
    "from keras.preprocessing.image import ImageDataGenerator\n",
    "train_datagen = ImageDataGenerator(\n",
    "        rescale=1./255,\n",
    "        shear_range=0.2,\n",
    "        zoom_range=0.2,\n",
    "        horizontal_flip=True)\n",
    "\n",
    "test_datagen = ImageDataGenerator(rescale=1./255)\n",
    "\n",
    "training_set = train_datagen.flow_from_directory(\n",
    "        r'C:\\Users\\touheed\\Documents\\Adatasets\\tomato\\train',\n",
    "        target_size=(64, 64),\n",
    "        batch_size=32,\n",
    "        class_mode='binary')\n",
    "\n",
    "test_set = test_datagen.flow_from_directory(\n",
    "        r'C:\\Users\\touheed\\Documents\\Adatasets\\tomato\\val',\n",
    "        target_size=(64, 64),\n",
    "        batch_size=32,\n",
    "        class_mode='binary')\n",
    "\n",
    "r=CNN_Classifier.fit(\n",
    "        training_set,\n",
    "        steps_per_epoch=len(training_set),\n",
    "        epochs=100,\n",
    "        validation_data=test_set,\n",
    "        \n",
    "        validation_steps=len(test_set))"
   ]
  },
  {
   "cell_type": "code",
   "execution_count": 20,
   "id": "d01afddc",
   "metadata": {},
   "outputs": [
    {
     "name": "stdout",
     "output_type": "stream",
     "text": [
      "313/313 [==============================] - 275s 882ms/step - loss: 0.1322 - accuracy: 0.9504\n"
     ]
    }
   ],
   "source": [
    "scores = CNN_Classifier.evaluate(training_set)"
   ]
  },
  {
   "cell_type": "markdown",
   "id": "5cc4627e",
   "metadata": {},
   "source": [
    "# Saving the Model"
   ]
  },
  {
   "cell_type": "code",
   "execution_count": 19,
   "id": "f84d12d0",
   "metadata": {},
   "outputs": [],
   "source": [
    "import os .path\n",
    "if os.path.isfile(r'C:\\Users\\touheed\\Documents\\potato Model\\tomato_model.h5') is False:\n",
    "    CNN_Classifier.save(r'C:\\Users\\touheed\\Documents\\potato Model\\tomato_model.h5')"
   ]
  },
  {
   "cell_type": "markdown",
   "id": "0f1262ca",
   "metadata": {},
   "source": [
    "# Plotting"
   ]
  },
  {
   "cell_type": "code",
   "execution_count": 25,
   "id": "21e27f38",
   "metadata": {},
   "outputs": [
    {
     "data": {
      "image/png": "[encoded data removed]",
      "text/plain": [
       "<Figure size 432x288 with 1 Axes>"
      ]
     },
     "metadata": {
      "needs_background": "light"
     },
     "output_type": "display_data"
    },
    {
     "data": {
      "image/png": "[encoded data removed]",
      "text/plain": [
       "<Figure size 432x288 with 1 Axes>"
      ]
     },
     "metadata": {
      "needs_background": "light"
     },
     "output_type": "display_data"
    },
    {
     "data": {
      "text/plain": [
       "<Figure size 432x288 with 0 Axes>"
      ]
     },
     "metadata": {},
     "output_type": "display_data"
    }
   ],
   "source": [
    "import matplotlib.pyplot as plt\n",
    "# plot the loss\n",
    "plt.plot(r.history['loss'], label='train loss')\n",
    "plt.plot(r.history['val_loss'], label='val loss')\n",
    "plt.legend()\n",
    "plt.show()\n",
    "plt.savefig('LossVal_loss')\n",
    "\n",
    "# plot the accuracy\n",
    "plt.plot(r.history['accuracy'], label='train acc')\n",
    "plt.plot(r.history['val_accuracy'], label='val acc')\n",
    "plt.legend()\n",
    "plt.show()\n",
    "plt.savefig('AccVal_acc')"
   ]
  },
  {
   "cell_type": "markdown",
   "id": "444833bc",
   "metadata": {},
   "source": [
    "# Defining Classes"
   ]
  },
  {
   "cell_type": "code",
   "execution_count": 21,
   "id": "1a7edcc9",
   "metadata": {},
   "outputs": [
    {
     "data": {
      "text/plain": [
       "{'Tomato___Bacterial_spot': 0,\n",
       " 'Tomato___Early_blight': 1,\n",
       " 'Tomato___Late_blight': 2,\n",
       " 'Tomato___Leaf_Mold': 3,\n",
       " 'Tomato___Septoria_leaf_spot': 4,\n",
       " 'Tomato___Spider_mites Two-spotted_spider_mite': 5,\n",
       " 'Tomato___Target_Spot': 6,\n",
       " 'Tomato___Tomato_Yellow_Leaf_Curl_Virus': 7,\n",
       " 'Tomato___Tomato_mosaic_virus': 8,\n",
       " 'Tomato___healthy': 9}"
      ]
     },
     "execution_count": 21,
     "metadata": {},
     "output_type": "execute_result"
    }
   ],
   "source": [
    "training_set.class_indices"
   ]
  },
  {
   "cell_type": "code",
   "execution_count": 22,
   "id": "276b275a",
   "metadata": {},
   "outputs": [
    {
     "data": {
      "text/plain": [
       "['Tomato___Bacterial_spot',\n",
       " 'Tomato___Early_blight',\n",
       " 'Tomato___Late_blight',\n",
       " 'Tomato___Leaf_Mold',\n",
       " 'Tomato___Septoria_leaf_spot',\n",
       " 'Tomato___Spider_mites Two-spotted_spider_mite',\n",
       " 'Tomato___Target_Spot',\n",
       " 'Tomato___Tomato_Yellow_Leaf_Curl_Virus',\n",
       " 'Tomato___Tomato_mosaic_virus',\n",
       " 'Tomato___healthy']"
      ]
     },
     "execution_count": 22,
     "metadata": {},
     "output_type": "execute_result"
    }
   ],
   "source": [
    "class_names = list(training_set.class_indices.keys())\n",
    "class_names"
   ]
  },
  {
   "cell_type": "code",
   "execution_count": 23,
   "id": "5f30ef7f",
   "metadata": {},
   "outputs": [
    {
     "name": "stdout",
     "output_type": "stream",
     "text": [
      "[[[0.6666667  0.6039216  0.6431373 ]\n",
      "  [0.6666667  0.6039216  0.6431373 ]\n",
      "  [0.6666667  0.6039216  0.6431373 ]\n",
      "  ...\n",
      "  [0.41960788 0.35686275 0.39607847]\n",
      "  [0.41960788 0.35686275 0.39607847]\n",
      "  [0.41960788 0.35686275 0.39607847]]\n",
      "\n",
      " [[0.6711542  0.6084091  0.6476248 ]\n",
      "  [0.6711542  0.6084091  0.6476248 ]\n",
      "  [0.6711542  0.6084091  0.6476248 ]\n",
      "  ...\n",
      "  [0.3956746  0.33292946 0.37214518]\n",
      "  [0.3956746  0.33292946 0.37214518]\n",
      "  [0.3956746  0.33292946 0.37214518]]\n",
      "\n",
      " [[0.66582847 0.6030834  0.64229906]\n",
      "  [0.66582847 0.6030834  0.64229906]\n",
      "  [0.66582847 0.6030834  0.64229906]\n",
      "  ...\n",
      "  [0.38364395 0.32089883 0.36011454]\n",
      "  [0.38364395 0.32089883 0.36011454]\n",
      "  [0.38364395 0.32089883 0.36011454]]\n",
      "\n",
      " ...\n",
      "\n",
      " [[0.7686275  0.70980394 0.72156864]\n",
      "  [0.7686275  0.70980394 0.72156864]\n",
      "  [0.7686275  0.70980394 0.72156864]\n",
      "  ...\n",
      "  [0.44474635 0.38200122 0.3859228 ]\n",
      "  [0.44474635 0.38200122 0.3859228 ]\n",
      "  [0.44474635 0.38200122 0.3859228 ]]\n",
      "\n",
      " [[0.76135033 0.70252675 0.7142915 ]\n",
      "  [0.76135033 0.70252675 0.7142915 ]\n",
      "  [0.76135033 0.70252675 0.7142915 ]\n",
      "  ...\n",
      "  [0.47410595 0.41136086 0.41528243]\n",
      "  [0.47410595 0.41136086 0.41528243]\n",
      "  [0.47410595 0.41136086 0.41528243]]\n",
      "\n",
      " [[0.7568628  0.69803923 0.70980394]\n",
      "  [0.7568628  0.69803923 0.70980394]\n",
      "  [0.7568628  0.69803923 0.70980394]\n",
      "  ...\n",
      "  [0.49803925 0.43529415 0.43921572]\n",
      "  [0.49803925 0.43529415 0.43921572]\n",
      "  [0.49803925 0.43529415 0.43921572]]]\n"
     ]
    }
   ],
   "source": [
    "count=0\n",
    "for image_batch, label_batch in training_set:\n",
    "#     print(label_batch)\n",
    "    print(image_batch[0])\n",
    "    break\n"
   ]
  },
  {
   "cell_type": "markdown",
   "id": "a16a1a97",
   "metadata": {},
   "source": [
    "# Run prediction on a sample image"
   ]
  },
  {
   "cell_type": "code",
   "execution_count": 30,
   "id": "78375862",
   "metadata": {},
   "outputs": [
    {
     "name": "stdout",
     "output_type": "stream",
     "text": [
      "first image to predict\n",
      "actual label: Tomato___Late_blight\n",
      "1/1 [==============================] - 0s 62ms/step\n",
      "predicted label: Tomato___Late_blight\n"
     ]
    },
    {
     "data": {
      "image/png": "[encoded data removed]",
      "text/plain": [
       "<Figure size 432x288 with 1 Axes>"
      ]
     },
     "metadata": {
      "needs_background": "light"
     },
     "output_type": "display_data"
    }
   ],
   "source": [
    "import numpy as np\n",
    "\n",
    "\n",
    "for image_batch, label_batch in test_set:\n",
    "    first_image = image_batch[0]\n",
    "    first_label = int(label_batch[0])\n",
    "    \n",
    "    print(\"first image to predict\")\n",
    "    plt.imshow(first_image)\n",
    "    print(\"actual label:\",class_names[first_label])\n",
    "    \n",
    "    batch_prediction = CNN_Classifier.predict(image_batch)\n",
    "    print(\"predicted label:\",class_names[np.argmax(batch_prediction[0])])\n",
    "    \n",
    "    break"
   ]
  },
  {
   "cell_type": "code",
   "execution_count": null,
   "id": "e9e33334",
   "metadata": {},
   "outputs": [],
   "source": []
  }
 ],
 "metadata": {
  "kernelspec": {
   "display_name": "Python 3 (ipykernel)",
   "language": "python",
   "name": "python3"
  },
  "language_info": {
   "codemirror_mode": {
    "name": "ipython",
    "version": 3
   },
   "file_extension": ".py",
   "mimetype": "text/x-python",
   "name": "python",
   "nbconvert_exporter": "python",
   "pygments_lexer": "ipython3",
   "version": "3.9.12"
  }
 },
 "nbformat": 4,
 "nbformat_minor": 5
}
